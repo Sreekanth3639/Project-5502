{
 "cells": [
  {
   "cell_type": "markdown",
   "metadata": {
    "id": "4SUvtSLX7Zcv"
   },
   "source": [
    "# Make Me Data Science VII"
   ]
  },
  {
   "cell_type": "markdown",
   "metadata": {
    "id": "RpWcbBh6rAKQ"
   },
   "source": [
    "# Part 1 - Create Data"
   ]
  },
  {
   "cell_type": "markdown",
   "metadata": {
    "id": "frVC5mVHqhlk"
   },
   "source": [
    "## Prepare PrepPy"
   ]
  },
  {
   "cell_type": "code",
   "execution_count": null,
   "metadata": {
    "id": "yqYq3ljJNh0l"
   },
   "outputs": [],
   "source": [
    "! git clone https://github.com/gitmystuff/preppy.git"
   ]
  },
  {
   "cell_type": "code",
   "execution_count": null,
   "metadata": {
    "id": "YnM_0OIpNh0m"
   },
   "outputs": [],
   "source": [
    "# import shutil\n",
    "\n",
    "# # Source file path (within your Drive)\n",
    "# source_file = '/content/drive/MyDrive/Colab Notebooks/preppy report.py'\n",
    "\n",
    "# # Destination path (root of your Drive)\n",
    "# destination_path = '/content/preppy/utils/report.py'\n",
    "\n",
    "# # Copy the file\n",
    "# shutil.copy(source_file, destination_path)"
   ]
  },
  {
   "cell_type": "markdown",
   "metadata": {
    "id": "41J_gAiDilv9"
   },
   "source": [
    "## Create the Data"
   ]
  },
  {
   "cell_type": "markdown",
   "metadata": {
    "id": "FMVaAmuqAWhk"
   },
   "source": [
    "### Seed the Project"
   ]
  },
  {
   "cell_type": "code",
   "execution_count": 3,
   "metadata": {
    "id": "50T0AeDDAaBx"
   },
   "outputs": [],
   "source": [
    "# seed\n",
    "import random\n",
    "\n",
    "seed_id = 11797610\n",
    "random_state = random.seed(seed_id)\n",
    "random_state"
   ]
  },
  {
   "cell_type": "markdown",
   "metadata": {
    "id": "_j1l2Lr8_bS4"
   },
   "source": [
    "### Faker"
   ]
  },
  {
   "cell_type": "code",
   "execution_count": 4,
   "metadata": {
    "id": "hViR5zhSGxq_"
   },
   "outputs": [],
   "source": [
    "# pip install Faker"
   ]
  },
  {
   "cell_type": "code",
   "execution_count": 5,
   "metadata": {
    "id": "Qpa4mbcgKoEb"
   },
   "outputs": [],
   "source": [
    "state_names=[\"Alabama\", \"Alaska\", \"Arizona\", \"Arkansas\", \"California\", \"Colorado\", \"Connecticut\", \"Delaware\", \"Florida\", \"Georgia\", \"Hawaii\", \"Idaho\", \"Illinois\", \"Indiana\", \"Iowa\", \"Kansas\", \"Kentucky\", \"Louisiana\", \"Maine\", \"Maryland\", \"Massachusetts\", \"Michigan\", \"Minnesota\", \"Mississippi\", \"Missouri\", \"Montana\", \"Nebraska\", \"Nevada\", \"New Hampshire\", \"New Jersey\", \"New Mexico\", \"New York\", \"North Carolina\", \"North Dakota\", \"Ohio\", \"Oklahoma\", \"Oregon\", \"Pennsylvania\", \"Rhode Island\", \"South Carolina\", \"South Dakota\", \"Tennessee\", \"Texas\", \"Utah\", \"Vermont\", \"Virginia\", \"Washington\", \"West Virginia\", \"Wisconsin\", \"Wyoming\"]"
   ]
  },
  {
   "cell_type": "code",
   "execution_count": 6,
   "metadata": {
    "colab": {
     "base_uri": "https://localhost:8080/",
     "height": 414
    },
    "id": "HqvkXvuWKbXL",
    "outputId": "3e7a3108-a2bc-42d3-b04e-d592833cc0ac"
   },
   "outputs": [
    {
     "data": {
      "text/html": [
       "<div>\n",
       "<style scoped>\n",
       "    .dataframe tbody tr th:only-of-type {\n",
       "        vertical-align: middle;\n",
       "    }\n",
       "\n",
       "    .dataframe tbody tr th {\n",
       "        vertical-align: top;\n",
       "    }\n",
       "\n",
       "    .dataframe thead th {\n",
       "        text-align: right;\n",
       "    }\n",
       "</style>\n",
       "<table border=\"1\" class=\"dataframe\">\n",
       "  <thead>\n",
       "    <tr style=\"text-align: right;\">\n",
       "      <th></th>\n",
       "      <th>binary</th>\n",
       "      <th>given_name</th>\n",
       "      <th>surname</th>\n",
       "      <th>date_of_birth</th>\n",
       "      <th>phone_number</th>\n",
       "      <th>email</th>\n",
       "      <th>address</th>\n",
       "      <th>city</th>\n",
       "      <th>state</th>\n",
       "      <th>zipcode</th>\n",
       "    </tr>\n",
       "  </thead>\n",
       "  <tbody>\n",
       "    <tr>\n",
       "      <th>0</th>\n",
       "      <td>binary_1</td>\n",
       "      <td>Joann</td>\n",
       "      <td>Brown</td>\n",
       "      <td>1914-01-13</td>\n",
       "      <td>2486144013</td>\n",
       "      <td>yburke@example.org</td>\n",
       "      <td>46583 Julie Rue Suite 948\\nJonesfurt, MN 27847</td>\n",
       "      <td>Port David</td>\n",
       "      <td>Tennessee</td>\n",
       "      <td>46750</td>\n",
       "    </tr>\n",
       "    <tr>\n",
       "      <th>1</th>\n",
       "      <td>binary_1</td>\n",
       "      <td>Michelle</td>\n",
       "      <td>Burnett</td>\n",
       "      <td>1951-02-13</td>\n",
       "      <td>622-397-0672x17104</td>\n",
       "      <td>ericadavis@example.com</td>\n",
       "      <td>90736 Richardson Neck Apt. 059\\nNew Jordanside...</td>\n",
       "      <td>East Veronicaville</td>\n",
       "      <td>North Dakota</td>\n",
       "      <td>47799</td>\n",
       "    </tr>\n",
       "    <tr>\n",
       "      <th>2</th>\n",
       "      <td>binary_1</td>\n",
       "      <td>Heidi</td>\n",
       "      <td>Cohen</td>\n",
       "      <td>1967-01-24</td>\n",
       "      <td>001-784-689-7718x885</td>\n",
       "      <td>gilmorekristine@example.net</td>\n",
       "      <td>4929 Jennifer Radial\\nJessefort, NC 56017</td>\n",
       "      <td>West Jamesport</td>\n",
       "      <td>Missouri</td>\n",
       "      <td>47923</td>\n",
       "    </tr>\n",
       "    <tr>\n",
       "      <th>3</th>\n",
       "      <td>binary_1</td>\n",
       "      <td>Kimberly</td>\n",
       "      <td>Brown</td>\n",
       "      <td>1987-02-17</td>\n",
       "      <td>001-862-374-5496x67084</td>\n",
       "      <td>justinhernandez@example.org</td>\n",
       "      <td>367 Figueroa Orchard Suite 428\\nWest Randy, ME...</td>\n",
       "      <td>North Mark</td>\n",
       "      <td>Arizona</td>\n",
       "      <td>71276</td>\n",
       "    </tr>\n",
       "    <tr>\n",
       "      <th>4</th>\n",
       "      <td>binary_1</td>\n",
       "      <td>Michelle</td>\n",
       "      <td>Clark</td>\n",
       "      <td>1968-09-20</td>\n",
       "      <td>973-962-4494x3015</td>\n",
       "      <td>kherring@example.org</td>\n",
       "      <td>8977 Jonathan Mountains\\nJimhaven, OH 68140</td>\n",
       "      <td>North Bethmouth</td>\n",
       "      <td>Pennsylvania</td>\n",
       "      <td>45169</td>\n",
       "    </tr>\n",
       "  </tbody>\n",
       "</table>\n",
       "</div>"
      ],
      "text/plain": [
       "     binary given_name  surname date_of_birth            phone_number  \\\n",
       "0  binary_1      Joann    Brown    1914-01-13              2486144013   \n",
       "1  binary_1   Michelle  Burnett    1951-02-13      622-397-0672x17104   \n",
       "2  binary_1      Heidi    Cohen    1967-01-24    001-784-689-7718x885   \n",
       "3  binary_1   Kimberly    Brown    1987-02-17  001-862-374-5496x67084   \n",
       "4  binary_1   Michelle    Clark    1968-09-20       973-962-4494x3015   \n",
       "\n",
       "                         email  \\\n",
       "0           yburke@example.org   \n",
       "1       ericadavis@example.com   \n",
       "2  gilmorekristine@example.net   \n",
       "3  justinhernandez@example.org   \n",
       "4         kherring@example.org   \n",
       "\n",
       "                                             address                city  \\\n",
       "0     46583 Julie Rue Suite 948\\nJonesfurt, MN 27847          Port David   \n",
       "1  90736 Richardson Neck Apt. 059\\nNew Jordanside...  East Veronicaville   \n",
       "2          4929 Jennifer Radial\\nJessefort, NC 56017      West Jamesport   \n",
       "3  367 Figueroa Orchard Suite 428\\nWest Randy, ME...          North Mark   \n",
       "4        8977 Jonathan Mountains\\nJimhaven, OH 68140     North Bethmouth   \n",
       "\n",
       "          state zipcode  \n",
       "0     Tennessee   46750  \n",
       "1  North Dakota   47799  \n",
       "2      Missouri   47923  \n",
       "3       Arizona   71276  \n",
       "4  Pennsylvania   45169  "
      ]
     },
     "execution_count": 6,
     "metadata": {},
     "output_type": "execute_result"
    }
   ],
   "source": [
    "# create demographic data\n",
    "import numpy as np\n",
    "import pandas as pd\n",
    "from faker import Faker\n",
    "fake = Faker()\n",
    "\n",
    "output = []\n",
    "for x in range(1000):\n",
    "  binary = np.random.choice(['binary_1', 'binary_2'], p=[0.5, 0.5])\n",
    "  output.append({\n",
    "        'binary': binary, # sex assigned at birth\n",
    "        'given_name': fake.first_name_female() if binary=='binary_1' else fake.first_name_male(),\n",
    "        'surname': fake.last_name(),\n",
    "        'date_of_birth': fake.date_of_birth(),\n",
    "        'phone_number': fake.phone_number(),\n",
    "        'email': fake.email(),\n",
    "        'address': fake.address(),\n",
    "        'city': fake.city(),\n",
    "        'state': np.random.choice(state_names),\n",
    "        'zipcode': fake.zipcode(),\n",
    "        })\n",
    "\n",
    "demographics = pd.DataFrame(output)\n",
    "demographics.head()"
   ]
  },
  {
   "cell_type": "code",
   "execution_count": 7,
   "metadata": {
    "colab": {
     "base_uri": "https://localhost:8080/"
    },
    "id": "ZraWvumX7WkH",
    "outputId": "cc7c7fc4-5f64-4a20-ea5c-bbc28fcf6b9d"
   },
   "outputs": [
    {
     "name": "stdout",
     "output_type": "stream",
     "text": [
      "{'street_address': '80974 Jeffrey Mountains', 'city': 'West Benjamin', 'state': 'IL', 'zipcode': '82801'}\n"
     ]
    }
   ],
   "source": [
    "def parse_address_v2(text):\n",
    "  \"\"\"\n",
    "  Parses an address string into street address, city, state, and zipcode.\n",
    "  This version handles potential variations in the input format.\n",
    "\n",
    "  Args:\n",
    "    text: The address string to parse.\n",
    "\n",
    "  Returns:\n",
    "    A dictionary containing the parsed address components.\n",
    "  \"\"\"\n",
    "\n",
    "  try:\n",
    "    # Split the input into lines\n",
    "    lines = text.strip().split('\\n')\n",
    "\n",
    "    # Extract the street address from the first line\n",
    "    street_address = lines[0].strip()\n",
    "\n",
    "    # Extract the city, state, and zipcode from the second line\n",
    "    city_state_zip = lines[1].strip().split(',')\n",
    "    city = city_state_zip[0].strip()\n",
    "    state_zip = city_state_zip[1].strip().split()\n",
    "    state = state_zip[0].strip()\n",
    "    zipcode = state_zip[1].strip()\n",
    "\n",
    "    return {\n",
    "        'street_address': street_address,\n",
    "        'city': city,\n",
    "        'state': state,\n",
    "        'zipcode': zipcode\n",
    "    }\n",
    "\n",
    "  except (IndexError, ValueError):\n",
    "    return None\n",
    "\n",
    "# Example usage\n",
    "text = \"80974 Jeffrey Mountains\\nWest Benjamin, IL 82801\"\n",
    "address = parse_address_v2(text)\n",
    "\n",
    "if address:\n",
    "  print(address)\n",
    "else:\n",
    "  print(\"Could not parse the address.\")"
   ]
  },
  {
   "cell_type": "code",
   "execution_count": 8,
   "metadata": {
    "colab": {
     "base_uri": "https://localhost:8080/",
     "height": 434
    },
    "id": "dXjBEBKa7Ccq",
    "outputId": "729080d2-bb92-4f8d-e540-ae784cd00585"
   },
   "outputs": [
    {
     "data": {
      "text/html": [
       "<div>\n",
       "<style scoped>\n",
       "    .dataframe tbody tr th:only-of-type {\n",
       "        vertical-align: middle;\n",
       "    }\n",
       "\n",
       "    .dataframe tbody tr th {\n",
       "        vertical-align: top;\n",
       "    }\n",
       "\n",
       "    .dataframe thead th {\n",
       "        text-align: right;\n",
       "    }\n",
       "</style>\n",
       "<table border=\"1\" class=\"dataframe\">\n",
       "  <thead>\n",
       "    <tr style=\"text-align: right;\">\n",
       "      <th></th>\n",
       "      <th>binary</th>\n",
       "      <th>given_name</th>\n",
       "      <th>surname</th>\n",
       "      <th>date_of_birth</th>\n",
       "      <th>phone_number</th>\n",
       "      <th>email</th>\n",
       "      <th>address</th>\n",
       "      <th>city</th>\n",
       "      <th>state</th>\n",
       "      <th>zipcode</th>\n",
       "      <th>nu_address</th>\n",
       "      <th>nu_city</th>\n",
       "      <th>nu_state</th>\n",
       "      <th>nu_zipcode</th>\n",
       "    </tr>\n",
       "  </thead>\n",
       "  <tbody>\n",
       "    <tr>\n",
       "      <th>0</th>\n",
       "      <td>binary_1</td>\n",
       "      <td>Joann</td>\n",
       "      <td>Brown</td>\n",
       "      <td>1914-01-13</td>\n",
       "      <td>2486144013</td>\n",
       "      <td>yburke@example.org</td>\n",
       "      <td>46583 Julie Rue Suite 948\\nJonesfurt, MN 27847</td>\n",
       "      <td>Port David</td>\n",
       "      <td>Tennessee</td>\n",
       "      <td>46750</td>\n",
       "      <td>46583 Julie Rue Suite 948</td>\n",
       "      <td>Jonesfurt</td>\n",
       "      <td>MN</td>\n",
       "      <td>27847</td>\n",
       "    </tr>\n",
       "    <tr>\n",
       "      <th>1</th>\n",
       "      <td>binary_1</td>\n",
       "      <td>Michelle</td>\n",
       "      <td>Burnett</td>\n",
       "      <td>1951-02-13</td>\n",
       "      <td>622-397-0672x17104</td>\n",
       "      <td>ericadavis@example.com</td>\n",
       "      <td>90736 Richardson Neck Apt. 059\\nNew Jordanside...</td>\n",
       "      <td>East Veronicaville</td>\n",
       "      <td>North Dakota</td>\n",
       "      <td>47799</td>\n",
       "      <td>90736 Richardson Neck Apt. 059</td>\n",
       "      <td>New Jordanside</td>\n",
       "      <td>GA</td>\n",
       "      <td>29951</td>\n",
       "    </tr>\n",
       "    <tr>\n",
       "      <th>2</th>\n",
       "      <td>binary_1</td>\n",
       "      <td>Heidi</td>\n",
       "      <td>Cohen</td>\n",
       "      <td>1967-01-24</td>\n",
       "      <td>001-784-689-7718x885</td>\n",
       "      <td>gilmorekristine@example.net</td>\n",
       "      <td>4929 Jennifer Radial\\nJessefort, NC 56017</td>\n",
       "      <td>West Jamesport</td>\n",
       "      <td>Missouri</td>\n",
       "      <td>47923</td>\n",
       "      <td>4929 Jennifer Radial</td>\n",
       "      <td>Jessefort</td>\n",
       "      <td>NC</td>\n",
       "      <td>56017</td>\n",
       "    </tr>\n",
       "    <tr>\n",
       "      <th>3</th>\n",
       "      <td>binary_1</td>\n",
       "      <td>Kimberly</td>\n",
       "      <td>Brown</td>\n",
       "      <td>1987-02-17</td>\n",
       "      <td>001-862-374-5496x67084</td>\n",
       "      <td>justinhernandez@example.org</td>\n",
       "      <td>367 Figueroa Orchard Suite 428\\nWest Randy, ME...</td>\n",
       "      <td>North Mark</td>\n",
       "      <td>Arizona</td>\n",
       "      <td>71276</td>\n",
       "      <td>367 Figueroa Orchard Suite 428</td>\n",
       "      <td>West Randy</td>\n",
       "      <td>ME</td>\n",
       "      <td>99026</td>\n",
       "    </tr>\n",
       "    <tr>\n",
       "      <th>4</th>\n",
       "      <td>binary_1</td>\n",
       "      <td>Michelle</td>\n",
       "      <td>Clark</td>\n",
       "      <td>1968-09-20</td>\n",
       "      <td>973-962-4494x3015</td>\n",
       "      <td>kherring@example.org</td>\n",
       "      <td>8977 Jonathan Mountains\\nJimhaven, OH 68140</td>\n",
       "      <td>North Bethmouth</td>\n",
       "      <td>Pennsylvania</td>\n",
       "      <td>45169</td>\n",
       "      <td>8977 Jonathan Mountains</td>\n",
       "      <td>Jimhaven</td>\n",
       "      <td>OH</td>\n",
       "      <td>68140</td>\n",
       "    </tr>\n",
       "  </tbody>\n",
       "</table>\n",
       "</div>"
      ],
      "text/plain": [
       "     binary given_name  surname date_of_birth            phone_number  \\\n",
       "0  binary_1      Joann    Brown    1914-01-13              2486144013   \n",
       "1  binary_1   Michelle  Burnett    1951-02-13      622-397-0672x17104   \n",
       "2  binary_1      Heidi    Cohen    1967-01-24    001-784-689-7718x885   \n",
       "3  binary_1   Kimberly    Brown    1987-02-17  001-862-374-5496x67084   \n",
       "4  binary_1   Michelle    Clark    1968-09-20       973-962-4494x3015   \n",
       "\n",
       "                         email  \\\n",
       "0           yburke@example.org   \n",
       "1       ericadavis@example.com   \n",
       "2  gilmorekristine@example.net   \n",
       "3  justinhernandez@example.org   \n",
       "4         kherring@example.org   \n",
       "\n",
       "                                             address                city  \\\n",
       "0     46583 Julie Rue Suite 948\\nJonesfurt, MN 27847          Port David   \n",
       "1  90736 Richardson Neck Apt. 059\\nNew Jordanside...  East Veronicaville   \n",
       "2          4929 Jennifer Radial\\nJessefort, NC 56017      West Jamesport   \n",
       "3  367 Figueroa Orchard Suite 428\\nWest Randy, ME...          North Mark   \n",
       "4        8977 Jonathan Mountains\\nJimhaven, OH 68140     North Bethmouth   \n",
       "\n",
       "          state zipcode                      nu_address         nu_city  \\\n",
       "0     Tennessee   46750       46583 Julie Rue Suite 948       Jonesfurt   \n",
       "1  North Dakota   47799  90736 Richardson Neck Apt. 059  New Jordanside   \n",
       "2      Missouri   47923            4929 Jennifer Radial       Jessefort   \n",
       "3       Arizona   71276  367 Figueroa Orchard Suite 428      West Randy   \n",
       "4  Pennsylvania   45169         8977 Jonathan Mountains        Jimhaven   \n",
       "\n",
       "  nu_state nu_zipcode  \n",
       "0       MN      27847  \n",
       "1       GA      29951  \n",
       "2       NC      56017  \n",
       "3       ME      99026  \n",
       "4       OH      68140  "
      ]
     },
     "execution_count": 8,
     "metadata": {},
     "output_type": "execute_result"
    }
   ],
   "source": [
    "# Apply the parse_address function to each row of the 'address' column\n",
    "demographics[['nu_address', 'nu_city', 'nu_state', 'nu_zipcode']] = demographics['address'].apply(lambda x: pd.Series(parse_address_v2(x)))\n",
    "\n",
    "demographics.head()"
   ]
  },
  {
   "cell_type": "code",
   "execution_count": 9,
   "metadata": {
    "colab": {
     "base_uri": "https://localhost:8080/",
     "height": 258
    },
    "id": "x4Hz9Qpw71M7",
    "outputId": "0ceb1b0c-abe5-480a-8d23-535026c23b0c"
   },
   "outputs": [
    {
     "data": {
      "text/html": [
       "<div>\n",
       "<style scoped>\n",
       "    .dataframe tbody tr th:only-of-type {\n",
       "        vertical-align: middle;\n",
       "    }\n",
       "\n",
       "    .dataframe tbody tr th {\n",
       "        vertical-align: top;\n",
       "    }\n",
       "\n",
       "    .dataframe thead th {\n",
       "        text-align: right;\n",
       "    }\n",
       "</style>\n",
       "<table border=\"1\" class=\"dataframe\">\n",
       "  <thead>\n",
       "    <tr style=\"text-align: right;\">\n",
       "      <th></th>\n",
       "      <th>binary</th>\n",
       "      <th>given_name</th>\n",
       "      <th>surname</th>\n",
       "      <th>date_of_birth</th>\n",
       "      <th>phone_number</th>\n",
       "      <th>email</th>\n",
       "      <th>address</th>\n",
       "      <th>city</th>\n",
       "      <th>state</th>\n",
       "      <th>zipcode</th>\n",
       "    </tr>\n",
       "  </thead>\n",
       "  <tbody>\n",
       "    <tr>\n",
       "      <th>0</th>\n",
       "      <td>binary_1</td>\n",
       "      <td>Joann</td>\n",
       "      <td>Brown</td>\n",
       "      <td>1914-01-13</td>\n",
       "      <td>2486144013</td>\n",
       "      <td>yburke@example.org</td>\n",
       "      <td>46583 Julie Rue Suite 948</td>\n",
       "      <td>Jonesfurt</td>\n",
       "      <td>MN</td>\n",
       "      <td>27847</td>\n",
       "    </tr>\n",
       "    <tr>\n",
       "      <th>1</th>\n",
       "      <td>binary_1</td>\n",
       "      <td>Michelle</td>\n",
       "      <td>Burnett</td>\n",
       "      <td>1951-02-13</td>\n",
       "      <td>622-397-0672x17104</td>\n",
       "      <td>ericadavis@example.com</td>\n",
       "      <td>90736 Richardson Neck Apt. 059</td>\n",
       "      <td>New Jordanside</td>\n",
       "      <td>GA</td>\n",
       "      <td>29951</td>\n",
       "    </tr>\n",
       "    <tr>\n",
       "      <th>2</th>\n",
       "      <td>binary_1</td>\n",
       "      <td>Heidi</td>\n",
       "      <td>Cohen</td>\n",
       "      <td>1967-01-24</td>\n",
       "      <td>001-784-689-7718x885</td>\n",
       "      <td>gilmorekristine@example.net</td>\n",
       "      <td>4929 Jennifer Radial</td>\n",
       "      <td>Jessefort</td>\n",
       "      <td>NC</td>\n",
       "      <td>56017</td>\n",
       "    </tr>\n",
       "    <tr>\n",
       "      <th>3</th>\n",
       "      <td>binary_1</td>\n",
       "      <td>Kimberly</td>\n",
       "      <td>Brown</td>\n",
       "      <td>1987-02-17</td>\n",
       "      <td>001-862-374-5496x67084</td>\n",
       "      <td>justinhernandez@example.org</td>\n",
       "      <td>367 Figueroa Orchard Suite 428</td>\n",
       "      <td>West Randy</td>\n",
       "      <td>ME</td>\n",
       "      <td>99026</td>\n",
       "    </tr>\n",
       "    <tr>\n",
       "      <th>4</th>\n",
       "      <td>binary_1</td>\n",
       "      <td>Michelle</td>\n",
       "      <td>Clark</td>\n",
       "      <td>1968-09-20</td>\n",
       "      <td>973-962-4494x3015</td>\n",
       "      <td>kherring@example.org</td>\n",
       "      <td>8977 Jonathan Mountains</td>\n",
       "      <td>Jimhaven</td>\n",
       "      <td>OH</td>\n",
       "      <td>68140</td>\n",
       "    </tr>\n",
       "  </tbody>\n",
       "</table>\n",
       "</div>"
      ],
      "text/plain": [
       "     binary given_name  surname date_of_birth            phone_number  \\\n",
       "0  binary_1      Joann    Brown    1914-01-13              2486144013   \n",
       "1  binary_1   Michelle  Burnett    1951-02-13      622-397-0672x17104   \n",
       "2  binary_1      Heidi    Cohen    1967-01-24    001-784-689-7718x885   \n",
       "3  binary_1   Kimberly    Brown    1987-02-17  001-862-374-5496x67084   \n",
       "4  binary_1   Michelle    Clark    1968-09-20       973-962-4494x3015   \n",
       "\n",
       "                         email                         address  \\\n",
       "0           yburke@example.org       46583 Julie Rue Suite 948   \n",
       "1       ericadavis@example.com  90736 Richardson Neck Apt. 059   \n",
       "2  gilmorekristine@example.net            4929 Jennifer Radial   \n",
       "3  justinhernandez@example.org  367 Figueroa Orchard Suite 428   \n",
       "4         kherring@example.org         8977 Jonathan Mountains   \n",
       "\n",
       "             city state zipcode  \n",
       "0       Jonesfurt    MN   27847  \n",
       "1  New Jordanside    GA   29951  \n",
       "2       Jessefort    NC   56017  \n",
       "3      West Randy    ME   99026  \n",
       "4        Jimhaven    OH   68140  "
      ]
     },
     "execution_count": 9,
     "metadata": {},
     "output_type": "execute_result"
    }
   ],
   "source": [
    "# drop address, city, state, zipcode and rename nu_ etc.\n",
    "demographics.drop(['address', 'city', 'state', 'zipcode'], axis=1, inplace=True)\n",
    "demographics.rename(columns={'nu_address': 'address', 'nu_city': 'city', 'nu_state': 'state', 'nu_zipcode': 'zipcode'}, inplace=True)\n",
    "demographics.head()"
   ]
  },
  {
   "cell_type": "markdown",
   "metadata": {
    "id": "4A99Q0IknJCE"
   },
   "source": [
    "### Create Independent Variable Correlated with Class"
   ]
  },
  {
   "cell_type": "code",
   "execution_count": 10,
   "metadata": {
    "id": "n3VmXvwBnRr-"
   },
   "outputs": [],
   "source": [
    "import numpy as np\n",
    "import pandas as pd\n",
    "\n",
    "def generate_feature(df, class_col, coeff, intercept):\n",
    "    \"\"\"\n",
    "    Generates normally distributed feature data for a logistic regression model.\n",
    "\n",
    "    Args:\n",
    "        df: The pandas DataFrame containing the class column.\n",
    "        class_col: The name of the class column (containing 0s and 1s).\n",
    "        coeff: The coefficient for the feature in the logistic regression model.\n",
    "        intercept: The intercept of the logistic regression model.\n",
    "\n",
    "    Returns:\n",
    "        A pandas Series containing the generated feature data.\n",
    "    \"\"\"\n",
    "\n",
    "    # Generate probabilities based on the class\n",
    "    probs = np.random.rand(len(df))  # Initial random probabilities\n",
    "    probs = np.where(df[class_col] == 1, probs * 0.8 + 0.2, probs * 0.8)  # Adjust for class\n",
    "\n",
    "    # Apply the inverse logit (logit) function\n",
    "    logits = np.log(probs / (1 - probs))\n",
    "\n",
    "    # Calculate the feature values\n",
    "    feature_values = (logits - intercept) / coeff\n",
    "\n",
    "    return pd.Series(feature_values)\n",
    "\n"
   ]
  },
  {
   "cell_type": "markdown",
   "metadata": {
    "id": "kmOFYI7T_eoP"
   },
   "source": [
    "### Make Classification"
   ]
  },
  {
   "cell_type": "code",
   "execution_count": 11,
   "metadata": {
    "colab": {
     "base_uri": "https://localhost:8080/",
     "height": 365
    },
    "id": "1UYr8YXrJkX8",
    "outputId": "d4e531e1-3b60-4f78-cd91-bb1d6296c036"
   },
   "outputs": [
    {
     "data": {
      "text/html": [
       "<div>\n",
       "<style scoped>\n",
       "    .dataframe tbody tr th:only-of-type {\n",
       "        vertical-align: middle;\n",
       "    }\n",
       "\n",
       "    .dataframe tbody tr th {\n",
       "        vertical-align: top;\n",
       "    }\n",
       "\n",
       "    .dataframe thead th {\n",
       "        text-align: right;\n",
       "    }\n",
       "</style>\n",
       "<table border=\"1\" class=\"dataframe\">\n",
       "  <thead>\n",
       "    <tr style=\"text-align: right;\">\n",
       "      <th></th>\n",
       "      <th>binary</th>\n",
       "      <th>given_name</th>\n",
       "      <th>surname</th>\n",
       "      <th>date_of_birth</th>\n",
       "      <th>phone_number</th>\n",
       "      <th>email</th>\n",
       "      <th>address</th>\n",
       "      <th>city</th>\n",
       "      <th>state</th>\n",
       "      <th>zipcode</th>\n",
       "      <th>informative_1</th>\n",
       "      <th>informative_2</th>\n",
       "      <th>target</th>\n",
       "      <th>class</th>\n",
       "      <th>corr_feature_class</th>\n",
       "    </tr>\n",
       "  </thead>\n",
       "  <tbody>\n",
       "    <tr>\n",
       "      <th>0</th>\n",
       "      <td>binary_1</td>\n",
       "      <td>Joann</td>\n",
       "      <td>Brown</td>\n",
       "      <td>1914-01-13</td>\n",
       "      <td>2486144013</td>\n",
       "      <td>yburke@example.org</td>\n",
       "      <td>46583 Julie Rue Suite 948</td>\n",
       "      <td>Jonesfurt</td>\n",
       "      <td>MN</td>\n",
       "      <td>27847</td>\n",
       "      <td>-0.999102</td>\n",
       "      <td>-0.663860</td>\n",
       "      <td>-0.904224</td>\n",
       "      <td>1</td>\n",
       "      <td>-0.288387</td>\n",
       "    </tr>\n",
       "    <tr>\n",
       "      <th>1</th>\n",
       "      <td>binary_1</td>\n",
       "      <td>Michelle</td>\n",
       "      <td>Burnett</td>\n",
       "      <td>1951-02-13</td>\n",
       "      <td>622-397-0672x17104</td>\n",
       "      <td>ericadavis@example.com</td>\n",
       "      <td>90736 Richardson Neck Apt. 059</td>\n",
       "      <td>New Jordanside</td>\n",
       "      <td>GA</td>\n",
       "      <td>29951</td>\n",
       "      <td>1.246686</td>\n",
       "      <td>1.153597</td>\n",
       "      <td>2.324370</td>\n",
       "      <td>1</td>\n",
       "      <td>1.009529</td>\n",
       "    </tr>\n",
       "    <tr>\n",
       "      <th>2</th>\n",
       "      <td>binary_1</td>\n",
       "      <td>Heidi</td>\n",
       "      <td>Cohen</td>\n",
       "      <td>1967-01-24</td>\n",
       "      <td>001-784-689-7718x885</td>\n",
       "      <td>gilmorekristine@example.net</td>\n",
       "      <td>4929 Jennifer Radial</td>\n",
       "      <td>Jessefort</td>\n",
       "      <td>NC</td>\n",
       "      <td>56017</td>\n",
       "      <td>0.962777</td>\n",
       "      <td>0.859397</td>\n",
       "      <td>1.778217</td>\n",
       "      <td>1</td>\n",
       "      <td>2.581847</td>\n",
       "    </tr>\n",
       "    <tr>\n",
       "      <th>3</th>\n",
       "      <td>binary_1</td>\n",
       "      <td>Kimberly</td>\n",
       "      <td>Brown</td>\n",
       "      <td>1987-02-17</td>\n",
       "      <td>001-862-374-5496x67084</td>\n",
       "      <td>justinhernandez@example.org</td>\n",
       "      <td>367 Figueroa Orchard Suite 428</td>\n",
       "      <td>West Randy</td>\n",
       "      <td>ME</td>\n",
       "      <td>99026</td>\n",
       "      <td>-2.957441</td>\n",
       "      <td>2.033645</td>\n",
       "      <td>5.451235</td>\n",
       "      <td>1</td>\n",
       "      <td>4.793698</td>\n",
       "    </tr>\n",
       "    <tr>\n",
       "      <th>4</th>\n",
       "      <td>binary_1</td>\n",
       "      <td>Michelle</td>\n",
       "      <td>Clark</td>\n",
       "      <td>1968-09-20</td>\n",
       "      <td>973-962-4494x3015</td>\n",
       "      <td>kherring@example.org</td>\n",
       "      <td>8977 Jonathan Mountains</td>\n",
       "      <td>Jimhaven</td>\n",
       "      <td>OH</td>\n",
       "      <td>68140</td>\n",
       "      <td>1.141165</td>\n",
       "      <td>1.059449</td>\n",
       "      <td>2.153926</td>\n",
       "      <td>1</td>\n",
       "      <td>1.557657</td>\n",
       "    </tr>\n",
       "  </tbody>\n",
       "</table>\n",
       "</div>"
      ],
      "text/plain": [
       "     binary given_name  surname date_of_birth            phone_number  \\\n",
       "0  binary_1      Joann    Brown    1914-01-13              2486144013   \n",
       "1  binary_1   Michelle  Burnett    1951-02-13      622-397-0672x17104   \n",
       "2  binary_1      Heidi    Cohen    1967-01-24    001-784-689-7718x885   \n",
       "3  binary_1   Kimberly    Brown    1987-02-17  001-862-374-5496x67084   \n",
       "4  binary_1   Michelle    Clark    1968-09-20       973-962-4494x3015   \n",
       "\n",
       "                         email                         address  \\\n",
       "0           yburke@example.org       46583 Julie Rue Suite 948   \n",
       "1       ericadavis@example.com  90736 Richardson Neck Apt. 059   \n",
       "2  gilmorekristine@example.net            4929 Jennifer Radial   \n",
       "3  justinhernandez@example.org  367 Figueroa Orchard Suite 428   \n",
       "4         kherring@example.org         8977 Jonathan Mountains   \n",
       "\n",
       "             city state zipcode  informative_1  informative_2    target  \\\n",
       "0       Jonesfurt    MN   27847      -0.999102      -0.663860 -0.904224   \n",
       "1  New Jordanside    GA   29951       1.246686       1.153597  2.324370   \n",
       "2       Jessefort    NC   56017       0.962777       0.859397  1.778217   \n",
       "3      West Randy    ME   99026      -2.957441       2.033645  5.451235   \n",
       "4        Jimhaven    OH   68140       1.141165       1.059449  2.153926   \n",
       "\n",
       "   class  corr_feature_class  \n",
       "0      1           -0.288387  \n",
       "1      1            1.009529  \n",
       "2      1            2.581847  \n",
       "3      1            4.793698  \n",
       "4      1            1.557657  "
      ]
     },
     "execution_count": 11,
     "metadata": {},
     "output_type": "execute_result"
    }
   ],
   "source": [
    "import numpy as np\n",
    "import pandas as pd\n",
    "from sklearn.datasets import make_classification\n",
    "from sklearn.linear_model import LogisticRegression\n",
    "\n",
    "def make_linear_y(row):\n",
    "  model = LogisticRegression()\n",
    "  model.fit(X, y)\n",
    "  coefficients = model.coef_\n",
    "  intercept = model.intercept_\n",
    "  f_of_x = intercept + coefficients[0][0]*row['informative_1'] + coefficients[0][1]*row['informative_2']\n",
    "  # print(f_of_x[0])\n",
    "  return f_of_x[0]\n",
    "\n",
    "# Adjust the make_classification parameters:\n",
    "# Set n_informative and n_redundant to values that sum to less than n_features\n",
    "X, y = make_classification(n_samples=1000, n_features=2, n_informative=2, n_redundant=0, n_repeated=0, random_state=42)\n",
    "df = pd.DataFrame(X, columns=['informative_1', 'informative_2'])\n",
    "df = pd.concat([demographics, df], axis=1).reset_index(drop=True)\n",
    "\n",
    "df['target'] = df.apply(make_linear_y, axis=1) # an independent variable\n",
    "df['class'] = y # the dependent variable\n",
    "df['corr_feature_class'] = generate_feature(df, 'class', 0.5, -1)\n",
    "df.head()"
   ]
  },
  {
   "cell_type": "markdown",
   "metadata": {
    "id": "FlnsQrSN8FLY"
   },
   "source": [
    "### Automation Functions\n",
    "\n",
    "1. gen_null(series, perc)\n",
    "2. gen_quasi_constants(primary_label, variation_percentage=.2, replace=False)\n",
    "3. gen_normal_data(mu=0, std=1, size=len(df))\n",
    "4. gen_uniform_data(size=len(df))\n",
    "5. gen_multivariate_normal_data(mean=[0, 0], cov=[[1, 0], [0, 1]], size=len(df))\n",
    "6. gen_correlated_normal_series(original_series, target_correlation, size=len(df))\n",
    "7. gen_correlated_uniform_series(original_series, correlation_coefficient=0, size=len(df))\n",
    "8. gen_outliers(mean=0, std_dev=1, size=len(df), outlier_percentage=0.1, outlier_magnitude=3)\n",
    "9. gen_standard_scaling(mean=50, std_dev=10, size=len(df), scale_factor=1000)\n",
    "10. gen_minmax_scaling(mean=50, std_dev=10, size=len(df), range_factor=10)\n",
    "11. random_choice_data(choices, size)"
   ]
  },
  {
   "cell_type": "code",
   "execution_count": 12,
   "metadata": {
    "id": "JWOa9CmWQQ3-"
   },
   "outputs": [],
   "source": [
    "# functions\n",
    "import pandas as pd\n",
    "import numpy as np\n",
    "from scipy.stats import norm\n",
    "from scipy.optimize import minimize\n",
    "\n",
    "\n",
    "def gen_null(series, perc):\n",
    "  \"\"\"\n",
    "  Introduces null values (np.nan) into a list based on a specified percentage.\n",
    "\n",
    "  Args:\n",
    "      var: The variable to modify.\n",
    "      perc: The percentage of values to replace with nulls (0-100).\n",
    "\n",
    "  Returns:\n",
    "      The modified variable with null.\n",
    "  \"\"\"\n",
    "  var = series.copy()\n",
    "  num_nulls = int(len(var) * (perc / 100))\n",
    "  indices_to_replace = np.random.choice(len(var), num_nulls, replace=False)\n",
    "\n",
    "  for idx in indices_to_replace:\n",
    "      var[idx] = np.nan\n",
    "\n",
    "  return var\n",
    "\n",
    "def gen_quasi_constants(primary_label, variation_percentage=.2, size=len(df)):\n",
    "  \"\"\"\n",
    "  Generates quasi-constant labels for a Series, with a small percentage of variation.\n",
    "\n",
    "  Args:\n",
    "      primary_label: The main label to use for most values.\n",
    "      variation_percentage: The percentage of labels to vary (0-100).\n",
    "\n",
    "  Returns:\n",
    "      A new Series containing the quasi-constant labels.\n",
    "  \"\"\"\n",
    "\n",
    "  series = pd.Series(np.full(size, primary_label))\n",
    "  num_variations = int(size * (variation_percentage / 100))\n",
    "  variation_indices = np.random.choice(series.index, num_variations, replace=False)\n",
    "  primary_label = primary_label + '_0'\n",
    "  variation1 = primary_label + '_1'\n",
    "  variation2 = primary_label + '_2'\n",
    "\n",
    "  labels = pd.Series([primary_label] * len(series), index=series.index)\n",
    "  labels.loc[variation_indices] = np.random.choice([variation1, variation2], size=num_variations)  # Adjust variations as needed\n",
    "\n",
    "  return labels\n",
    "\n",
    "def gen_normal_data(mu=0, std=1, size=len(df)):\n",
    "  \"\"\"\n",
    "  Generates a normal dataset given the mean and standard deviation\n",
    "\n",
    "  Args:\n",
    "        mu: The mean of the normal distribution.\n",
    "        std: The standard deviation of the normal distribution.\n",
    "        size: The number of data points to generate.\n",
    "\n",
    "  Returns:\n",
    "        A normally distributed series.\n",
    "  \"\"\"\n",
    "  return np.random.normal(mu, std, size)\n",
    "\n",
    "def gen_uniform_data(size=len(df)):\n",
    "  \"\"\"\n",
    "  Generates a uniform dataset\n",
    "\n",
    "  Args:\n",
    "        size: The number of data points to generate.\n",
    "\n",
    "  Returns:\n",
    "        A uniform distributed series.\n",
    "  \"\"\"\n",
    "  return np.random.uniform(size=size)\n",
    "\n",
    "def gen_multivariate_normal_data(mean=[0, 0], cov=[[1, 0], [0, 1]], size=len(df)):\n",
    "  \"\"\"\n",
    "  Generates two datasets with a multivariate normal distribution given the mean and covariance matrix\n",
    "\n",
    "  Args:\n",
    "        mean: The mean of each of the datasets.\n",
    "        cov: The covariance matrix of the datasets.\n",
    "        size: The number of data points to generate.\n",
    "\n",
    "  Returns:\n",
    "        Two correlated series.\n",
    "  \"\"\"\n",
    "  ds1, ds2 = np.random.multivariate_normal(mean, cov, size, tol=1e-6).T # ds = dataset\n",
    "  return ds1, ds2\n",
    "\n",
    "def gen_correlated_normal_series(original_series, target_correlation, size=len(df)):\n",
    "  \"\"\"\n",
    "  Generates a correlated series based on a given series.\n",
    "\n",
    "  This function takes an original series as input and generates a new series\n",
    "  that is correlated with the original series. The correlation between the\n",
    "  original and generated series is approximately equal to the specified\n",
    "  target correlation.\n",
    "\n",
    "  The generated series is created by linearly transforming the original series\n",
    "  and adding Gaussian noise with an adjusted standard deviation to achieve the\n",
    "  desired correlation.\n",
    "\n",
    "  Args:\n",
    "      original_series (numpy.ndarray): The original series.\n",
    "      target_correlation (float): The desired Pearson correlation coefficient\n",
    "          between the original and generated series.\n",
    "\n",
    "  Returns:\n",
    "      numpy.ndarray: The generated correlated series.\n",
    "  \"\"\"\n",
    "  return np.mean(original_series) + target_correlation * (original_series - np.mean(original_series)) \\\n",
    "  +  np.random.normal(0, np.sqrt(1 - target_correlation**2) * np.std(original_series), len(original_series))\n",
    "  \"\"\"\n",
    "  Explanation\n",
    "\n",
    "  This one-liner leverages the properties of linear transformations and normal distributions to generate a correlated series.\n",
    "\n",
    "  It first centers the original_series by subtracting its mean.\n",
    "  It then scales this centered series by the target_correlation.\n",
    "  Finally, it adds Gaussian noise with a standard deviation adjusted to ensure the overall correlation matches the target_correlation.\n",
    "  \"\"\"\n",
    "\n",
    "def gen_correlated_uniform_series(original_series, correlation_coefficient=0, size=len(df)):\n",
    "  \"\"\"\n",
    "  Work in progress\n",
    "\n",
    "  Generates a new series correlated with the given series based on the specified correlation coefficient,\n",
    "  using rank correlation to ensure the generated series follows a uniform distribution.\n",
    "\n",
    "  Args:\n",
    "      original_series (numpy.ndarray or list): The original series.\n",
    "      correlation_coefficient (float): The desired correlation coefficient between the original and generated series.\n",
    "      size: The number of data points to generate.\n",
    "\n",
    "  Returns:\n",
    "      The generated correlated series with a uniform distribution.\n",
    "  \"\"\"\n",
    "  z_scores = (original_series - np.mean(original_series)) / np.std(original_series)\n",
    "  correlation_coefficient=.7\n",
    "  return norm.cdf(correlation_coefficient * norm.ppf(np.random.uniform(size=size)) + np.sqrt(1 - correlation_coefficient**2) * z_scores)\n",
    "\n",
    "def pearson_r_func(x, y, y_mean, y_std, desired_r):\n",
    "    x_mean = np.mean(x)\n",
    "    x_std = np.std(x)\n",
    "    numerator = np.sum((x - x_mean) * (y - y_mean))\n",
    "    denominator = x_std * y_std * len(x)\n",
    "    calculated_r = numerator / denominator\n",
    "    return (calculated_r - desired_r)**2  # Minimize the squared difference\n",
    "\n",
    "def minimize_r(original_series, target_correlation, size=len(df)):\n",
    "    y = original_series\n",
    "    y_mean = np.mean(y)\n",
    "    y_std = np.std(y)\n",
    "    desired_r = target_correlation\n",
    "\n",
    "    # Initial guess for x values\n",
    "    x0 = np.random.uniform(size=len(original_series))\n",
    "\n",
    "    # Solve for x\n",
    "    result = minimize(pearson_r_func, x0, args=(y, y_mean, y_std, desired_r))\n",
    "\n",
    "    if result.success:\n",
    "        x_solution = result.x\n",
    "        # print(\"Solution for x:\", x_solution)\n",
    "        return x_solution\n",
    "    else:\n",
    "        print(\"Optimization failed.\")\n",
    "\n",
    "def gen_outliers(mean=0, std_dev=1, size=len(df), outlier_percentage=0.1, outlier_magnitude=3):\n",
    "    \"\"\"\n",
    "    Generates a normal distribution with outliers.\n",
    "\n",
    "    Args:\n",
    "        mean (float): The mean of the normal distribution.\n",
    "        std_dev (float): The standard deviation of the normal distribution.\n",
    "        size (int): The number of samples to generate.\n",
    "        outlier_percentage (float): The percentage of outliers to introduce (between 0 and 1).\n",
    "        outlier_magnitude (float): The magnitude by which outliers deviate from the mean.\n",
    "\n",
    "    Returns:\n",
    "        numpy.ndarray: The generated data with outliers.\n",
    "    \"\"\"\n",
    "    data = np.random.normal(mean, std_dev, size)\n",
    "    num_outliers = int(size * outlier_percentage)\n",
    "    outlier_indices = np.random.choice(size, num_outliers, replace=False)\n",
    "    for index in outlier_indices:\n",
    "        if np.random.rand() < 0.5:\n",
    "            data[index] += outlier_magnitude\n",
    "        else:\n",
    "            data[index] -= outlier_magnitude\n",
    "\n",
    "    return data\n",
    "\n",
    "def gen_standard_scaling(mean=50, std_dev=10, size=len(df), scale_factor=1000):\n",
    "  \"\"\"\n",
    "  Generates data with a specified mean and standard deviation, then scales it by a factor to create a distribution needing scaling.\n",
    "\n",
    "  Args:\n",
    "      mean (float): The mean of the original distribution.\n",
    "      std_dev (float): The standard deviation of the original distribution.\n",
    "      size (int): The number of samples to generate.\n",
    "      scale_factor (float): The factor by which to scale the original distribution.\n",
    "\n",
    "  Returns:\n",
    "      numpy.ndarray: The generated data needing scaling.\n",
    "  \"\"\"\n",
    "  original_data = np.random.normal(mean, std_dev, size)\n",
    "  return original_data * scale_factor\n",
    "\n",
    "def gen_minmax_scaling(mean=50, std_dev=10, size=len(df), range_factor=10):\n",
    "  \"\"\"\n",
    "  Generates data with a specified mean and standard deviation, then scales and shifts it to create a distribution needing MinMax scaling.\n",
    "\n",
    "  Args:\n",
    "      mean (float): The mean of the original distribution.\n",
    "      std_dev (float): The standard deviation of the original distribution.\n",
    "      size (int): The number of samples to generate.\n",
    "      range_factor (float): The factor to expand the range of the original distribution.\n",
    "\n",
    "  Returns:\n",
    "      numpy.ndarray: The generated data needing scaling.\n",
    "  \"\"\"\n",
    "\n",
    "  # Generate the original data\n",
    "  original_data = np.random.normal(mean, std_dev, size)\n",
    "\n",
    "  # Expand the range of the data\n",
    "  min_val = np.min(original_data)\n",
    "  max_val = np.max(original_data)\n",
    "  return (original_data - min_val) * range_factor + min_val\n",
    "\n",
    "def random_choice_data(choices, size):\n",
    "  \"\"\"\n",
    "  Generates a new series correlated with the given series based on the specified correlation coefficient,\n",
    "  using rank correlation to ensure the generated series follows a uniform distribution.\n",
    "\n",
    "  Args:\n",
    "      original_series (numpy.ndarray or list): The original series.\n",
    "      correlation_coefficient (float): The desired correlation coefficient between the original and generated series.\n",
    "\n",
    "  Returns:\n",
    "      numpy.ndarray: The generated correlated series with a uniform distribution.\n",
    "  \"\"\"\n",
    "  return np.random.choice(choices, size=size)\n"
   ]
  },
  {
   "cell_type": "code",
   "execution_count": 13,
   "metadata": {
    "id": "OwAolbPsxTxS"
   },
   "outputs": [],
   "source": [
    "# categorical variables with little correlation to sales\n",
    "df['random choice 2'] = random_choice_data(['Rand Choice 1', 'Rand Choice 2'], size=len(df))\n",
    "df['random choice 4'] = random_choice_data(['North', 'South', 'East', 'West'], size=len(df))\n",
    "df['random choice 7'] = random_choice_data(['Monday', 'Tuesday', 'Wednesday', 'Thursday', 'Friday', 'Saturday', 'Sunday'], size=len(df))\n",
    "\n",
    "# categorical random choices with random # of labels\n",
    "num_labels = np.random.randint(3, 5)\n",
    "df[f'random label num {num_labels}'] = random_choice_data([f'label num lo {i}' for i in range(1, num_labels + 1)], size=len(df))\n",
    "\n",
    "num_labels = np.random.randint(10, 15)\n",
    "df[f'random label num {num_labels}'] = random_choice_data([f'label num hi {i}' for i in range(1, num_labels + 1)], size=len(df))"
   ]
  },
  {
   "cell_type": "code",
   "execution_count": 14,
   "metadata": {
    "id": "oiR1SK-QR7Rn"
   },
   "outputs": [],
   "source": [
    "# categorical variables correlated with target\n",
    "df['pd qcut1'] = pd.qcut(df['target'], 2, labels=['Low', 'High']) # bi label\n",
    "df['pd qcut2'] = pd.qcut(df['target'], 4, labels=['Q1', 'Q2', 'Q3', 'Q4']) # 4 labels\n",
    "\n",
    "quantiles = [0, 0.1, 0.2, 0.4, 0.6, 0.8, 1]\n",
    "df['pd qcut3'] = pd.qcut(df['target'], quantiles, labels=['G1', 'G2', 'G3', 'G4', 'G5', 'G6']) # 6 labels"
   ]
  },
  {
   "cell_type": "code",
   "execution_count": 15,
   "metadata": {
    "id": "Q6QTLoR2uPkF"
   },
   "outputs": [],
   "source": [
    "# generate four numerical normally distributed continuous features that have a correlation greater than absolute value of .5 with each other\n",
    "# gen_multivariate_normal_data(mean=[0, 0], cov=[[1, 0], [0, 1]], size=len(df))\n",
    "df['multicollinearity 1'], df['multicollinearity 2'] = gen_multivariate_normal_data(mean=[0, 0], cov=[[1, .7], [.7, 1]], size=len(df))\n",
    "df['multicollinearity 3'], df['multicollinearity 4'] = gen_multivariate_normal_data(mean=[0, 0], cov=[[1, .9], [.9, 1]], size=len(df))"
   ]
  },
  {
   "cell_type": "code",
   "execution_count": 16,
   "metadata": {
    "colab": {
     "base_uri": "https://localhost:8080/"
    },
    "id": "EyUCReGZlSSl",
    "outputId": "4dae3fc7-049f-4bc7-902a-ff41b3c3f99f"
   },
   "outputs": [
    {
     "name": "stdout",
     "output_type": "stream",
     "text": [
      "<class 'pandas.core.frame.DataFrame'>\n",
      "RangeIndex: 1000 entries, 0 to 999\n",
      "Data columns (total 29 columns):\n",
      " #   Column                 Non-Null Count  Dtype   \n",
      "---  ------                 --------------  -----   \n",
      " 0   binary                 1000 non-null   object  \n",
      " 1   given_name             1000 non-null   object  \n",
      " 2   surname                1000 non-null   object  \n",
      " 3   date_of_birth          1000 non-null   object  \n",
      " 4   phone_number           1000 non-null   object  \n",
      " 5   email                  1000 non-null   object  \n",
      " 6   address                880 non-null    object  \n",
      " 7   city                   880 non-null    object  \n",
      " 8   state                  880 non-null    object  \n",
      " 9   zipcode                880 non-null    object  \n",
      " 10  informative_1          1000 non-null   float64 \n",
      " 11  informative_2          1000 non-null   float64 \n",
      " 12  target                 1000 non-null   float64 \n",
      " 13  class                  1000 non-null   int64   \n",
      " 14  corr_feature_class     1000 non-null   float64 \n",
      " 15  random choice 2        1000 non-null   object  \n",
      " 16  random choice 4        1000 non-null   object  \n",
      " 17  random choice 7        1000 non-null   object  \n",
      " 18  random label num 4     1000 non-null   object  \n",
      " 19  random label num 13    1000 non-null   object  \n",
      " 20  pd qcut1               1000 non-null   category\n",
      " 21  pd qcut2               1000 non-null   category\n",
      " 22  pd qcut3               1000 non-null   category\n",
      " 23  multicollinearity 1    1000 non-null   float64 \n",
      " 24  multicollinearity 2    1000 non-null   float64 \n",
      " 25  multicollinearity 3    1000 non-null   float64 \n",
      " 26  multicollinearity 4    1000 non-null   float64 \n",
      " 27  correlated w target 1  1000 non-null   float64 \n",
      " 28  correlated w target 2  1000 non-null   float64 \n",
      "dtypes: category(3), float64(10), int64(1), object(15)\n",
      "memory usage: 206.7+ KB\n"
     ]
    }
   ],
   "source": [
    "# generate two normally distributed features that are correlated with the target\n",
    "# gen_correlated_normal_series(original_series, target_correlation, size=len(df))\n",
    "df['correlated w target 1'] = gen_correlated_normal_series(df['target'], target_correlation=.5)\n",
    "df['correlated w target 2'] = gen_correlated_normal_series(df['target'], target_correlation=.7)\n",
    "df.info()"
   ]
  },
  {
   "cell_type": "code",
   "execution_count": 17,
   "metadata": {
    "colab": {
     "base_uri": "https://localhost:8080/",
     "height": 525
    },
    "id": "nEQxB18Juh8M",
    "outputId": "728259d3-f7bd-4319-c340-e6ad04668b8f"
   },
   "outputs": [
    {
     "name": "stdout",
     "output_type": "stream",
     "text": [
      "                uniform corr 1  uniform corr 2    target\n",
      "uniform corr 1        1.000000        0.517198  0.704799\n",
      "uniform corr 2        0.517198        1.000000  0.719649\n",
      "target                0.704799        0.719649  1.000000\n"
     ]
    },
    {
     "data": {
      "image/png": "[encoded data removed]",
      "text/plain": [
       "<Figure size 640x480 with 2 Axes>"
      ]
     },
     "metadata": {},
     "output_type": "display_data"
    }
   ],
   "source": [
    "# generate two uniformly distributed features that are correlated with the target\n",
    "# gen_correlated_uniform_series(original_series, correlation_coefficient=0, size=len(df))\n",
    "df['uniform corr 1'] = gen_correlated_uniform_series(df['target'])\n",
    "df['uniform corr 2'] = gen_correlated_uniform_series(df['target'])\n",
    "\n",
    "print(df[['uniform corr 1', 'uniform corr 2', 'target']].corr())\n",
    "df[['uniform corr 1', 'uniform corr 2']].hist();"
   ]
  },
  {
   "cell_type": "code",
   "execution_count": 18,
   "metadata": {
    "id": "Vx1_vq2FIxan"
   },
   "outputs": [],
   "source": [
    "# create two features that are duplicates of other features\n",
    "df['duplicate_1'] = df['informative_1']\n",
    "df['duplicate_2'] = df['informative_2']"
   ]
  },
  {
   "cell_type": "code",
   "execution_count": 19,
   "metadata": {
    "id": "wJGVW0OMJKCA"
   },
   "outputs": [],
   "source": [
    "# create two numerical features with outliers\n",
    "df['outliers 1'] = gen_outliers(mean=0, std_dev=1, size=len(df), outlier_percentage=0.1, outlier_magnitude=3)\n",
    "df['outliers 2'] = gen_outliers(mean=3, std_dev=2, size=len(df), outlier_percentage=0.2, outlier_magnitude=2)"
   ]
  },
  {
   "cell_type": "code",
   "execution_count": 20,
   "metadata": {
    "id": "oNXKVbukJUX6"
   },
   "outputs": [],
   "source": [
    "# create a numerical feature that needs standard scaling\n",
    "df['standard scaling'] = gen_standard_scaling()"
   ]
  },
  {
   "cell_type": "code",
   "execution_count": 21,
   "metadata": {
    "id": "YffL2FIjJZBe"
   },
   "outputs": [],
   "source": [
    "# create a numerical feature that needs min max scaling\n",
    "df['min max scaling'] = gen_minmax_scaling()"
   ]
  },
  {
   "cell_type": "code",
   "execution_count": 22,
   "metadata": {
    "id": "BSB0O7puJmJb"
   },
   "outputs": [],
   "source": [
    "# generate null values\n",
    "for col in df.drop(['class', 'informative_1', 'informative_2', 'target', 'duplicate_1', 'duplicate_2'], axis=1).columns:\n",
    "    df[col] = gen_null(df[col], np.random.choice([0, 5, 10, 20, 30, 50], size=1).item())"
   ]
  },
  {
   "cell_type": "code",
   "execution_count": 23,
   "metadata": {
    "id": "2sfkZqmYIjDF"
   },
   "outputs": [],
   "source": [
    "# create two features that have constant values\n",
    "df['constant_1'] = 'constant_value'\n",
    "df['constant_2'] = 'constant_value'"
   ]
  },
  {
   "cell_type": "code",
   "execution_count": 24,
   "metadata": {
    "id": "gWSpRTvfIp1c"
   },
   "outputs": [],
   "source": [
    "# create two features with semi constant values\n",
    "df['semi_constant_1'] = gen_quasi_constants('q_const', variation_percentage = 1)\n",
    "df['semi_constant_2'] = gen_quasi_constants('q_const', variation_percentage = 1)"
   ]
  },
  {
   "cell_type": "code",
   "execution_count": 25,
   "metadata": {
    "colab": {
     "base_uri": "https://localhost:8080/"
    },
    "id": "nQ8w6T9WYLf4",
    "outputId": "9f2fc7c4-b45f-4723-e319-5aeca85a6708"
   },
   "outputs": [
    {
     "name": "stdout",
     "output_type": "stream",
     "text": [
      "<class 'pandas.core.frame.DataFrame'>\n",
      "RangeIndex: 1000 entries, 0 to 999\n",
      "Data columns (total 41 columns):\n",
      " #   Column                 Non-Null Count  Dtype   \n",
      "---  ------                 --------------  -----   \n",
      " 0   binary                 950 non-null    object  \n",
      " 1   given_name             900 non-null    object  \n",
      " 2   surname                500 non-null    object  \n",
      " 3   date_of_birth          500 non-null    object  \n",
      " 4   phone_number           700 non-null    object  \n",
      " 5   email                  950 non-null    object  \n",
      " 6   address                880 non-null    object  \n",
      " 7   city                   695 non-null    object  \n",
      " 8   state                  880 non-null    object  \n",
      " 9   zipcode                445 non-null    object  \n",
      " 10  informative_1          1000 non-null   float64 \n",
      " 11  informative_2          1000 non-null   float64 \n",
      " 12  target                 1000 non-null   float64 \n",
      " 13  class                  1000 non-null   int64   \n",
      " 14  corr_feature_class     1000 non-null   float64 \n",
      " 15  random choice 2        500 non-null    object  \n",
      " 16  random choice 4        950 non-null    object  \n",
      " 17  random choice 7        700 non-null    object  \n",
      " 18  random label num 4     500 non-null    object  \n",
      " 19  random label num 13    700 non-null    object  \n",
      " 20  pd qcut1               800 non-null    category\n",
      " 21  pd qcut2               900 non-null    category\n",
      " 22  pd qcut3               800 non-null    category\n",
      " 23  multicollinearity 1    900 non-null    float64 \n",
      " 24  multicollinearity 2    500 non-null    float64 \n",
      " 25  multicollinearity 3    500 non-null    float64 \n",
      " 26  multicollinearity 4    1000 non-null   float64 \n",
      " 27  correlated w target 1  1000 non-null   float64 \n",
      " 28  correlated w target 2  900 non-null    float64 \n",
      " 29  uniform corr 1         1000 non-null   float64 \n",
      " 30  uniform corr 2         1000 non-null   float64 \n",
      " 31  duplicate_1            1000 non-null   float64 \n",
      " 32  duplicate_2            1000 non-null   float64 \n",
      " 33  outliers 1             950 non-null    float64 \n",
      " 34  outliers 2             700 non-null    float64 \n",
      " 35  standard scaling       800 non-null    float64 \n",
      " 36  min max scaling        900 non-null    float64 \n",
      " 37  constant_1             1000 non-null   object  \n",
      " 38  constant_2             1000 non-null   object  \n",
      " 39  semi_constant_1        1000 non-null   object  \n",
      " 40  semi_constant_2        1000 non-null   object  \n",
      "dtypes: category(3), float64(18), int64(1), object(19)\n",
      "memory usage: 300.5+ KB\n",
      "None\n"
     ]
    }
   ],
   "source": [
    "print(df.info())  # check your work"
   ]
  },
  {
   "cell_type": "code",
   "execution_count": 26,
   "metadata": {
    "colab": {
     "base_uri": "https://localhost:8080/",
     "height": 1000
    },
    "id": "CiFb0YwCXupw",
    "outputId": "db33af72-79c4-47ad-8d4d-d13791e3ebc0"
   },
   "outputs": [
    {
     "name": "stdout",
     "output_type": "stream",
     "text": [
      "(1010, 41)\n",
      "<class 'pandas.core.frame.DataFrame'>\n",
      "Index: 1010 entries, 0 to 9\n",
      "Data columns (total 41 columns):\n",
      " #   Column                 Non-Null Count  Dtype   \n",
      "---  ------                 --------------  -----   \n",
      " 0   binary                 960 non-null    object  \n",
      " 1   given_name             910 non-null    object  \n",
      " 2   surname                503 non-null    object  \n",
      " 3   date_of_birth          504 non-null    object  \n",
      " 4   phone_number           706 non-null    object  \n",
      " 5   email                  959 non-null    object  \n",
      " 6   address                890 non-null    object  \n",
      " 7   city                   704 non-null    object  \n",
      " 8   state                  890 non-null    object  \n",
      " 9   zipcode                452 non-null    object  \n",
      " 10  random choice 2        503 non-null    object  \n",
      " 11  constant_1             1010 non-null   object  \n",
      " 12  random label num 4     505 non-null    object  \n",
      " 13  semi_constant_1        1010 non-null   object  \n",
      " 14  semi_constant_2        1010 non-null   object  \n",
      " 15  corr_feature_class     1010 non-null   float64 \n",
      " 16  pd qcut3               810 non-null    category\n",
      " 17  correlated w target 2  909 non-null    float64 \n",
      " 18  standard scaling       806 non-null    float64 \n",
      " 19  constant_2             1010 non-null   object  \n",
      " 20  multicollinearity 1    910 non-null    float64 \n",
      " 21  random choice 4        959 non-null    object  \n",
      " 22  multicollinearity 3    507 non-null    float64 \n",
      " 23  random label num 13    709 non-null    object  \n",
      " 24  outliers 2             707 non-null    float64 \n",
      " 25  duplicate_2            1010 non-null   float64 \n",
      " 26  random choice 7        707 non-null    object  \n",
      " 27  correlated w target 1  1010 non-null   float64 \n",
      " 28  uniform corr 2         1010 non-null   float64 \n",
      " 29  min max scaling        909 non-null    float64 \n",
      " 30  pd qcut1               807 non-null    category\n",
      " 31  outliers 1             960 non-null    float64 \n",
      " 32  multicollinearity 2    507 non-null    float64 \n",
      " 33  uniform corr 1         1010 non-null   float64 \n",
      " 34  pd qcut2               909 non-null    category\n",
      " 35  informative_1          1010 non-null   float64 \n",
      " 36  target                 1010 non-null   float64 \n",
      " 37  multicollinearity 4    1010 non-null   float64 \n",
      " 38  duplicate_1            1010 non-null   float64 \n",
      " 39  informative_2          1010 non-null   float64 \n",
      " 40  class                  1010 non-null   int64   \n",
      "dtypes: category(3), float64(18), int64(1), object(19)\n",
      "memory usage: 311.2+ KB\n",
      "None\n"
     ]
    },
    {
     "data": {
      "text/html": [
       "<div>\n",
       "<style scoped>\n",
       "    .dataframe tbody tr th:only-of-type {\n",
       "        vertical-align: middle;\n",
       "    }\n",
       "\n",
       "    .dataframe tbody tr th {\n",
       "        vertical-align: top;\n",
       "    }\n",
       "\n",
       "    .dataframe thead th {\n",
       "        text-align: right;\n",
       "    }\n",
       "</style>\n",
       "<table border=\"1\" class=\"dataframe\">\n",
       "  <thead>\n",
       "    <tr style=\"text-align: right;\">\n",
       "      <th></th>\n",
       "      <th>binary</th>\n",
       "      <th>given_name</th>\n",
       "      <th>surname</th>\n",
       "      <th>date_of_birth</th>\n",
       "      <th>phone_number</th>\n",
       "      <th>email</th>\n",
       "      <th>address</th>\n",
       "      <th>city</th>\n",
       "      <th>state</th>\n",
       "      <th>zipcode</th>\n",
       "      <th>...</th>\n",
       "      <th>outliers 1</th>\n",
       "      <th>multicollinearity 2</th>\n",
       "      <th>uniform corr 1</th>\n",
       "      <th>pd qcut2</th>\n",
       "      <th>informative_1</th>\n",
       "      <th>target</th>\n",
       "      <th>multicollinearity 4</th>\n",
       "      <th>duplicate_1</th>\n",
       "      <th>informative_2</th>\n",
       "      <th>class</th>\n",
       "    </tr>\n",
       "  </thead>\n",
       "  <tbody>\n",
       "    <tr>\n",
       "      <th>0</th>\n",
       "      <td>binary_1</td>\n",
       "      <td>Joann</td>\n",
       "      <td>Brown</td>\n",
       "      <td>1914-01-13</td>\n",
       "      <td>NaN</td>\n",
       "      <td>yburke@example.org</td>\n",
       "      <td>46583 Julie Rue Suite 948</td>\n",
       "      <td>Jonesfurt</td>\n",
       "      <td>MN</td>\n",
       "      <td>27847</td>\n",
       "      <td>...</td>\n",
       "      <td>-4.161744</td>\n",
       "      <td>0.081533</td>\n",
       "      <td>0.101275</td>\n",
       "      <td>Q2</td>\n",
       "      <td>-0.999102</td>\n",
       "      <td>-0.904224</td>\n",
       "      <td>1.463531</td>\n",
       "      <td>-0.999102</td>\n",
       "      <td>-0.663860</td>\n",
       "      <td>1</td>\n",
       "    </tr>\n",
       "    <tr>\n",
       "      <th>1</th>\n",
       "      <td>binary_1</td>\n",
       "      <td>Michelle</td>\n",
       "      <td>Burnett</td>\n",
       "      <td>NaN</td>\n",
       "      <td>NaN</td>\n",
       "      <td>ericadavis@example.com</td>\n",
       "      <td>90736 Richardson Neck Apt. 059</td>\n",
       "      <td>New Jordanside</td>\n",
       "      <td>GA</td>\n",
       "      <td>29951</td>\n",
       "      <td>...</td>\n",
       "      <td>-1.555503</td>\n",
       "      <td>-1.845419</td>\n",
       "      <td>0.506709</td>\n",
       "      <td>Q3</td>\n",
       "      <td>1.246686</td>\n",
       "      <td>2.324370</td>\n",
       "      <td>0.416412</td>\n",
       "      <td>1.246686</td>\n",
       "      <td>1.153597</td>\n",
       "      <td>1</td>\n",
       "    </tr>\n",
       "    <tr>\n",
       "      <th>2</th>\n",
       "      <td>binary_1</td>\n",
       "      <td>Heidi</td>\n",
       "      <td>Cohen</td>\n",
       "      <td>NaN</td>\n",
       "      <td>001-784-689-7718x885</td>\n",
       "      <td>gilmorekristine@example.net</td>\n",
       "      <td>4929 Jennifer Radial</td>\n",
       "      <td>Jessefort</td>\n",
       "      <td>NC</td>\n",
       "      <td>NaN</td>\n",
       "      <td>...</td>\n",
       "      <td>1.845540</td>\n",
       "      <td>-1.655382</td>\n",
       "      <td>0.368192</td>\n",
       "      <td>NaN</td>\n",
       "      <td>0.962777</td>\n",
       "      <td>1.778217</td>\n",
       "      <td>-0.058432</td>\n",
       "      <td>0.962777</td>\n",
       "      <td>0.859397</td>\n",
       "      <td>1</td>\n",
       "    </tr>\n",
       "    <tr>\n",
       "      <th>3</th>\n",
       "      <td>binary_1</td>\n",
       "      <td>Kimberly</td>\n",
       "      <td>NaN</td>\n",
       "      <td>1987-02-17</td>\n",
       "      <td>001-862-374-5496x67084</td>\n",
       "      <td>NaN</td>\n",
       "      <td>367 Figueroa Orchard Suite 428</td>\n",
       "      <td>West Randy</td>\n",
       "      <td>ME</td>\n",
       "      <td>99026</td>\n",
       "      <td>...</td>\n",
       "      <td>0.344645</td>\n",
       "      <td>NaN</td>\n",
       "      <td>0.865727</td>\n",
       "      <td>Q4</td>\n",
       "      <td>-2.957441</td>\n",
       "      <td>5.451235</td>\n",
       "      <td>-0.225119</td>\n",
       "      <td>-2.957441</td>\n",
       "      <td>2.033645</td>\n",
       "      <td>1</td>\n",
       "    </tr>\n",
       "    <tr>\n",
       "      <th>4</th>\n",
       "      <td>binary_1</td>\n",
       "      <td>Michelle</td>\n",
       "      <td>NaN</td>\n",
       "      <td>NaN</td>\n",
       "      <td>973-962-4494x3015</td>\n",
       "      <td>kherring@example.org</td>\n",
       "      <td>8977 Jonathan Mountains</td>\n",
       "      <td>Jimhaven</td>\n",
       "      <td>OH</td>\n",
       "      <td>68140</td>\n",
       "      <td>...</td>\n",
       "      <td>0.325997</td>\n",
       "      <td>NaN</td>\n",
       "      <td>0.777934</td>\n",
       "      <td>Q3</td>\n",
       "      <td>1.141165</td>\n",
       "      <td>2.153926</td>\n",
       "      <td>0.087503</td>\n",
       "      <td>1.141165</td>\n",
       "      <td>1.059449</td>\n",
       "      <td>1</td>\n",
       "    </tr>\n",
       "  </tbody>\n",
       "</table>\n",
       "<p>5 rows × 41 columns</p>\n",
       "</div>"
      ],
      "text/plain": [
       "     binary given_name  surname date_of_birth            phone_number  \\\n",
       "0  binary_1      Joann    Brown    1914-01-13                     NaN   \n",
       "1  binary_1   Michelle  Burnett           NaN                     NaN   \n",
       "2  binary_1      Heidi    Cohen           NaN    001-784-689-7718x885   \n",
       "3  binary_1   Kimberly      NaN    1987-02-17  001-862-374-5496x67084   \n",
       "4  binary_1   Michelle      NaN           NaN       973-962-4494x3015   \n",
       "\n",
       "                         email                         address  \\\n",
       "0           yburke@example.org       46583 Julie Rue Suite 948   \n",
       "1       ericadavis@example.com  90736 Richardson Neck Apt. 059   \n",
       "2  gilmorekristine@example.net            4929 Jennifer Radial   \n",
       "3                          NaN  367 Figueroa Orchard Suite 428   \n",
       "4         kherring@example.org         8977 Jonathan Mountains   \n",
       "\n",
       "             city state zipcode  ... outliers 1 multicollinearity 2  \\\n",
       "0       Jonesfurt    MN   27847  ...  -4.161744            0.081533   \n",
       "1  New Jordanside    GA   29951  ...  -1.555503           -1.845419   \n",
       "2       Jessefort    NC     NaN  ...   1.845540           -1.655382   \n",
       "3      West Randy    ME   99026  ...   0.344645                 NaN   \n",
       "4        Jimhaven    OH   68140  ...   0.325997                 NaN   \n",
       "\n",
       "  uniform corr 1 pd qcut2 informative_1    target multicollinearity 4  \\\n",
       "0       0.101275       Q2     -0.999102 -0.904224            1.463531   \n",
       "1       0.506709       Q3      1.246686  2.324370            0.416412   \n",
       "2       0.368192      NaN      0.962777  1.778217           -0.058432   \n",
       "3       0.865727       Q4     -2.957441  5.451235           -0.225119   \n",
       "4       0.777934       Q3      1.141165  2.153926            0.087503   \n",
       "\n",
       "   duplicate_1  informative_2 class  \n",
       "0    -0.999102      -0.663860     1  \n",
       "1     1.246686       1.153597     1  \n",
       "2     0.962777       0.859397     1  \n",
       "3    -2.957441       2.033645     1  \n",
       "4     1.141165       1.059449     1  \n",
       "\n",
       "[5 rows x 41 columns]"
      ]
     },
     "execution_count": 26,
     "metadata": {},
     "output_type": "execute_result"
    }
   ],
   "source": [
    "# add duplicates\n",
    "dupes = df.loc[0:9]\n",
    "df = pd.concat([df, dupes], axis=0)\n",
    "\n",
    "# shuffle all columns\n",
    "# df = df.sample(frac=1).reset_index(drop=True)\n",
    "# df = df.sample(frac=1, axis=1)\n",
    "\n",
    "# shuffle selected columns\n",
    "demographic_columns = demographics.columns\n",
    "remaining_columns = [col for col in df.columns if col not in demographic_columns]\n",
    "# print(remaining_columns)\n",
    "np.random.shuffle(remaining_columns)\n",
    "\n",
    "# Reassemble the DataFrame with the shuffled columns\n",
    "df = df[list(demographic_columns) + list(remaining_columns)]\n",
    "\n",
    "# move target to the end of the list\n",
    "class_var = 'class'\n",
    "df = df[df.drop('class', axis=1).columns.tolist() + [class_var]]\n",
    "\n",
    "print(df.shape)\n",
    "print(df.info())\n",
    "df.head()"
   ]
  },
  {
   "cell_type": "code",
   "execution_count": 28,
   "metadata": {},
   "outputs": [],
   "source": [
    "from pathlib import Path\n",
    "\n",
    "# Ensure the directory exists\n",
    "Path(\"development/datasets\").mkdir(parents=True, exist_ok=True)"
   ]
  },
  {
   "cell_type": "code",
   "execution_count": 29,
   "metadata": {
    "id": "Legtg7PmvNor"
   },
   "outputs": [],
   "source": [
    "df.to_csv('development/datasets/created_raw_data.csv', index=False)"
   ]
  },
  {
   "cell_type": "markdown",
   "metadata": {
    "id": "Qkomq9RKTv9E"
   },
   "source": [
    "# Part 2 - Exploratory Data Analysis (EDA)\n",
    "\n",
    "Exploratory data analysis (EDA) is a data analysis method that helps data scientists understand their data and identify patterns. It's often used as the first step in data analysis."
   ]
  },
  {
   "cell_type": "markdown",
   "metadata": {
    "id": "nDvqqYpHshxX"
   },
   "source": [
    "## Load Data"
   ]
  },
  {
   "cell_type": "code",
   "execution_count": 31,
   "metadata": {
    "id": "KwzNuey3sjtd"
   },
   "outputs": [
    {
     "name": "stdout",
     "output_type": "stream",
     "text": [
      "(1010, 41)\n",
      "<class 'pandas.core.frame.DataFrame'>\n",
      "RangeIndex: 1010 entries, 0 to 1009\n",
      "Data columns (total 41 columns):\n",
      " #   Column                 Non-Null Count  Dtype  \n",
      "---  ------                 --------------  -----  \n",
      " 0   binary                 960 non-null    object \n",
      " 1   given_name             910 non-null    object \n",
      " 2   surname                503 non-null    object \n",
      " 3   date_of_birth          504 non-null    object \n",
      " 4   phone_number           706 non-null    object \n",
      " 5   email                  959 non-null    object \n",
      " 6   address                890 non-null    object \n",
      " 7   city                   704 non-null    object \n",
      " 8   state                  890 non-null    object \n",
      " 9   zipcode                452 non-null    float64\n",
      " 10  random choice 2        503 non-null    object \n",
      " 11  constant_1             1010 non-null   object \n",
      " 12  random label num 4     505 non-null    object \n",
      " 13  semi_constant_1        1010 non-null   object \n",
      " 14  semi_constant_2        1010 non-null   object \n",
      " 15  corr_feature_class     1010 non-null   float64\n",
      " 16  pd qcut3               810 non-null    object \n",
      " 17  correlated w target 2  909 non-null    float64\n",
      " 18  standard scaling       806 non-null    float64\n",
      " 19  constant_2             1010 non-null   object \n",
      " 20  multicollinearity 1    910 non-null    float64\n",
      " 21  random choice 4        959 non-null    object \n",
      " 22  multicollinearity 3    507 non-null    float64\n",
      " 23  random label num 13    709 non-null    object \n",
      " 24  outliers 2             707 non-null    float64\n",
      " 25  duplicate_2            1010 non-null   float64\n",
      " 26  random choice 7        707 non-null    object \n",
      " 27  correlated w target 1  1010 non-null   float64\n",
      " 28  uniform corr 2         1010 non-null   float64\n",
      " 29  min max scaling        909 non-null    float64\n",
      " 30  pd qcut1               807 non-null    object \n",
      " 31  outliers 1             960 non-null    float64\n",
      " 32  multicollinearity 2    507 non-null    float64\n",
      " 33  uniform corr 1         1010 non-null   float64\n",
      " 34  pd qcut2               909 non-null    object \n",
      " 35  informative_1          1010 non-null   float64\n",
      " 36  target                 1010 non-null   float64\n",
      " 37  multicollinearity 4    1010 non-null   float64\n",
      " 38  duplicate_1            1010 non-null   float64\n",
      " 39  informative_2          1010 non-null   float64\n",
      " 40  class                  1010 non-null   int64  \n",
      "dtypes: float64(19), int64(1), object(21)\n",
      "memory usage: 323.6+ KB\n",
      "None\n"
     ]
    },
    {
     "data": {
      "text/html": [
       "<div>\n",
       "<style scoped>\n",
       "    .dataframe tbody tr th:only-of-type {\n",
       "        vertical-align: middle;\n",
       "    }\n",
       "\n",
       "    .dataframe tbody tr th {\n",
       "        vertical-align: top;\n",
       "    }\n",
       "\n",
       "    .dataframe thead th {\n",
       "        text-align: right;\n",
       "    }\n",
       "</style>\n",
       "<table border=\"1\" class=\"dataframe\">\n",
       "  <thead>\n",
       "    <tr style=\"text-align: right;\">\n",
       "      <th></th>\n",
       "      <th>binary</th>\n",
       "      <th>given_name</th>\n",
       "      <th>surname</th>\n",
       "      <th>date_of_birth</th>\n",
       "      <th>phone_number</th>\n",
       "      <th>email</th>\n",
       "      <th>address</th>\n",
       "      <th>city</th>\n",
       "      <th>state</th>\n",
       "      <th>zipcode</th>\n",
       "      <th>...</th>\n",
       "      <th>outliers 1</th>\n",
       "      <th>multicollinearity 2</th>\n",
       "      <th>uniform corr 1</th>\n",
       "      <th>pd qcut2</th>\n",
       "      <th>informative_1</th>\n",
       "      <th>target</th>\n",
       "      <th>multicollinearity 4</th>\n",
       "      <th>duplicate_1</th>\n",
       "      <th>informative_2</th>\n",
       "      <th>class</th>\n",
       "    </tr>\n",
       "  </thead>\n",
       "  <tbody>\n",
       "    <tr>\n",
       "      <th>0</th>\n",
       "      <td>binary_1</td>\n",
       "      <td>Joann</td>\n",
       "      <td>Brown</td>\n",
       "      <td>1914-01-13</td>\n",
       "      <td>NaN</td>\n",
       "      <td>yburke@example.org</td>\n",
       "      <td>46583 Julie Rue Suite 948</td>\n",
       "      <td>Jonesfurt</td>\n",
       "      <td>MN</td>\n",
       "      <td>27847.0</td>\n",
       "      <td>...</td>\n",
       "      <td>-4.161744</td>\n",
       "      <td>0.081533</td>\n",
       "      <td>0.101275</td>\n",
       "      <td>Q2</td>\n",
       "      <td>-0.999102</td>\n",
       "      <td>-0.904224</td>\n",
       "      <td>1.463531</td>\n",
       "      <td>-0.999102</td>\n",
       "      <td>-0.663860</td>\n",
       "      <td>1</td>\n",
       "    </tr>\n",
       "    <tr>\n",
       "      <th>1</th>\n",
       "      <td>binary_1</td>\n",
       "      <td>Michelle</td>\n",
       "      <td>Burnett</td>\n",
       "      <td>NaN</td>\n",
       "      <td>NaN</td>\n",
       "      <td>ericadavis@example.com</td>\n",
       "      <td>90736 Richardson Neck Apt. 059</td>\n",
       "      <td>New Jordanside</td>\n",
       "      <td>GA</td>\n",
       "      <td>29951.0</td>\n",
       "      <td>...</td>\n",
       "      <td>-1.555503</td>\n",
       "      <td>-1.845419</td>\n",
       "      <td>0.506709</td>\n",
       "      <td>Q3</td>\n",
       "      <td>1.246686</td>\n",
       "      <td>2.324370</td>\n",
       "      <td>0.416412</td>\n",
       "      <td>1.246686</td>\n",
       "      <td>1.153597</td>\n",
       "      <td>1</td>\n",
       "    </tr>\n",
       "    <tr>\n",
       "      <th>2</th>\n",
       "      <td>binary_1</td>\n",
       "      <td>Heidi</td>\n",
       "      <td>Cohen</td>\n",
       "      <td>NaN</td>\n",
       "      <td>001-784-689-7718x885</td>\n",
       "      <td>gilmorekristine@example.net</td>\n",
       "      <td>4929 Jennifer Radial</td>\n",
       "      <td>Jessefort</td>\n",
       "      <td>NC</td>\n",
       "      <td>NaN</td>\n",
       "      <td>...</td>\n",
       "      <td>1.845540</td>\n",
       "      <td>-1.655382</td>\n",
       "      <td>0.368192</td>\n",
       "      <td>NaN</td>\n",
       "      <td>0.962777</td>\n",
       "      <td>1.778217</td>\n",
       "      <td>-0.058432</td>\n",
       "      <td>0.962777</td>\n",
       "      <td>0.859397</td>\n",
       "      <td>1</td>\n",
       "    </tr>\n",
       "    <tr>\n",
       "      <th>3</th>\n",
       "      <td>binary_1</td>\n",
       "      <td>Kimberly</td>\n",
       "      <td>NaN</td>\n",
       "      <td>1987-02-17</td>\n",
       "      <td>001-862-374-5496x67084</td>\n",
       "      <td>NaN</td>\n",
       "      <td>367 Figueroa Orchard Suite 428</td>\n",
       "      <td>West Randy</td>\n",
       "      <td>ME</td>\n",
       "      <td>99026.0</td>\n",
       "      <td>...</td>\n",
       "      <td>0.344645</td>\n",
       "      <td>NaN</td>\n",
       "      <td>0.865727</td>\n",
       "      <td>Q4</td>\n",
       "      <td>-2.957441</td>\n",
       "      <td>5.451235</td>\n",
       "      <td>-0.225119</td>\n",
       "      <td>-2.957441</td>\n",
       "      <td>2.033645</td>\n",
       "      <td>1</td>\n",
       "    </tr>\n",
       "    <tr>\n",
       "      <th>4</th>\n",
       "      <td>binary_1</td>\n",
       "      <td>Michelle</td>\n",
       "      <td>NaN</td>\n",
       "      <td>NaN</td>\n",
       "      <td>973-962-4494x3015</td>\n",
       "      <td>kherring@example.org</td>\n",
       "      <td>8977 Jonathan Mountains</td>\n",
       "      <td>Jimhaven</td>\n",
       "      <td>OH</td>\n",
       "      <td>68140.0</td>\n",
       "      <td>...</td>\n",
       "      <td>0.325997</td>\n",
       "      <td>NaN</td>\n",
       "      <td>0.777934</td>\n",
       "      <td>Q3</td>\n",
       "      <td>1.141165</td>\n",
       "      <td>2.153926</td>\n",
       "      <td>0.087503</td>\n",
       "      <td>1.141165</td>\n",
       "      <td>1.059449</td>\n",
       "      <td>1</td>\n",
       "    </tr>\n",
       "  </tbody>\n",
       "</table>\n",
       "<p>5 rows × 41 columns</p>\n",
       "</div>"
      ],
      "text/plain": [
       "     binary given_name  surname date_of_birth            phone_number  \\\n",
       "0  binary_1      Joann    Brown    1914-01-13                     NaN   \n",
       "1  binary_1   Michelle  Burnett           NaN                     NaN   \n",
       "2  binary_1      Heidi    Cohen           NaN    001-784-689-7718x885   \n",
       "3  binary_1   Kimberly      NaN    1987-02-17  001-862-374-5496x67084   \n",
       "4  binary_1   Michelle      NaN           NaN       973-962-4494x3015   \n",
       "\n",
       "                         email                         address  \\\n",
       "0           yburke@example.org       46583 Julie Rue Suite 948   \n",
       "1       ericadavis@example.com  90736 Richardson Neck Apt. 059   \n",
       "2  gilmorekristine@example.net            4929 Jennifer Radial   \n",
       "3                          NaN  367 Figueroa Orchard Suite 428   \n",
       "4         kherring@example.org         8977 Jonathan Mountains   \n",
       "\n",
       "             city state  zipcode  ... outliers 1 multicollinearity 2  \\\n",
       "0       Jonesfurt    MN  27847.0  ...  -4.161744            0.081533   \n",
       "1  New Jordanside    GA  29951.0  ...  -1.555503           -1.845419   \n",
       "2       Jessefort    NC      NaN  ...   1.845540           -1.655382   \n",
       "3      West Randy    ME  99026.0  ...   0.344645                 NaN   \n",
       "4        Jimhaven    OH  68140.0  ...   0.325997                 NaN   \n",
       "\n",
       "  uniform corr 1 pd qcut2 informative_1    target multicollinearity 4  \\\n",
       "0       0.101275       Q2     -0.999102 -0.904224            1.463531   \n",
       "1       0.506709       Q3      1.246686  2.324370            0.416412   \n",
       "2       0.368192      NaN      0.962777  1.778217           -0.058432   \n",
       "3       0.865727       Q4     -2.957441  5.451235           -0.225119   \n",
       "4       0.777934       Q3      1.141165  2.153926            0.087503   \n",
       "\n",
       "   duplicate_1  informative_2 class  \n",
       "0    -0.999102      -0.663860     1  \n",
       "1     1.246686       1.153597     1  \n",
       "2     0.962777       0.859397     1  \n",
       "3    -2.957441       2.033645     1  \n",
       "4     1.141165       1.059449     1  \n",
       "\n",
       "[5 rows x 41 columns]"
      ]
     },
     "execution_count": 31,
     "metadata": {},
     "output_type": "execute_result"
    }
   ],
   "source": [
    "import pandas as pd\n",
    "\n",
    "df = pd.read_csv('development/datasets/created_raw_data.csv')\n",
    "print(df.shape)\n",
    "print(df.info())\n",
    "df.head()"
   ]
  },
  {
   "cell_type": "markdown",
   "metadata": {
    "id": "nMZvDVF51DcG"
   },
   "source": [
    "## Var Types"
   ]
  },
  {
   "cell_type": "code",
   "execution_count": 32,
   "metadata": {
    "colab": {
     "base_uri": "https://localhost:8080/"
    },
    "id": "pVRA3GCN73QV",
    "outputId": "7b0b4a87-7e65-4297-cecb-71c16357f938"
   },
   "outputs": [
    {
     "data": {
      "text/plain": [
       "Index([], dtype='object')"
      ]
     },
     "execution_count": 32,
     "metadata": {},
     "output_type": "execute_result"
    }
   ],
   "source": [
    "df_numerical = df.select_dtypes(include='number').columns\n",
    "df_object = df.select_dtypes(include=['object']).columns\n",
    "df_discreet = df.select_dtypes(include=['category']).columns\n",
    "df_categorical_features = df.select_dtypes(include=['category', 'object']).columns\n",
    "df_discreet"
   ]
  },
  {
   "cell_type": "code",
   "execution_count": 34,
   "metadata": {
    "id": "ZIYM09CPRBbH"
   },
   "outputs": [],
   "source": [
    "import os\n",
    "import pickle\n",
    "\n",
    "# Ensure the directory exists\n",
    "directory = 'development/pickles'\n",
    "os.makedirs(directory, exist_ok=True)\n",
    "\n",
    "# File path\n",
    "file_path = os.path.join(directory, 'var_types.pkl')\n",
    "\n",
    "# Save data\n",
    "data = {'df_numerical': df_numerical, 'df_object': df_object, 'df_discreet': df_discreet, 'df_categorical_features': df_categorical_features}\n",
    "with open(file_path, 'wb') as f:\n",
    "    pickle.dump(data, f)"
   ]
  },
  {
   "cell_type": "markdown",
   "metadata": {
    "id": "UlDP5W6MhwA2"
   },
   "source": [
    "## Correlation"
   ]
  },
  {
   "cell_type": "code",
   "execution_count": 35,
   "metadata": {
    "colab": {
     "base_uri": "https://localhost:8080/",
     "height": 717
    },
    "id": "-WOkym8CmK9k",
    "outputId": "24f7c72e-9a74-4f69-e031-fd1522f9d357"
   },
   "outputs": [
    {
     "data": {
      "text/html": [
       "<div>\n",
       "<style scoped>\n",
       "    .dataframe tbody tr th:only-of-type {\n",
       "        vertical-align: middle;\n",
       "    }\n",
       "\n",
       "    .dataframe tbody tr th {\n",
       "        vertical-align: top;\n",
       "    }\n",
       "\n",
       "    .dataframe thead th {\n",
       "        text-align: right;\n",
       "    }\n",
       "</style>\n",
       "<table border=\"1\" class=\"dataframe\">\n",
       "  <thead>\n",
       "    <tr style=\"text-align: right;\">\n",
       "      <th></th>\n",
       "      <th>zipcode</th>\n",
       "      <th>corr_feature_class</th>\n",
       "      <th>correlated w target 2</th>\n",
       "      <th>standard scaling</th>\n",
       "      <th>multicollinearity 1</th>\n",
       "      <th>multicollinearity 3</th>\n",
       "      <th>outliers 2</th>\n",
       "      <th>duplicate_2</th>\n",
       "      <th>correlated w target 1</th>\n",
       "      <th>uniform corr 2</th>\n",
       "      <th>min max scaling</th>\n",
       "      <th>outliers 1</th>\n",
       "      <th>multicollinearity 2</th>\n",
       "      <th>uniform corr 1</th>\n",
       "      <th>informative_1</th>\n",
       "      <th>target</th>\n",
       "      <th>multicollinearity 4</th>\n",
       "      <th>duplicate_1</th>\n",
       "      <th>informative_2</th>\n",
       "      <th>class</th>\n",
       "    </tr>\n",
       "  </thead>\n",
       "  <tbody>\n",
       "    <tr>\n",
       "      <th>zipcode</th>\n",
       "      <td>1.00</td>\n",
       "      <td>-0.12</td>\n",
       "      <td>-0.04</td>\n",
       "      <td>-0.07</td>\n",
       "      <td>-0.02</td>\n",
       "      <td>0.00</td>\n",
       "      <td>-0.08</td>\n",
       "      <td>-0.05</td>\n",
       "      <td>-0.01</td>\n",
       "      <td>-0.06</td>\n",
       "      <td>-0.00</td>\n",
       "      <td>-0.06</td>\n",
       "      <td>-0.07</td>\n",
       "      <td>-0.05</td>\n",
       "      <td>-0.01</td>\n",
       "      <td>-0.04</td>\n",
       "      <td>-0.03</td>\n",
       "      <td>-0.01</td>\n",
       "      <td>-0.05</td>\n",
       "      <td>-0.07</td>\n",
       "    </tr>\n",
       "    <tr>\n",
       "      <th>corr_feature_class</th>\n",
       "      <td>-0.12</td>\n",
       "      <td>1.00</td>\n",
       "      <td>0.19</td>\n",
       "      <td>0.04</td>\n",
       "      <td>-0.01</td>\n",
       "      <td>0.04</td>\n",
       "      <td>-0.02</td>\n",
       "      <td>0.28</td>\n",
       "      <td>0.14</td>\n",
       "      <td>0.21</td>\n",
       "      <td>0.04</td>\n",
       "      <td>-0.02</td>\n",
       "      <td>-0.05</td>\n",
       "      <td>0.20</td>\n",
       "      <td>-0.02</td>\n",
       "      <td>0.29</td>\n",
       "      <td>-0.00</td>\n",
       "      <td>-0.02</td>\n",
       "      <td>0.28</td>\n",
       "      <td>0.41</td>\n",
       "    </tr>\n",
       "    <tr>\n",
       "      <th>correlated w target 2</th>\n",
       "      <td>-0.04</td>\n",
       "      <td>0.19</td>\n",
       "      <td>1.00</td>\n",
       "      <td>-0.00</td>\n",
       "      <td>0.04</td>\n",
       "      <td>-0.02</td>\n",
       "      <td>-0.04</td>\n",
       "      <td>0.70</td>\n",
       "      <td>0.33</td>\n",
       "      <td>0.54</td>\n",
       "      <td>-0.09</td>\n",
       "      <td>0.03</td>\n",
       "      <td>0.00</td>\n",
       "      <td>0.54</td>\n",
       "      <td>-0.04</td>\n",
       "      <td>0.71</td>\n",
       "      <td>-0.04</td>\n",
       "      <td>-0.04</td>\n",
       "      <td>0.70</td>\n",
       "      <td>0.54</td>\n",
       "    </tr>\n",
       "    <tr>\n",
       "      <th>standard scaling</th>\n",
       "      <td>-0.07</td>\n",
       "      <td>0.04</td>\n",
       "      <td>-0.00</td>\n",
       "      <td>1.00</td>\n",
       "      <td>0.00</td>\n",
       "      <td>-0.02</td>\n",
       "      <td>0.04</td>\n",
       "      <td>0.02</td>\n",
       "      <td>0.01</td>\n",
       "      <td>-0.01</td>\n",
       "      <td>-0.03</td>\n",
       "      <td>-0.03</td>\n",
       "      <td>0.07</td>\n",
       "      <td>-0.00</td>\n",
       "      <td>0.05</td>\n",
       "      <td>0.01</td>\n",
       "      <td>-0.03</td>\n",
       "      <td>0.05</td>\n",
       "      <td>0.02</td>\n",
       "      <td>0.02</td>\n",
       "    </tr>\n",
       "    <tr>\n",
       "      <th>multicollinearity 1</th>\n",
       "      <td>-0.02</td>\n",
       "      <td>-0.01</td>\n",
       "      <td>0.04</td>\n",
       "      <td>0.00</td>\n",
       "      <td>1.00</td>\n",
       "      <td>-0.03</td>\n",
       "      <td>-0.02</td>\n",
       "      <td>-0.01</td>\n",
       "      <td>-0.03</td>\n",
       "      <td>-0.03</td>\n",
       "      <td>-0.01</td>\n",
       "      <td>0.02</td>\n",
       "      <td>0.77</td>\n",
       "      <td>-0.00</td>\n",
       "      <td>0.01</td>\n",
       "      <td>-0.01</td>\n",
       "      <td>-0.02</td>\n",
       "      <td>0.01</td>\n",
       "      <td>-0.01</td>\n",
       "      <td>-0.01</td>\n",
       "    </tr>\n",
       "    <tr>\n",
       "      <th>multicollinearity 3</th>\n",
       "      <td>0.00</td>\n",
       "      <td>0.04</td>\n",
       "      <td>-0.02</td>\n",
       "      <td>-0.02</td>\n",
       "      <td>-0.03</td>\n",
       "      <td>1.00</td>\n",
       "      <td>0.06</td>\n",
       "      <td>0.03</td>\n",
       "      <td>0.00</td>\n",
       "      <td>0.05</td>\n",
       "      <td>-0.02</td>\n",
       "      <td>-0.02</td>\n",
       "      <td>-0.04</td>\n",
       "      <td>-0.02</td>\n",
       "      <td>0.00</td>\n",
       "      <td>0.03</td>\n",
       "      <td>0.91</td>\n",
       "      <td>0.00</td>\n",
       "      <td>0.03</td>\n",
       "      <td>0.11</td>\n",
       "    </tr>\n",
       "    <tr>\n",
       "      <th>outliers 2</th>\n",
       "      <td>-0.08</td>\n",
       "      <td>-0.02</td>\n",
       "      <td>-0.04</td>\n",
       "      <td>0.04</td>\n",
       "      <td>-0.02</td>\n",
       "      <td>0.06</td>\n",
       "      <td>1.00</td>\n",
       "      <td>-0.02</td>\n",
       "      <td>0.05</td>\n",
       "      <td>-0.04</td>\n",
       "      <td>-0.00</td>\n",
       "      <td>0.07</td>\n",
       "      <td>-0.00</td>\n",
       "      <td>-0.01</td>\n",
       "      <td>0.04</td>\n",
       "      <td>-0.03</td>\n",
       "      <td>0.01</td>\n",
       "      <td>0.04</td>\n",
       "      <td>-0.02</td>\n",
       "      <td>0.04</td>\n",
       "    </tr>\n",
       "    <tr>\n",
       "      <th>duplicate_2</th>\n",
       "      <td>-0.05</td>\n",
       "      <td>0.28</td>\n",
       "      <td>0.70</td>\n",
       "      <td>0.02</td>\n",
       "      <td>-0.01</td>\n",
       "      <td>0.03</td>\n",
       "      <td>-0.02</td>\n",
       "      <td>1.00</td>\n",
       "      <td>0.46</td>\n",
       "      <td>0.72</td>\n",
       "      <td>-0.06</td>\n",
       "      <td>0.05</td>\n",
       "      <td>0.01</td>\n",
       "      <td>0.70</td>\n",
       "      <td>0.10</td>\n",
       "      <td>0.99</td>\n",
       "      <td>0.01</td>\n",
       "      <td>0.10</td>\n",
       "      <td>1.00</td>\n",
       "      <td>0.72</td>\n",
       "    </tr>\n",
       "    <tr>\n",
       "      <th>correlated w target 1</th>\n",
       "      <td>-0.01</td>\n",
       "      <td>0.14</td>\n",
       "      <td>0.33</td>\n",
       "      <td>0.01</td>\n",
       "      <td>-0.03</td>\n",
       "      <td>0.00</td>\n",
       "      <td>0.05</td>\n",
       "      <td>0.46</td>\n",
       "      <td>1.00</td>\n",
       "      <td>0.33</td>\n",
       "      <td>-0.01</td>\n",
       "      <td>-0.01</td>\n",
       "      <td>-0.04</td>\n",
       "      <td>0.36</td>\n",
       "      <td>0.04</td>\n",
       "      <td>0.46</td>\n",
       "      <td>0.04</td>\n",
       "      <td>0.04</td>\n",
       "      <td>0.46</td>\n",
       "      <td>0.35</td>\n",
       "    </tr>\n",
       "    <tr>\n",
       "      <th>uniform corr 2</th>\n",
       "      <td>-0.06</td>\n",
       "      <td>0.21</td>\n",
       "      <td>0.54</td>\n",
       "      <td>-0.01</td>\n",
       "      <td>-0.03</td>\n",
       "      <td>0.05</td>\n",
       "      <td>-0.04</td>\n",
       "      <td>0.72</td>\n",
       "      <td>0.33</td>\n",
       "      <td>1.00</td>\n",
       "      <td>-0.06</td>\n",
       "      <td>0.03</td>\n",
       "      <td>-0.02</td>\n",
       "      <td>0.51</td>\n",
       "      <td>-0.01</td>\n",
       "      <td>0.72</td>\n",
       "      <td>0.01</td>\n",
       "      <td>-0.01</td>\n",
       "      <td>0.72</td>\n",
       "      <td>0.54</td>\n",
       "    </tr>\n",
       "    <tr>\n",
       "      <th>min max scaling</th>\n",
       "      <td>-0.00</td>\n",
       "      <td>0.04</td>\n",
       "      <td>-0.09</td>\n",
       "      <td>-0.03</td>\n",
       "      <td>-0.01</td>\n",
       "      <td>-0.02</td>\n",
       "      <td>-0.00</td>\n",
       "      <td>-0.06</td>\n",
       "      <td>-0.01</td>\n",
       "      <td>-0.06</td>\n",
       "      <td>1.00</td>\n",
       "      <td>-0.02</td>\n",
       "      <td>-0.07</td>\n",
       "      <td>-0.01</td>\n",
       "      <td>-0.07</td>\n",
       "      <td>-0.05</td>\n",
       "      <td>-0.03</td>\n",
       "      <td>-0.07</td>\n",
       "      <td>-0.06</td>\n",
       "      <td>-0.06</td>\n",
       "    </tr>\n",
       "    <tr>\n",
       "      <th>outliers 1</th>\n",
       "      <td>-0.06</td>\n",
       "      <td>-0.02</td>\n",
       "      <td>0.03</td>\n",
       "      <td>-0.03</td>\n",
       "      <td>0.02</td>\n",
       "      <td>-0.02</td>\n",
       "      <td>0.07</td>\n",
       "      <td>0.05</td>\n",
       "      <td>-0.01</td>\n",
       "      <td>0.03</td>\n",
       "      <td>-0.02</td>\n",
       "      <td>1.00</td>\n",
       "      <td>0.05</td>\n",
       "      <td>0.08</td>\n",
       "      <td>-0.00</td>\n",
       "      <td>0.05</td>\n",
       "      <td>-0.05</td>\n",
       "      <td>-0.00</td>\n",
       "      <td>0.05</td>\n",
       "      <td>-0.01</td>\n",
       "    </tr>\n",
       "    <tr>\n",
       "      <th>multicollinearity 2</th>\n",
       "      <td>-0.07</td>\n",
       "      <td>-0.05</td>\n",
       "      <td>0.00</td>\n",
       "      <td>0.07</td>\n",
       "      <td>0.77</td>\n",
       "      <td>-0.04</td>\n",
       "      <td>-0.00</td>\n",
       "      <td>0.01</td>\n",
       "      <td>-0.04</td>\n",
       "      <td>-0.02</td>\n",
       "      <td>-0.07</td>\n",
       "      <td>0.05</td>\n",
       "      <td>1.00</td>\n",
       "      <td>-0.01</td>\n",
       "      <td>0.05</td>\n",
       "      <td>0.00</td>\n",
       "      <td>-0.07</td>\n",
       "      <td>0.05</td>\n",
       "      <td>0.01</td>\n",
       "      <td>-0.03</td>\n",
       "    </tr>\n",
       "    <tr>\n",
       "      <th>uniform corr 1</th>\n",
       "      <td>-0.05</td>\n",
       "      <td>0.20</td>\n",
       "      <td>0.54</td>\n",
       "      <td>-0.00</td>\n",
       "      <td>-0.00</td>\n",
       "      <td>-0.02</td>\n",
       "      <td>-0.01</td>\n",
       "      <td>0.70</td>\n",
       "      <td>0.36</td>\n",
       "      <td>0.51</td>\n",
       "      <td>-0.01</td>\n",
       "      <td>0.08</td>\n",
       "      <td>-0.01</td>\n",
       "      <td>1.00</td>\n",
       "      <td>-0.02</td>\n",
       "      <td>0.70</td>\n",
       "      <td>-0.02</td>\n",
       "      <td>-0.02</td>\n",
       "      <td>0.70</td>\n",
       "      <td>0.54</td>\n",
       "    </tr>\n",
       "    <tr>\n",
       "      <th>informative_1</th>\n",
       "      <td>-0.01</td>\n",
       "      <td>-0.02</td>\n",
       "      <td>-0.04</td>\n",
       "      <td>0.05</td>\n",
       "      <td>0.01</td>\n",
       "      <td>0.00</td>\n",
       "      <td>0.04</td>\n",
       "      <td>0.10</td>\n",
       "      <td>0.04</td>\n",
       "      <td>-0.01</td>\n",
       "      <td>-0.07</td>\n",
       "      <td>-0.00</td>\n",
       "      <td>0.05</td>\n",
       "      <td>-0.02</td>\n",
       "      <td>1.00</td>\n",
       "      <td>-0.03</td>\n",
       "      <td>0.02</td>\n",
       "      <td>1.00</td>\n",
       "      <td>0.10</td>\n",
       "      <td>-0.01</td>\n",
       "    </tr>\n",
       "    <tr>\n",
       "      <th>target</th>\n",
       "      <td>-0.04</td>\n",
       "      <td>0.29</td>\n",
       "      <td>0.71</td>\n",
       "      <td>0.01</td>\n",
       "      <td>-0.01</td>\n",
       "      <td>0.03</td>\n",
       "      <td>-0.03</td>\n",
       "      <td>0.99</td>\n",
       "      <td>0.46</td>\n",
       "      <td>0.72</td>\n",
       "      <td>-0.05</td>\n",
       "      <td>0.05</td>\n",
       "      <td>0.00</td>\n",
       "      <td>0.70</td>\n",
       "      <td>-0.03</td>\n",
       "      <td>1.00</td>\n",
       "      <td>0.01</td>\n",
       "      <td>-0.03</td>\n",
       "      <td>0.99</td>\n",
       "      <td>0.72</td>\n",
       "    </tr>\n",
       "    <tr>\n",
       "      <th>multicollinearity 4</th>\n",
       "      <td>-0.03</td>\n",
       "      <td>-0.00</td>\n",
       "      <td>-0.04</td>\n",
       "      <td>-0.03</td>\n",
       "      <td>-0.02</td>\n",
       "      <td>0.91</td>\n",
       "      <td>0.01</td>\n",
       "      <td>0.01</td>\n",
       "      <td>0.04</td>\n",
       "      <td>0.01</td>\n",
       "      <td>-0.03</td>\n",
       "      <td>-0.05</td>\n",
       "      <td>-0.07</td>\n",
       "      <td>-0.02</td>\n",
       "      <td>0.02</td>\n",
       "      <td>0.01</td>\n",
       "      <td>1.00</td>\n",
       "      <td>0.02</td>\n",
       "      <td>0.01</td>\n",
       "      <td>0.05</td>\n",
       "    </tr>\n",
       "    <tr>\n",
       "      <th>duplicate_1</th>\n",
       "      <td>-0.01</td>\n",
       "      <td>-0.02</td>\n",
       "      <td>-0.04</td>\n",
       "      <td>0.05</td>\n",
       "      <td>0.01</td>\n",
       "      <td>0.00</td>\n",
       "      <td>0.04</td>\n",
       "      <td>0.10</td>\n",
       "      <td>0.04</td>\n",
       "      <td>-0.01</td>\n",
       "      <td>-0.07</td>\n",
       "      <td>-0.00</td>\n",
       "      <td>0.05</td>\n",
       "      <td>-0.02</td>\n",
       "      <td>1.00</td>\n",
       "      <td>-0.03</td>\n",
       "      <td>0.02</td>\n",
       "      <td>1.00</td>\n",
       "      <td>0.10</td>\n",
       "      <td>-0.01</td>\n",
       "    </tr>\n",
       "    <tr>\n",
       "      <th>informative_2</th>\n",
       "      <td>-0.05</td>\n",
       "      <td>0.28</td>\n",
       "      <td>0.70</td>\n",
       "      <td>0.02</td>\n",
       "      <td>-0.01</td>\n",
       "      <td>0.03</td>\n",
       "      <td>-0.02</td>\n",
       "      <td>1.00</td>\n",
       "      <td>0.46</td>\n",
       "      <td>0.72</td>\n",
       "      <td>-0.06</td>\n",
       "      <td>0.05</td>\n",
       "      <td>0.01</td>\n",
       "      <td>0.70</td>\n",
       "      <td>0.10</td>\n",
       "      <td>0.99</td>\n",
       "      <td>0.01</td>\n",
       "      <td>0.10</td>\n",
       "      <td>1.00</td>\n",
       "      <td>0.72</td>\n",
       "    </tr>\n",
       "    <tr>\n",
       "      <th>class</th>\n",
       "      <td>-0.07</td>\n",
       "      <td>0.41</td>\n",
       "      <td>0.54</td>\n",
       "      <td>0.02</td>\n",
       "      <td>-0.01</td>\n",
       "      <td>0.11</td>\n",
       "      <td>0.04</td>\n",
       "      <td>0.72</td>\n",
       "      <td>0.35</td>\n",
       "      <td>0.54</td>\n",
       "      <td>-0.06</td>\n",
       "      <td>-0.01</td>\n",
       "      <td>-0.03</td>\n",
       "      <td>0.54</td>\n",
       "      <td>-0.01</td>\n",
       "      <td>0.72</td>\n",
       "      <td>0.05</td>\n",
       "      <td>-0.01</td>\n",
       "      <td>0.72</td>\n",
       "      <td>1.00</td>\n",
       "    </tr>\n",
       "  </tbody>\n",
       "</table>\n",
       "</div>"
      ],
      "text/plain": [
       "                       zipcode  corr_feature_class  correlated w target 2  \\\n",
       "zipcode                   1.00               -0.12                  -0.04   \n",
       "corr_feature_class       -0.12                1.00                   0.19   \n",
       "correlated w target 2    -0.04                0.19                   1.00   \n",
       "standard scaling         -0.07                0.04                  -0.00   \n",
       "multicollinearity 1      -0.02               -0.01                   0.04   \n",
       "multicollinearity 3       0.00                0.04                  -0.02   \n",
       "outliers 2               -0.08               -0.02                  -0.04   \n",
       "duplicate_2              -0.05                0.28                   0.70   \n",
       "correlated w target 1    -0.01                0.14                   0.33   \n",
       "uniform corr 2           -0.06                0.21                   0.54   \n",
       "min max scaling          -0.00                0.04                  -0.09   \n",
       "outliers 1               -0.06               -0.02                   0.03   \n",
       "multicollinearity 2      -0.07               -0.05                   0.00   \n",
       "uniform corr 1           -0.05                0.20                   0.54   \n",
       "informative_1            -0.01               -0.02                  -0.04   \n",
       "target                   -0.04                0.29                   0.71   \n",
       "multicollinearity 4      -0.03               -0.00                  -0.04   \n",
       "duplicate_1              -0.01               -0.02                  -0.04   \n",
       "informative_2            -0.05                0.28                   0.70   \n",
       "class                    -0.07                0.41                   0.54   \n",
       "\n",
       "                       standard scaling  multicollinearity 1  \\\n",
       "zipcode                           -0.07                -0.02   \n",
       "corr_feature_class                 0.04                -0.01   \n",
       "correlated w target 2             -0.00                 0.04   \n",
       "standard scaling                   1.00                 0.00   \n",
       "multicollinearity 1                0.00                 1.00   \n",
       "multicollinearity 3               -0.02                -0.03   \n",
       "outliers 2                         0.04                -0.02   \n",
       "duplicate_2                        0.02                -0.01   \n",
       "correlated w target 1              0.01                -0.03   \n",
       "uniform corr 2                    -0.01                -0.03   \n",
       "min max scaling                   -0.03                -0.01   \n",
       "outliers 1                        -0.03                 0.02   \n",
       "multicollinearity 2                0.07                 0.77   \n",
       "uniform corr 1                    -0.00                -0.00   \n",
       "informative_1                      0.05                 0.01   \n",
       "target                             0.01                -0.01   \n",
       "multicollinearity 4               -0.03                -0.02   \n",
       "duplicate_1                        0.05                 0.01   \n",
       "informative_2                      0.02                -0.01   \n",
       "class                              0.02                -0.01   \n",
       "\n",
       "                       multicollinearity 3  outliers 2  duplicate_2  \\\n",
       "zipcode                               0.00       -0.08        -0.05   \n",
       "corr_feature_class                    0.04       -0.02         0.28   \n",
       "correlated w target 2                -0.02       -0.04         0.70   \n",
       "standard scaling                     -0.02        0.04         0.02   \n",
       "multicollinearity 1                  -0.03       -0.02        -0.01   \n",
       "multicollinearity 3                   1.00        0.06         0.03   \n",
       "outliers 2                            0.06        1.00        -0.02   \n",
       "duplicate_2                           0.03       -0.02         1.00   \n",
       "correlated w target 1                 0.00        0.05         0.46   \n",
       "uniform corr 2                        0.05       -0.04         0.72   \n",
       "min max scaling                      -0.02       -0.00        -0.06   \n",
       "outliers 1                           -0.02        0.07         0.05   \n",
       "multicollinearity 2                  -0.04       -0.00         0.01   \n",
       "uniform corr 1                       -0.02       -0.01         0.70   \n",
       "informative_1                         0.00        0.04         0.10   \n",
       "target                                0.03       -0.03         0.99   \n",
       "multicollinearity 4                   0.91        0.01         0.01   \n",
       "duplicate_1                           0.00        0.04         0.10   \n",
       "informative_2                         0.03       -0.02         1.00   \n",
       "class                                 0.11        0.04         0.72   \n",
       "\n",
       "                       correlated w target 1  uniform corr 2  min max scaling  \\\n",
       "zipcode                                -0.01           -0.06            -0.00   \n",
       "corr_feature_class                      0.14            0.21             0.04   \n",
       "correlated w target 2                   0.33            0.54            -0.09   \n",
       "standard scaling                        0.01           -0.01            -0.03   \n",
       "multicollinearity 1                    -0.03           -0.03            -0.01   \n",
       "multicollinearity 3                     0.00            0.05            -0.02   \n",
       "outliers 2                              0.05           -0.04            -0.00   \n",
       "duplicate_2                             0.46            0.72            -0.06   \n",
       "correlated w target 1                   1.00            0.33            -0.01   \n",
       "uniform corr 2                          0.33            1.00            -0.06   \n",
       "min max scaling                        -0.01           -0.06             1.00   \n",
       "outliers 1                             -0.01            0.03            -0.02   \n",
       "multicollinearity 2                    -0.04           -0.02            -0.07   \n",
       "uniform corr 1                          0.36            0.51            -0.01   \n",
       "informative_1                           0.04           -0.01            -0.07   \n",
       "target                                  0.46            0.72            -0.05   \n",
       "multicollinearity 4                     0.04            0.01            -0.03   \n",
       "duplicate_1                             0.04           -0.01            -0.07   \n",
       "informative_2                           0.46            0.72            -0.06   \n",
       "class                                   0.35            0.54            -0.06   \n",
       "\n",
       "                       outliers 1  multicollinearity 2  uniform corr 1  \\\n",
       "zipcode                     -0.06                -0.07           -0.05   \n",
       "corr_feature_class          -0.02                -0.05            0.20   \n",
       "correlated w target 2        0.03                 0.00            0.54   \n",
       "standard scaling            -0.03                 0.07           -0.00   \n",
       "multicollinearity 1          0.02                 0.77           -0.00   \n",
       "multicollinearity 3         -0.02                -0.04           -0.02   \n",
       "outliers 2                   0.07                -0.00           -0.01   \n",
       "duplicate_2                  0.05                 0.01            0.70   \n",
       "correlated w target 1       -0.01                -0.04            0.36   \n",
       "uniform corr 2               0.03                -0.02            0.51   \n",
       "min max scaling             -0.02                -0.07           -0.01   \n",
       "outliers 1                   1.00                 0.05            0.08   \n",
       "multicollinearity 2          0.05                 1.00           -0.01   \n",
       "uniform corr 1               0.08                -0.01            1.00   \n",
       "informative_1               -0.00                 0.05           -0.02   \n",
       "target                       0.05                 0.00            0.70   \n",
       "multicollinearity 4         -0.05                -0.07           -0.02   \n",
       "duplicate_1                 -0.00                 0.05           -0.02   \n",
       "informative_2                0.05                 0.01            0.70   \n",
       "class                       -0.01                -0.03            0.54   \n",
       "\n",
       "                       informative_1  target  multicollinearity 4  \\\n",
       "zipcode                        -0.01   -0.04                -0.03   \n",
       "corr_feature_class             -0.02    0.29                -0.00   \n",
       "correlated w target 2          -0.04    0.71                -0.04   \n",
       "standard scaling                0.05    0.01                -0.03   \n",
       "multicollinearity 1             0.01   -0.01                -0.02   \n",
       "multicollinearity 3             0.00    0.03                 0.91   \n",
       "outliers 2                      0.04   -0.03                 0.01   \n",
       "duplicate_2                     0.10    0.99                 0.01   \n",
       "correlated w target 1           0.04    0.46                 0.04   \n",
       "uniform corr 2                 -0.01    0.72                 0.01   \n",
       "min max scaling                -0.07   -0.05                -0.03   \n",
       "outliers 1                     -0.00    0.05                -0.05   \n",
       "multicollinearity 2             0.05    0.00                -0.07   \n",
       "uniform corr 1                 -0.02    0.70                -0.02   \n",
       "informative_1                   1.00   -0.03                 0.02   \n",
       "target                         -0.03    1.00                 0.01   \n",
       "multicollinearity 4             0.02    0.01                 1.00   \n",
       "duplicate_1                     1.00   -0.03                 0.02   \n",
       "informative_2                   0.10    0.99                 0.01   \n",
       "class                          -0.01    0.72                 0.05   \n",
       "\n",
       "                       duplicate_1  informative_2  class  \n",
       "zipcode                      -0.01          -0.05  -0.07  \n",
       "corr_feature_class           -0.02           0.28   0.41  \n",
       "correlated w target 2        -0.04           0.70   0.54  \n",
       "standard scaling              0.05           0.02   0.02  \n",
       "multicollinearity 1           0.01          -0.01  -0.01  \n",
       "multicollinearity 3           0.00           0.03   0.11  \n",
       "outliers 2                    0.04          -0.02   0.04  \n",
       "duplicate_2                   0.10           1.00   0.72  \n",
       "correlated w target 1         0.04           0.46   0.35  \n",
       "uniform corr 2               -0.01           0.72   0.54  \n",
       "min max scaling              -0.07          -0.06  -0.06  \n",
       "outliers 1                   -0.00           0.05  -0.01  \n",
       "multicollinearity 2           0.05           0.01  -0.03  \n",
       "uniform corr 1               -0.02           0.70   0.54  \n",
       "informative_1                 1.00           0.10  -0.01  \n",
       "target                       -0.03           0.99   0.72  \n",
       "multicollinearity 4           0.02           0.01   0.05  \n",
       "duplicate_1                   1.00           0.10  -0.01  \n",
       "informative_2                 0.10           1.00   0.72  \n",
       "class                        -0.01           0.72   1.00  "
      ]
     },
     "execution_count": 35,
     "metadata": {},
     "output_type": "execute_result"
    }
   ],
   "source": [
    "# code along\n",
    "df._get_numeric_data().corr().round(2)"
   ]
  },
  {
   "cell_type": "code",
   "execution_count": 36,
   "metadata": {
    "colab": {
     "base_uri": "https://localhost:8080/",
     "height": 995
    },
    "id": "4MiwGUpVd8AG",
    "outputId": "07301858-4d2f-4074-c0ab-f31e31a1eb9e"
   },
   "outputs": [
    {
     "data": {
      "image/png": "[encoded data removed]",
      "text/plain": [
       "<Figure size 1200x1200 with 2 Axes>"
      ]
     },
     "metadata": {},
     "output_type": "display_data"
    }
   ],
   "source": [
    "# show correlation between the features\n",
    "import numpy as np\n",
    "import matplotlib.pyplot as plt\n",
    "import seaborn as sns\n",
    "\n",
    "# correlation matrix\n",
    "sns.set(style=\"white\")\n",
    "\n",
    "# compute the correlation matrix\n",
    "corr = df._get_numeric_data().corr().round(2)\n",
    "\n",
    "# generate a mask for the upper triangle\n",
    "mask = np.zeros_like(corr, dtype=bool)\n",
    "mask[np.triu_indices_from(mask)] = True\n",
    "\n",
    "# set up the matplotlib figure\n",
    "# f, ax = plt.subplots()\n",
    "f = plt.figure(figsize=(12, 12))\n",
    "\n",
    "# generate a custom diverging colormap\n",
    "cmap = sns.diverging_palette(220, 10, as_cmap=True)\n",
    "\n",
    "# draw the heatmap with the mask and correct aspect ratio\n",
    "sns.heatmap(corr, mask=mask, cmap=cmap, vmax=.3, center=0,\n",
    "            square=True, linewidths=.5, cbar_kws={\"shrink\": .5}, annot=True);\n",
    "\n",
    "plt.tight_layout()"
   ]
  },
  {
   "cell_type": "code",
   "execution_count": 38,
   "metadata": {
    "colab": {
     "base_uri": "https://localhost:8080/"
    },
    "id": "rK9vXDx28Sxc",
    "outputId": "923fcf56-cdcf-47d8-f1fe-55039824ed02"
   },
   "outputs": [
    {
     "name": "stdout",
     "output_type": "stream",
     "text": [
      "                  feature1               feature2  correlation\n",
      "354            duplicate_1          informative_1     1.000000\n",
      "158            duplicate_2          informative_2     1.000000\n",
      "367          informative_2            duplicate_2     1.000000\n",
      "297          informative_1            duplicate_1     1.000000\n",
      "375          informative_2                 target     0.991500\n",
      "155            duplicate_2                 target     0.991500\n",
      "318                 target          informative_2     0.991500\n",
      "307                 target            duplicate_2     0.991500\n",
      "116    multicollinearity 3    multicollinearity 4     0.907703\n",
      "325    multicollinearity 4    multicollinearity 3     0.907703\n",
      "92     multicollinearity 1    multicollinearity 2     0.771126\n",
      "244    multicollinearity 2    multicollinearity 1     0.771126\n",
      "395                  class                 target     0.722662\n",
      "319                 target                  class     0.722662\n",
      "309                 target         uniform corr 2     0.720497\n",
      "195         uniform corr 2                 target     0.720497\n",
      "398                  class          informative_2     0.717481\n",
      "379          informative_2                  class     0.717481\n",
      "159            duplicate_2                  class     0.717481\n",
      "387                  class            duplicate_2     0.717481\n",
      "369          informative_2         uniform corr 2     0.715539\n",
      "198         uniform corr 2          informative_2     0.715539\n",
      "187         uniform corr 2            duplicate_2     0.715539\n",
      "149            duplicate_2         uniform corr 2     0.715539\n",
      "302                 target  correlated w target 2     0.711054\n",
      "55   correlated w target 2                 target     0.711054\n",
      "362          informative_2  correlated w target 2     0.703776\n",
      "142            duplicate_2  correlated w target 2     0.703776\n",
      "58   correlated w target 2          informative_2     0.703776\n",
      "47   correlated w target 2            duplicate_2     0.703776\n",
      "313                 target         uniform corr 1     0.703568\n",
      "275         uniform corr 1                 target     0.703568\n",
      "Data saved to development/pickles/correlation_scores.pkl\n"
     ]
    }
   ],
   "source": [
    "import pickle\n",
    "import os\n",
    "\n",
    "# calculate the correlation matrix\n",
    "corr_matrix = df._get_numeric_data().corr()\n",
    "\n",
    "# Create a mask for the upper triangle (to avoid duplicates)\n",
    "mask = np.triu(np.ones_like(corr_matrix, dtype=bool))\n",
    "\n",
    "# Convert the correlation matrix to a long format\n",
    "corr_df = corr_matrix.stack().reset_index()\n",
    "corr_df.columns = ['feature1', 'feature2', 'correlation']\n",
    "\n",
    "# Filter for correlations above a certain threshold (e.g., 0.7)\n",
    "high_corr_df = corr_df[(abs(corr_df['correlation']) > 0.7) & (corr_df['feature1'] != corr_df['feature2'])]\n",
    "\n",
    "# Sort by absolute correlation in descending order\n",
    "high_corr_df = high_corr_df.sort_values(by='correlation', ascending=False, key=abs)\n",
    "\n",
    "# Print the top correlated features\n",
    "# print(high_corr_df['feature1'].to_list()[4:10])\n",
    "print(high_corr_df)\n",
    "\n",
    "# Create a variable to pickle\n",
    "#data = {'correlation scores': high_corr_df}\n",
    "\n",
    "# Pickle the variable and save it to a file\n",
    "directory = 'development/pickles'\n",
    "os.makedirs(directory, exist_ok=True)  # Create the directory if it doesn't exist\n",
    "file_path = os.path.join(directory, 'correlation_scores.pkl')\n",
    "\n",
    "with open(file_path, 'wb') as f:\n",
    "    pickle.dump(data, f)\n",
    "print(f\"Data saved to {file_path}\")"
   ]
  },
  {
   "cell_type": "code",
   "execution_count": 39,
   "metadata": {
    "colab": {
     "base_uri": "https://localhost:8080/"
    },
    "id": "phR0PhZWrOFi",
    "outputId": "97699b02-3d46-4b8a-f905-328919ec1e09"
   },
   "outputs": [
    {
     "name": "stdout",
     "output_type": "stream",
     "text": [
      "inf\n",
      "                 Variable           VIF\n",
      "0                 zipcode  1.014664e+00\n",
      "1      corr_feature_class  1.104416e+00\n",
      "2   correlated w target 2  1.852326e+00\n",
      "3        standard scaling  1.010582e+00\n",
      "4     multicollinearity 1  1.429899e+00\n",
      "5     multicollinearity 3  1.728010e+00\n",
      "6              outliers 2  1.014339e+00\n",
      "7             duplicate_2           inf\n",
      "8   correlated w target 1  1.286527e+00\n",
      "9          uniform corr 2  2.096597e+00\n",
      "10        min max scaling  1.021474e+00\n",
      "11             outliers 1  1.019637e+00\n",
      "12    multicollinearity 2  1.438390e+00\n",
      "13         uniform corr 1  2.013544e+00\n",
      "14          informative_1           inf\n",
      "15                 target  1.387150e+04\n",
      "16    multicollinearity 4  1.739644e+00\n",
      "17            duplicate_1           inf\n",
      "18          informative_2           inf\n"
     ]
    },
    {
     "name": "stderr",
     "output_type": "stream",
     "text": [
      "/opt/anaconda3/lib/python3.12/site-packages/statsmodels/stats/outliers_influence.py:197: RuntimeWarning: divide by zero encountered in scalar divide\n",
      "  vif = 1. / (1. - r_squared_i)\n",
      "/opt/anaconda3/lib/python3.12/site-packages/statsmodels/stats/outliers_influence.py:197: RuntimeWarning: divide by zero encountered in scalar divide\n",
      "  vif = 1. / (1. - r_squared_i)\n"
     ]
    }
   ],
   "source": [
    "# check for vif\n",
    "import pandas as pd\n",
    "import numpy as np\n",
    "from sklearn.preprocessing import StandardScaler\n",
    "from statsmodels.stats.outliers_influence import variance_inflation_factor\n",
    "\n",
    "# handle null values (using mean imputation for simplicity)\n",
    "x_copy = df.drop('class', axis=1)._get_numeric_data()\n",
    "x_copy.fillna(x_copy.mean(), inplace=True)\n",
    "\n",
    "print(max([variance_inflation_factor(x_copy, i) for i in range(x_copy.shape[1])]))\n",
    "\n",
    "# calculate VIF\n",
    "vif = pd.DataFrame()\n",
    "vif[\"Variable\"] = x_copy.columns\n",
    "vif[\"VIF\"] = [variance_inflation_factor(x_copy, i) for i in range(x_copy.shape[1])]\n",
    "print(vif)"
   ]
  },
  {
   "cell_type": "markdown",
   "metadata": {
    "id": "O_iCw05QUmzN"
   },
   "source": [
    "## Multicollinearity\n",
    "\n",
    "* We want high correlation with target\n",
    "* We don't want high correlation between features\n",
    "* Drop correlated features\n",
    "* Combine correlated features"
   ]
  },
  {
   "cell_type": "code",
   "execution_count": 40,
   "metadata": {},
   "outputs": [
    {
     "name": "stdout",
     "output_type": "stream",
     "text": [
      "duplicate_2 inf\n",
      "informative_1 inf\n",
      "target 13871.498315470653\n",
      "standard scaling 18.409601394483975\n",
      "                 Variable       VIF\n",
      "0                 zipcode  6.426514\n",
      "1      corr_feature_class  1.599598\n",
      "2   correlated w target 2  1.853898\n",
      "3     multicollinearity 1  1.428786\n",
      "4     multicollinearity 3  1.726601\n",
      "5              outliers 2  3.345033\n",
      "6   correlated w target 1  1.293683\n",
      "7          uniform corr 2  6.549865\n",
      "8         min max scaling  9.894762\n",
      "9              outliers 1  1.019277\n",
      "10    multicollinearity 2  1.430208\n",
      "11         uniform corr 1  6.827487\n",
      "12    multicollinearity 4  1.735041\n",
      "13            duplicate_1  1.052336\n",
      "14          informative_2  3.395341\n",
      "Data saved to development/pickles/vif.pkl\n"
     ]
    },
    {
     "name": "stderr",
     "output_type": "stream",
     "text": [
      "/opt/anaconda3/lib/python3.12/site-packages/statsmodels/stats/outliers_influence.py:197: RuntimeWarning: divide by zero encountered in scalar divide\n",
      "  vif = 1. / (1. - r_squared_i)\n",
      "/opt/anaconda3/lib/python3.12/site-packages/statsmodels/stats/outliers_influence.py:197: RuntimeWarning: divide by zero encountered in scalar divide\n",
      "  vif = 1. / (1. - r_squared_i)\n"
     ]
    }
   ],
   "source": [
    "# iterate dropping features with high vif\n",
    "import pandas as pd\n",
    "import numpy as np\n",
    "from sklearn.preprocessing import StandardScaler\n",
    "from statsmodels.stats.outliers_influence import variance_inflation_factor\n",
    "import pickle\n",
    "import os\n",
    "\n",
    "# Initialize removed features list\n",
    "removed1 = []\n",
    "\n",
    "# Create a copy of x_copy (ensure x_copy is defined with numeric data)\n",
    "x_copy1 = x_copy.copy()\n",
    "\n",
    "# Threshold for VIF\n",
    "max_vif = thresh = 10\n",
    "\n",
    "# Iterate to drop features with high VIF\n",
    "while max_vif >= thresh:\n",
    "    my_list = [variance_inflation_factor(x_copy1.values, i) for i in range(x_copy1.shape[1])]\n",
    "    max_vif = max(my_list)\n",
    "    if max_vif > thresh:\n",
    "        max_index = my_list.index(max_vif)\n",
    "        removed1.append(x_copy1.columns[max_index])\n",
    "        print(x_copy1.columns[max_index], variance_inflation_factor(x_copy1.values, max_index))\n",
    "        x_copy1.drop(x_copy1.columns[max_index], axis=1, inplace=True)\n",
    "\n",
    "# Calculate VIF for remaining variables\n",
    "vif = pd.DataFrame()\n",
    "vif[\"Variable\"] = x_copy1.columns\n",
    "vif[\"VIF\"] = [variance_inflation_factor(x_copy1.values, i) for i in range(x_copy1.shape[1])]\n",
    "print(vif)\n",
    "\n",
    "# Create a variable to pickle\n",
    "data = {'vif': vif}\n",
    "\n",
    "# Pickle the variable and save it to a file\n",
    "directory = 'development/pickles'\n",
    "os.makedirs(directory, exist_ok=True)  # Create directory if it doesn't exist\n",
    "file_path = os.path.join(directory, 'vif.pkl')\n",
    "\n",
    "with open(file_path, 'wb') as f:\n",
    "    pickle.dump(data, f)\n",
    "\n",
    "print(f\"Data saved to {file_path}\")"
   ]
  },
  {
   "cell_type": "code",
   "execution_count": 41,
   "metadata": {
    "colab": {
     "base_uri": "https://localhost:8080/"
    },
    "id": "eAb1MA-UEA1e",
    "outputId": "8ab5cb86-ee3c-4dac-cc25-07d96f22b0ff"
   },
   "outputs": [
    {
     "name": "stderr",
     "output_type": "stream",
     "text": [
      "/opt/anaconda3/lib/python3.12/site-packages/statsmodels/stats/outliers_influence.py:197: RuntimeWarning: divide by zero encountered in scalar divide\n",
      "  vif = 1. / (1. - r_squared_i)\n",
      "/opt/anaconda3/lib/python3.12/site-packages/statsmodels/stats/outliers_influence.py:197: RuntimeWarning: divide by zero encountered in scalar divide\n",
      "  vif = 1. / (1. - r_squared_i)\n"
     ]
    },
    {
     "name": "stdout",
     "output_type": "stream",
     "text": [
      "duplicate_2 inf\n",
      "informative_1 inf\n",
      "target 13871.498315470653\n",
      "standard scaling 18.409601394483975\n",
      "                 Variable       VIF\n",
      "0                 zipcode  6.426514\n",
      "1      corr_feature_class  1.599598\n",
      "2   correlated w target 2  1.853898\n",
      "3     multicollinearity 1  1.428786\n",
      "4     multicollinearity 3  1.726601\n",
      "5              outliers 2  3.345033\n",
      "6   correlated w target 1  1.293683\n",
      "7          uniform corr 2  6.549865\n",
      "8         min max scaling  9.894762\n",
      "9              outliers 1  1.019277\n",
      "10    multicollinearity 2  1.430208\n",
      "11         uniform corr 1  6.827487\n",
      "12    multicollinearity 4  1.735041\n",
      "13            duplicate_1  1.052336\n",
      "14          informative_2  3.395341\n"
     ]
    }
   ],
   "source": [
    "# check again vif\n",
    "import pandas as pd\n",
    "import numpy as np\n",
    "from sklearn.preprocessing import StandardScaler\n",
    "from statsmodels.stats.outliers_influence import variance_inflation_factor\n",
    "\n",
    "removed2=[]\n",
    "max_vif = thresh = 10\n",
    "while max_vif >= thresh:\n",
    "  max_vif = max([variance_inflation_factor(x_copy, i) for i in range(x_copy.shape[1])])\n",
    "  for i in range(x_copy.shape[1]):\n",
    "    if variance_inflation_factor(x_copy, i) > thresh:\n",
    "      removed2.append(x_copy.columns[i])\n",
    "      print(x_copy.columns[i], variance_inflation_factor(x_copy, i))\n",
    "      x_copy.drop(x_copy.columns[i], axis=1, inplace=True)\n",
    "      break\n",
    "\n",
    "# Calculate VIF\n",
    "vif = pd.DataFrame()\n",
    "vif[\"Variable\"] = x_copy.columns\n",
    "vif[\"VIF\"] = [variance_inflation_factor(x_copy, i) for i in range(x_copy.shape[1])]\n",
    "print(vif)"
   ]
  },
  {
   "cell_type": "code",
   "execution_count": 42,
   "metadata": {
    "colab": {
     "base_uri": "https://localhost:8080/"
    },
    "id": "TJOdfdcPfTBB",
    "outputId": "114daf9a-4399-4365-9acd-ba858f0e05bc"
   },
   "outputs": [
    {
     "name": "stdout",
     "output_type": "stream",
     "text": [
      "['duplicate_2', 'informative_1', 'target', 'standard scaling']\n",
      "['duplicate_2', 'informative_1', 'target', 'standard scaling']\n"
     ]
    }
   ],
   "source": [
    "print(removed1)\n",
    "print(removed2)"
   ]
  },
  {
   "cell_type": "markdown",
   "metadata": {
    "id": "qzuW_Dp-h0hX"
   },
   "source": [
    "## Outliers"
   ]
  },
  {
   "cell_type": "code",
   "execution_count": 43,
   "metadata": {
    "colab": {
     "base_uri": "https://localhost:8080/",
     "height": 434
    },
    "id": "Wvt9mNhQvX2C",
    "outputId": "55b3886b-ad33-4976-f3a0-e6fbfccffbd8"
   },
   "outputs": [
    {
     "data": {
      "image/png": "[encoded data removed]",
      "text/plain": [
       "<Figure size 640x480 with 1 Axes>"
      ]
     },
     "metadata": {},
     "output_type": "display_data"
    }
   ],
   "source": [
    "# code along\n",
    "df.boxplot(column=['outliers 1']);"
   ]
  },
  {
   "cell_type": "code",
   "execution_count": 44,
   "metadata": {
    "colab": {
     "base_uri": "https://localhost:8080/",
     "height": 337
    },
    "id": "ZwA0vezIyGsP",
    "outputId": "5645ea45-63bf-4da4-87d5-e11118afedea"
   },
   "outputs": [
    {
     "data": {
      "text/html": [
       "<div>\n",
       "<style scoped>\n",
       "    .dataframe tbody tr th:only-of-type {\n",
       "        vertical-align: middle;\n",
       "    }\n",
       "\n",
       "    .dataframe tbody tr th {\n",
       "        vertical-align: top;\n",
       "    }\n",
       "\n",
       "    .dataframe thead th {\n",
       "        text-align: right;\n",
       "    }\n",
       "</style>\n",
       "<table border=\"1\" class=\"dataframe\">\n",
       "  <thead>\n",
       "    <tr style=\"text-align: right;\">\n",
       "      <th></th>\n",
       "      <th>zipcode</th>\n",
       "      <th>corr_feature_class</th>\n",
       "      <th>correlated w target 2</th>\n",
       "      <th>standard scaling</th>\n",
       "      <th>multicollinearity 1</th>\n",
       "      <th>multicollinearity 3</th>\n",
       "      <th>outliers 2</th>\n",
       "      <th>duplicate_2</th>\n",
       "      <th>correlated w target 1</th>\n",
       "      <th>uniform corr 2</th>\n",
       "      <th>min max scaling</th>\n",
       "      <th>outliers 1</th>\n",
       "      <th>multicollinearity 2</th>\n",
       "      <th>uniform corr 1</th>\n",
       "      <th>informative_1</th>\n",
       "      <th>target</th>\n",
       "      <th>multicollinearity 4</th>\n",
       "      <th>duplicate_1</th>\n",
       "      <th>informative_2</th>\n",
       "      <th>class</th>\n",
       "    </tr>\n",
       "  </thead>\n",
       "  <tbody>\n",
       "    <tr>\n",
       "      <th>count</th>\n",
       "      <td>452.000000</td>\n",
       "      <td>1010.000000</td>\n",
       "      <td>909.000000</td>\n",
       "      <td>806.000000</td>\n",
       "      <td>910.000000</td>\n",
       "      <td>507.000000</td>\n",
       "      <td>707.000000</td>\n",
       "      <td>1010.000000</td>\n",
       "      <td>1010.000000</td>\n",
       "      <td>1010.000000</td>\n",
       "      <td>909.000000</td>\n",
       "      <td>960.000000</td>\n",
       "      <td>507.000000</td>\n",
       "      <td>1010.000000</td>\n",
       "      <td>1010.000000</td>\n",
       "      <td>1010.000000</td>\n",
       "      <td>1010.000000</td>\n",
       "      <td>1010.000000</td>\n",
       "      <td>1010.000000</td>\n",
       "      <td>1010.000000</td>\n",
       "    </tr>\n",
       "    <tr>\n",
       "      <th>mean</th>\n",
       "      <td>49666.699115</td>\n",
       "      <td>2.057978</td>\n",
       "      <td>0.098293</td>\n",
       "      <td>50315.839707</td>\n",
       "      <td>-0.007265</td>\n",
       "      <td>0.013342</td>\n",
       "      <td>3.003530</td>\n",
       "      <td>-0.018978</td>\n",
       "      <td>0.252037</td>\n",
       "      <td>0.491110</td>\n",
       "      <td>349.344107</td>\n",
       "      <td>-0.030121</td>\n",
       "      <td>-0.005689</td>\n",
       "      <td>0.497305</td>\n",
       "      <td>-0.047372</td>\n",
       "      <td>0.195609</td>\n",
       "      <td>0.023574</td>\n",
       "      <td>-0.047372</td>\n",
       "      <td>-0.018978</td>\n",
       "      <td>0.502970</td>\n",
       "    </tr>\n",
       "    <tr>\n",
       "      <th>std</th>\n",
       "      <td>27675.600995</td>\n",
       "      <td>2.990996</td>\n",
       "      <td>3.022414</td>\n",
       "      <td>9508.259590</td>\n",
       "      <td>1.009693</td>\n",
       "      <td>1.000591</td>\n",
       "      <td>2.224739</td>\n",
       "      <td>1.403413</td>\n",
       "      <td>2.985798</td>\n",
       "      <td>0.294288</td>\n",
       "      <td>97.770280</td>\n",
       "      <td>1.387000</td>\n",
       "      <td>1.027125</td>\n",
       "      <td>0.291852</td>\n",
       "      <td>1.324010</td>\n",
       "      <td>2.991347</td>\n",
       "      <td>0.989587</td>\n",
       "      <td>1.324010</td>\n",
       "      <td>1.403413</td>\n",
       "      <td>0.500239</td>\n",
       "    </tr>\n",
       "    <tr>\n",
       "      <th>min</th>\n",
       "      <td>709.000000</td>\n",
       "      <td>-12.309564</td>\n",
       "      <td>-8.237568</td>\n",
       "      <td>18904.267527</td>\n",
       "      <td>-2.952134</td>\n",
       "      <td>-2.997488</td>\n",
       "      <td>-3.452532</td>\n",
       "      <td>-4.543441</td>\n",
       "      <td>-8.217495</td>\n",
       "      <td>0.001981</td>\n",
       "      <td>73.656688</td>\n",
       "      <td>-5.487577</td>\n",
       "      <td>-3.035702</td>\n",
       "      <td>0.002370</td>\n",
       "      <td>-3.836929</td>\n",
       "      <td>-8.943212</td>\n",
       "      <td>-3.027231</td>\n",
       "      <td>-3.836929</td>\n",
       "      <td>-4.543441</td>\n",
       "      <td>0.000000</td>\n",
       "    </tr>\n",
       "    <tr>\n",
       "      <th>25%</th>\n",
       "      <td>27356.250000</td>\n",
       "      <td>0.479984</td>\n",
       "      <td>-1.925224</td>\n",
       "      <td>43655.494608</td>\n",
       "      <td>-0.697761</td>\n",
       "      <td>-0.641131</td>\n",
       "      <td>1.511305</td>\n",
       "      <td>-1.050339</td>\n",
       "      <td>-1.764625</td>\n",
       "      <td>0.233587</td>\n",
       "      <td>280.563775</td>\n",
       "      <td>-0.772804</td>\n",
       "      <td>-0.660676</td>\n",
       "      <td>0.244269</td>\n",
       "      <td>-1.018399</td>\n",
       "      <td>-2.166961</td>\n",
       "      <td>-0.674431</td>\n",
       "      <td>-1.018399</td>\n",
       "      <td>-1.050339</td>\n",
       "      <td>0.000000</td>\n",
       "    </tr>\n",
       "    <tr>\n",
       "      <th>50%</th>\n",
       "      <td>47953.000000</td>\n",
       "      <td>2.043366</td>\n",
       "      <td>-0.029636</td>\n",
       "      <td>50277.525548</td>\n",
       "      <td>0.023599</td>\n",
       "      <td>-0.030070</td>\n",
       "      <td>2.996670</td>\n",
       "      <td>-0.194004</td>\n",
       "      <td>0.199418</td>\n",
       "      <td>0.478522</td>\n",
       "      <td>349.812542</td>\n",
       "      <td>-0.045790</td>\n",
       "      <td>0.000318</td>\n",
       "      <td>0.492916</td>\n",
       "      <td>-0.224366</td>\n",
       "      <td>-0.011259</td>\n",
       "      <td>-0.001431</td>\n",
       "      <td>-0.224366</td>\n",
       "      <td>-0.194004</td>\n",
       "      <td>1.000000</td>\n",
       "    </tr>\n",
       "    <tr>\n",
       "      <th>75%</th>\n",
       "      <td>72765.750000</td>\n",
       "      <td>3.754576</td>\n",
       "      <td>2.140889</td>\n",
       "      <td>56926.690793</td>\n",
       "      <td>0.647150</td>\n",
       "      <td>0.676288</td>\n",
       "      <td>4.577607</td>\n",
       "      <td>0.991017</td>\n",
       "      <td>2.278622</td>\n",
       "      <td>0.737063</td>\n",
       "      <td>415.842131</td>\n",
       "      <td>0.742519</td>\n",
       "      <td>0.638481</td>\n",
       "      <td>0.740067</td>\n",
       "      <td>0.975364</td>\n",
       "      <td>2.367192</td>\n",
       "      <td>0.692636</td>\n",
       "      <td>0.975364</td>\n",
       "      <td>0.991017</td>\n",
       "      <td>1.000000</td>\n",
       "    </tr>\n",
       "    <tr>\n",
       "      <th>max</th>\n",
       "      <td>99630.000000</td>\n",
       "      <td>18.938211</td>\n",
       "      <td>9.576795</td>\n",
       "      <td>83315.257195</td>\n",
       "      <td>3.118016</td>\n",
       "      <td>2.814992</td>\n",
       "      <td>9.176511</td>\n",
       "      <td>4.020262</td>\n",
       "      <td>9.641778</td>\n",
       "      <td>0.999869</td>\n",
       "      <td>632.190647</td>\n",
       "      <td>4.666768</td>\n",
       "      <td>2.984780</td>\n",
       "      <td>0.999539</td>\n",
       "      <td>3.994644</td>\n",
       "      <td>9.299296</td>\n",
       "      <td>3.190133</td>\n",
       "      <td>3.994644</td>\n",
       "      <td>4.020262</td>\n",
       "      <td>1.000000</td>\n",
       "    </tr>\n",
       "  </tbody>\n",
       "</table>\n",
       "</div>"
      ],
      "text/plain": [
       "            zipcode  corr_feature_class  correlated w target 2  \\\n",
       "count    452.000000         1010.000000             909.000000   \n",
       "mean   49666.699115            2.057978               0.098293   \n",
       "std    27675.600995            2.990996               3.022414   \n",
       "min      709.000000          -12.309564              -8.237568   \n",
       "25%    27356.250000            0.479984              -1.925224   \n",
       "50%    47953.000000            2.043366              -0.029636   \n",
       "75%    72765.750000            3.754576               2.140889   \n",
       "max    99630.000000           18.938211               9.576795   \n",
       "\n",
       "       standard scaling  multicollinearity 1  multicollinearity 3  outliers 2  \\\n",
       "count        806.000000           910.000000           507.000000  707.000000   \n",
       "mean       50315.839707            -0.007265             0.013342    3.003530   \n",
       "std         9508.259590             1.009693             1.000591    2.224739   \n",
       "min        18904.267527            -2.952134            -2.997488   -3.452532   \n",
       "25%        43655.494608            -0.697761            -0.641131    1.511305   \n",
       "50%        50277.525548             0.023599            -0.030070    2.996670   \n",
       "75%        56926.690793             0.647150             0.676288    4.577607   \n",
       "max        83315.257195             3.118016             2.814992    9.176511   \n",
       "\n",
       "       duplicate_2  correlated w target 1  uniform corr 2  min max scaling  \\\n",
       "count  1010.000000            1010.000000     1010.000000       909.000000   \n",
       "mean     -0.018978               0.252037        0.491110       349.344107   \n",
       "std       1.403413               2.985798        0.294288        97.770280   \n",
       "min      -4.543441              -8.217495        0.001981        73.656688   \n",
       "25%      -1.050339              -1.764625        0.233587       280.563775   \n",
       "50%      -0.194004               0.199418        0.478522       349.812542   \n",
       "75%       0.991017               2.278622        0.737063       415.842131   \n",
       "max       4.020262               9.641778        0.999869       632.190647   \n",
       "\n",
       "       outliers 1  multicollinearity 2  uniform corr 1  informative_1  \\\n",
       "count  960.000000           507.000000     1010.000000    1010.000000   \n",
       "mean    -0.030121            -0.005689        0.497305      -0.047372   \n",
       "std      1.387000             1.027125        0.291852       1.324010   \n",
       "min     -5.487577            -3.035702        0.002370      -3.836929   \n",
       "25%     -0.772804            -0.660676        0.244269      -1.018399   \n",
       "50%     -0.045790             0.000318        0.492916      -0.224366   \n",
       "75%      0.742519             0.638481        0.740067       0.975364   \n",
       "max      4.666768             2.984780        0.999539       3.994644   \n",
       "\n",
       "            target  multicollinearity 4  duplicate_1  informative_2  \\\n",
       "count  1010.000000          1010.000000  1010.000000    1010.000000   \n",
       "mean      0.195609             0.023574    -0.047372      -0.018978   \n",
       "std       2.991347             0.989587     1.324010       1.403413   \n",
       "min      -8.943212            -3.027231    -3.836929      -4.543441   \n",
       "25%      -2.166961            -0.674431    -1.018399      -1.050339   \n",
       "50%      -0.011259            -0.001431    -0.224366      -0.194004   \n",
       "75%       2.367192             0.692636     0.975364       0.991017   \n",
       "max       9.299296             3.190133     3.994644       4.020262   \n",
       "\n",
       "             class  \n",
       "count  1010.000000  \n",
       "mean      0.502970  \n",
       "std       0.500239  \n",
       "min       0.000000  \n",
       "25%       0.000000  \n",
       "50%       1.000000  \n",
       "75%       1.000000  \n",
       "max       1.000000  "
      ]
     },
     "execution_count": 44,
     "metadata": {},
     "output_type": "execute_result"
    }
   ],
   "source": [
    "# code along\n",
    "df.describe()"
   ]
  },
  {
   "cell_type": "code",
   "execution_count": 60,
   "metadata": {},
   "outputs": [
    {
     "name": "stdout",
     "output_type": "stream",
     "text": [
      "Data saved to development/pickles/outliers.pkl\n"
     ]
    }
   ],
   "source": [
    "import pickle\n",
    "import os\n",
    "import pandas as pd\n",
    "import numpy as np\n",
    "\n",
    "# Example DataFrame\n",
    "df = pd.DataFrame({'A': [1, 2, 3, 100], 'B': [4, 5, 6, 200]})\n",
    "\n",
    "# Detect outliers using Z-score\n",
    "z_scores = np.abs((df - df.mean()) / df.std())\n",
    "threshold = 3\n",
    "outliers = df[(z_scores > threshold).any(axis=1)]\n",
    "\n",
    "# Create a variable to pickle\n",
    "data = {'outliers': outliers}\n",
    "\n",
    "# Define the directory and file path\n",
    "directory = 'development/pickles'\n",
    "os.makedirs(directory, exist_ok=True)  # Create directory if it doesn't exist\n",
    "file_path = os.path.join(directory, 'outliers.pkl')\n",
    "\n",
    "# Pickle the variable and save it to a file\n",
    "with open(file_path, 'wb') as f:\n",
    "    pickle.dump(data, f)\n",
    "\n",
    "print(f\"Data saved to {file_path}\")"
   ]
  },
  {
   "cell_type": "code",
   "execution_count": 61,
   "metadata": {
    "colab": {
     "base_uri": "https://localhost:8080/"
    },
    "id": "C71eDEM3JOc1",
    "outputId": "19a34311-83e3-454f-d462-4309b3057372"
   },
   "outputs": [
    {
     "name": "stdout",
     "output_type": "stream",
     "text": [
      "<class 'pandas.core.frame.DataFrame'>\n",
      "RangeIndex: 4 entries, 0 to 3\n",
      "Data columns (total 2 columns):\n",
      " #   Column  Non-Null Count  Dtype\n",
      "---  ------  --------------  -----\n",
      " 0   A       4 non-null      int64\n",
      " 1   B       4 non-null      int64\n",
      "dtypes: int64(2)\n",
      "memory usage: 196.0 bytes\n"
     ]
    }
   ],
   "source": [
    "# code along\n",
    "df.info()"
   ]
  },
  {
   "cell_type": "markdown",
   "metadata": {
    "id": "p43IcKZ2H4TU"
   },
   "source": [
    "# Part 3 - Data Prep\n",
    "\n",
    "https://www.udemy.com/course/feature-engineering-for-machine-learning\n",
    "\n",
    "* Types and characteristics of data\n",
    "* Missing data imputation\n",
    "* Categorical encoding\n",
    "* Variable transformation\n",
    "* Discretization\n",
    "* Outliers\n",
    "* Datetime\n",
    "* Scaling\n",
    "* Feature creation"
   ]
  },
  {
   "cell_type": "markdown",
   "metadata": {
    "id": "nWWZXj_t7wkH"
   },
   "source": [
    "## Load Data"
   ]
  },
  {
   "cell_type": "code",
   "execution_count": 63,
   "metadata": {
    "id": "GER6wToI7wkI"
   },
   "outputs": [
    {
     "name": "stdout",
     "output_type": "stream",
     "text": [
      "(1010, 41)\n",
      "<class 'pandas.core.frame.DataFrame'>\n",
      "RangeIndex: 1010 entries, 0 to 1009\n",
      "Data columns (total 41 columns):\n",
      " #   Column                 Non-Null Count  Dtype  \n",
      "---  ------                 --------------  -----  \n",
      " 0   binary                 960 non-null    object \n",
      " 1   given_name             910 non-null    object \n",
      " 2   surname                503 non-null    object \n",
      " 3   date_of_birth          504 non-null    object \n",
      " 4   phone_number           706 non-null    object \n",
      " 5   email                  959 non-null    object \n",
      " 6   address                890 non-null    object \n",
      " 7   city                   704 non-null    object \n",
      " 8   state                  890 non-null    object \n",
      " 9   zipcode                452 non-null    float64\n",
      " 10  random choice 2        503 non-null    object \n",
      " 11  constant_1             1010 non-null   object \n",
      " 12  random label num 4     505 non-null    object \n",
      " 13  semi_constant_1        1010 non-null   object \n",
      " 14  semi_constant_2        1010 non-null   object \n",
      " 15  corr_feature_class     1010 non-null   float64\n",
      " 16  pd qcut3               810 non-null    object \n",
      " 17  correlated w target 2  909 non-null    float64\n",
      " 18  standard scaling       806 non-null    float64\n",
      " 19  constant_2             1010 non-null   object \n",
      " 20  multicollinearity 1    910 non-null    float64\n",
      " 21  random choice 4        959 non-null    object \n",
      " 22  multicollinearity 3    507 non-null    float64\n",
      " 23  random label num 13    709 non-null    object \n",
      " 24  outliers 2             707 non-null    float64\n",
      " 25  duplicate_2            1010 non-null   float64\n",
      " 26  random choice 7        707 non-null    object \n",
      " 27  correlated w target 1  1010 non-null   float64\n",
      " 28  uniform corr 2         1010 non-null   float64\n",
      " 29  min max scaling        909 non-null    float64\n",
      " 30  pd qcut1               807 non-null    object \n",
      " 31  outliers 1             960 non-null    float64\n",
      " 32  multicollinearity 2    507 non-null    float64\n",
      " 33  uniform corr 1         1010 non-null   float64\n",
      " 34  pd qcut2               909 non-null    object \n",
      " 35  informative_1          1010 non-null   float64\n",
      " 36  target                 1010 non-null   float64\n",
      " 37  multicollinearity 4    1010 non-null   float64\n",
      " 38  duplicate_1            1010 non-null   float64\n",
      " 39  informative_2          1010 non-null   float64\n",
      " 40  class                  1010 non-null   int64  \n",
      "dtypes: float64(19), int64(1), object(21)\n",
      "memory usage: 323.6+ KB\n",
      "None\n"
     ]
    },
    {
     "data": {
      "text/html": [
       "<div>\n",
       "<style scoped>\n",
       "    .dataframe tbody tr th:only-of-type {\n",
       "        vertical-align: middle;\n",
       "    }\n",
       "\n",
       "    .dataframe tbody tr th {\n",
       "        vertical-align: top;\n",
       "    }\n",
       "\n",
       "    .dataframe thead th {\n",
       "        text-align: right;\n",
       "    }\n",
       "</style>\n",
       "<table border=\"1\" class=\"dataframe\">\n",
       "  <thead>\n",
       "    <tr style=\"text-align: right;\">\n",
       "      <th></th>\n",
       "      <th>binary</th>\n",
       "      <th>given_name</th>\n",
       "      <th>surname</th>\n",
       "      <th>date_of_birth</th>\n",
       "      <th>phone_number</th>\n",
       "      <th>email</th>\n",
       "      <th>address</th>\n",
       "      <th>city</th>\n",
       "      <th>state</th>\n",
       "      <th>zipcode</th>\n",
       "      <th>...</th>\n",
       "      <th>outliers 1</th>\n",
       "      <th>multicollinearity 2</th>\n",
       "      <th>uniform corr 1</th>\n",
       "      <th>pd qcut2</th>\n",
       "      <th>informative_1</th>\n",
       "      <th>target</th>\n",
       "      <th>multicollinearity 4</th>\n",
       "      <th>duplicate_1</th>\n",
       "      <th>informative_2</th>\n",
       "      <th>class</th>\n",
       "    </tr>\n",
       "  </thead>\n",
       "  <tbody>\n",
       "    <tr>\n",
       "      <th>0</th>\n",
       "      <td>binary_1</td>\n",
       "      <td>Joann</td>\n",
       "      <td>Brown</td>\n",
       "      <td>1914-01-13</td>\n",
       "      <td>NaN</td>\n",
       "      <td>yburke@example.org</td>\n",
       "      <td>46583 Julie Rue Suite 948</td>\n",
       "      <td>Jonesfurt</td>\n",
       "      <td>MN</td>\n",
       "      <td>27847.0</td>\n",
       "      <td>...</td>\n",
       "      <td>-4.161744</td>\n",
       "      <td>0.081533</td>\n",
       "      <td>0.101275</td>\n",
       "      <td>Q2</td>\n",
       "      <td>-0.999102</td>\n",
       "      <td>-0.904224</td>\n",
       "      <td>1.463531</td>\n",
       "      <td>-0.999102</td>\n",
       "      <td>-0.663860</td>\n",
       "      <td>1</td>\n",
       "    </tr>\n",
       "    <tr>\n",
       "      <th>1</th>\n",
       "      <td>binary_1</td>\n",
       "      <td>Michelle</td>\n",
       "      <td>Burnett</td>\n",
       "      <td>NaN</td>\n",
       "      <td>NaN</td>\n",
       "      <td>ericadavis@example.com</td>\n",
       "      <td>90736 Richardson Neck Apt. 059</td>\n",
       "      <td>New Jordanside</td>\n",
       "      <td>GA</td>\n",
       "      <td>29951.0</td>\n",
       "      <td>...</td>\n",
       "      <td>-1.555503</td>\n",
       "      <td>-1.845419</td>\n",
       "      <td>0.506709</td>\n",
       "      <td>Q3</td>\n",
       "      <td>1.246686</td>\n",
       "      <td>2.324370</td>\n",
       "      <td>0.416412</td>\n",
       "      <td>1.246686</td>\n",
       "      <td>1.153597</td>\n",
       "      <td>1</td>\n",
       "    </tr>\n",
       "    <tr>\n",
       "      <th>2</th>\n",
       "      <td>binary_1</td>\n",
       "      <td>Heidi</td>\n",
       "      <td>Cohen</td>\n",
       "      <td>NaN</td>\n",
       "      <td>001-784-689-7718x885</td>\n",
       "      <td>gilmorekristine@example.net</td>\n",
       "      <td>4929 Jennifer Radial</td>\n",
       "      <td>Jessefort</td>\n",
       "      <td>NC</td>\n",
       "      <td>NaN</td>\n",
       "      <td>...</td>\n",
       "      <td>1.845540</td>\n",
       "      <td>-1.655382</td>\n",
       "      <td>0.368192</td>\n",
       "      <td>NaN</td>\n",
       "      <td>0.962777</td>\n",
       "      <td>1.778217</td>\n",
       "      <td>-0.058432</td>\n",
       "      <td>0.962777</td>\n",
       "      <td>0.859397</td>\n",
       "      <td>1</td>\n",
       "    </tr>\n",
       "    <tr>\n",
       "      <th>3</th>\n",
       "      <td>binary_1</td>\n",
       "      <td>Kimberly</td>\n",
       "      <td>NaN</td>\n",
       "      <td>1987-02-17</td>\n",
       "      <td>001-862-374-5496x67084</td>\n",
       "      <td>NaN</td>\n",
       "      <td>367 Figueroa Orchard Suite 428</td>\n",
       "      <td>West Randy</td>\n",
       "      <td>ME</td>\n",
       "      <td>99026.0</td>\n",
       "      <td>...</td>\n",
       "      <td>0.344645</td>\n",
       "      <td>NaN</td>\n",
       "      <td>0.865727</td>\n",
       "      <td>Q4</td>\n",
       "      <td>-2.957441</td>\n",
       "      <td>5.451235</td>\n",
       "      <td>-0.225119</td>\n",
       "      <td>-2.957441</td>\n",
       "      <td>2.033645</td>\n",
       "      <td>1</td>\n",
       "    </tr>\n",
       "    <tr>\n",
       "      <th>4</th>\n",
       "      <td>binary_1</td>\n",
       "      <td>Michelle</td>\n",
       "      <td>NaN</td>\n",
       "      <td>NaN</td>\n",
       "      <td>973-962-4494x3015</td>\n",
       "      <td>kherring@example.org</td>\n",
       "      <td>8977 Jonathan Mountains</td>\n",
       "      <td>Jimhaven</td>\n",
       "      <td>OH</td>\n",
       "      <td>68140.0</td>\n",
       "      <td>...</td>\n",
       "      <td>0.325997</td>\n",
       "      <td>NaN</td>\n",
       "      <td>0.777934</td>\n",
       "      <td>Q3</td>\n",
       "      <td>1.141165</td>\n",
       "      <td>2.153926</td>\n",
       "      <td>0.087503</td>\n",
       "      <td>1.141165</td>\n",
       "      <td>1.059449</td>\n",
       "      <td>1</td>\n",
       "    </tr>\n",
       "  </tbody>\n",
       "</table>\n",
       "<p>5 rows × 41 columns</p>\n",
       "</div>"
      ],
      "text/plain": [
       "     binary given_name  surname date_of_birth            phone_number  \\\n",
       "0  binary_1      Joann    Brown    1914-01-13                     NaN   \n",
       "1  binary_1   Michelle  Burnett           NaN                     NaN   \n",
       "2  binary_1      Heidi    Cohen           NaN    001-784-689-7718x885   \n",
       "3  binary_1   Kimberly      NaN    1987-02-17  001-862-374-5496x67084   \n",
       "4  binary_1   Michelle      NaN           NaN       973-962-4494x3015   \n",
       "\n",
       "                         email                         address  \\\n",
       "0           yburke@example.org       46583 Julie Rue Suite 948   \n",
       "1       ericadavis@example.com  90736 Richardson Neck Apt. 059   \n",
       "2  gilmorekristine@example.net            4929 Jennifer Radial   \n",
       "3                          NaN  367 Figueroa Orchard Suite 428   \n",
       "4         kherring@example.org         8977 Jonathan Mountains   \n",
       "\n",
       "             city state  zipcode  ... outliers 1 multicollinearity 2  \\\n",
       "0       Jonesfurt    MN  27847.0  ...  -4.161744            0.081533   \n",
       "1  New Jordanside    GA  29951.0  ...  -1.555503           -1.845419   \n",
       "2       Jessefort    NC      NaN  ...   1.845540           -1.655382   \n",
       "3      West Randy    ME  99026.0  ...   0.344645                 NaN   \n",
       "4        Jimhaven    OH  68140.0  ...   0.325997                 NaN   \n",
       "\n",
       "  uniform corr 1 pd qcut2 informative_1    target multicollinearity 4  \\\n",
       "0       0.101275       Q2     -0.999102 -0.904224            1.463531   \n",
       "1       0.506709       Q3      1.246686  2.324370            0.416412   \n",
       "2       0.368192      NaN      0.962777  1.778217           -0.058432   \n",
       "3       0.865727       Q4     -2.957441  5.451235           -0.225119   \n",
       "4       0.777934       Q3      1.141165  2.153926            0.087503   \n",
       "\n",
       "   duplicate_1  informative_2 class  \n",
       "0    -0.999102      -0.663860     1  \n",
       "1     1.246686       1.153597     1  \n",
       "2     0.962777       0.859397     1  \n",
       "3    -2.957441       2.033645     1  \n",
       "4     1.141165       1.059449     1  \n",
       "\n",
       "[5 rows x 41 columns]"
      ]
     },
     "execution_count": 63,
     "metadata": {},
     "output_type": "execute_result"
    }
   ],
   "source": [
    "import pandas as pd\n",
    "\n",
    "df = pd.read_csv('development/datasets/created_raw_data.csv')\n",
    "print(df.shape)\n",
    "print(df.info())\n",
    "df.head()"
   ]
  },
  {
   "cell_type": "code",
   "execution_count": 68,
   "metadata": {},
   "outputs": [
    {
     "name": "stdout",
     "output_type": "stream",
     "text": [
      "Collecting preppy\n",
      "  Downloading preppy-4.3.0-py2.py3-none-any.whl.metadata (1.1 kB)\n",
      "Downloading preppy-4.3.0-py2.py3-none-any.whl (17 kB)\n",
      "Installing collected packages: preppy\n",
      "Successfully installed preppy-4.3.0\n",
      "Note: you may need to restart the kernel to use updated packages.\n"
     ]
    }
   ],
   "source": [
    "pip install --upgrade preppy"
   ]
  },
  {
   "cell_type": "code",
   "execution_count": 76,
   "metadata": {
    "colab": {
     "base_uri": "https://localhost:8080/"
    },
    "id": "UNIumF3DHQsn",
    "outputId": "7be763a2-791b-411f-e1c0-4d5a5fb80889"
   },
   "outputs": [
    {
     "name": "stdout",
     "output_type": "stream",
     "text": [
      "PrepPy Version: 0.1.0\n"
     ]
    },
    {
     "ename": "AttributeError",
     "evalue": "module 'preppy.utils' has no attribute 'report'",
     "output_type": "error",
     "traceback": [
      "\u001b[0;31m---------------------------------------------------------------------------\u001b[0m",
      "\u001b[0;31mAttributeError\u001b[0m                            Traceback (most recent call last)",
      "Cell \u001b[0;32mIn[76], line 6\u001b[0m\n\u001b[1;32m      2\u001b[0m \u001b[38;5;28;01mfrom\u001b[39;00m \u001b[38;5;21;01mpreppy\u001b[39;00m\u001b[38;5;21;01m.\u001b[39;00m\u001b[38;5;21;01mversion\u001b[39;00m \u001b[38;5;28;01mimport\u001b[39;00m __version__\n\u001b[1;32m      4\u001b[0m \u001b[38;5;28mprint\u001b[39m(__version__)\n\u001b[0;32m----> 6\u001b[0m utils\u001b[38;5;241m.\u001b[39mreport\u001b[38;5;241m.\u001b[39mwrite_report(df, thresh\u001b[38;5;241m=\u001b[39m\u001b[38;5;241m.5\u001b[39m)\n",
      "\u001b[0;31mAttributeError\u001b[0m: module 'preppy.utils' has no attribute 'report'"
     ]
    }
   ],
   "source": [
    "import preppy.utils as utils\n",
    "from preppy.version import __version__\n",
    "\n",
    "print(__version__)\n",
    "\n",
    "utils.report.write_report(df, thresh=.5)"
   ]
  },
  {
   "cell_type": "code",
   "execution_count": 72,
   "metadata": {
    "colab": {
     "base_uri": "https://localhost:8080/"
    },
    "id": "VVb32G3MTSVy",
    "outputId": "55151712-6a4f-4ee5-9f14-bd00beffa34c"
   },
   "outputs": [
    {
     "name": "stdout",
     "output_type": "stream",
     "text": [
      "['constant_2', 'informative_2', 'duplicate_1']\n",
      "['constant_1', 'constant_2']\n",
      "['constant_1', 'constant_2']\n"
     ]
    }
   ],
   "source": [
    "import preppy.utils as preppy\n",
    "\n",
    "consts = preppy.functions.identify_consts(df)\n",
    "quasi_consts = preppy.functions.identify_quasi_consts(df)\n",
    "duplicates = preppy.functions.check_col_duplicates(df)\n",
    "print(duplicates)\n",
    "print(consts)\n",
    "print(quasi_consts)"
   ]
  },
  {
   "cell_type": "code",
   "execution_count": 73,
   "metadata": {
    "colab": {
     "base_uri": "https://localhost:8080/"
    },
    "id": "vUZXsYTcTtTq",
    "outputId": "e45e80e5-0612-405b-8a2d-2cad4c360664"
   },
   "outputs": [
    {
     "name": "stdout",
     "output_type": "stream",
     "text": [
      "informative_2 float64\n",
      "constant_2 object\n",
      "constant_1 object\n",
      "duplicate_1 float64\n"
     ]
    }
   ],
   "source": [
    "# numeric_df = df.apply(pd.to_numeric, errors='coerce')\n",
    "all_deletes = list(set(consts + quasi_consts + duplicates))\n",
    "for col in all_deletes:\n",
    "  print(col, df[col].dtype)\n",
    "  if df[col].dtype in ['float64', 'int64']:\n",
    "    df_numerical.remove(col)\n",
    "  elif df[col].dtype in ['object']:\n",
    "    df_object.remove(col)\n",
    "    df_categorical_features.remove(col)\n",
    "  else:\n",
    "    df_discreet.remove(col)\n"
   ]
  },
  {
   "cell_type": "markdown",
   "metadata": {
    "id": "r_x1lTEpNaks"
   },
   "source": [
    "## PrepPy Pipeline"
   ]
  },
  {
   "cell_type": "code",
   "execution_count": 74,
   "metadata": {
    "colab": {
     "base_uri": "https://localhost:8080/"
    },
    "id": "-jj9s-ARUVsk",
    "outputId": "064c129b-b047-4c5a-beb7-f365f01c5b2e"
   },
   "outputs": [
    {
     "name": "stdout",
     "output_type": "stream",
     "text": [
      "<class 'pandas.core.frame.DataFrame'>\n",
      "RangeIndex: 1000 entries, 0 to 999\n",
      "Data columns (total 37 columns):\n",
      " #   Column                 Non-Null Count  Dtype \n",
      "---  ------                 --------------  ----- \n",
      " 0   binary                 1000 non-null   object\n",
      " 1   given_name             1000 non-null   object\n",
      " 2   surname                1000 non-null   object\n",
      " 3   date_of_birth          1000 non-null   object\n",
      " 4   phone_number           1000 non-null   object\n",
      " 5   email                  1000 non-null   object\n",
      " 6   address                1000 non-null   object\n",
      " 7   city                   1000 non-null   object\n",
      " 8   state                  1000 non-null   object\n",
      " 9   zipcode                1000 non-null   object\n",
      " 10  random choice 2        1000 non-null   object\n",
      " 11  random label num 4     1000 non-null   object\n",
      " 12  semi_constant_1        1000 non-null   object\n",
      " 13  semi_constant_2        1000 non-null   object\n",
      " 14  corr_feature_class     1000 non-null   object\n",
      " 15  pd qcut3               1000 non-null   object\n",
      " 16  correlated w target 2  1000 non-null   object\n",
      " 17  standard scaling       1000 non-null   object\n",
      " 18  multicollinearity 1    1000 non-null   object\n",
      " 19  random choice 4        1000 non-null   object\n",
      " 20  multicollinearity 3    1000 non-null   object\n",
      " 21  random label num 13    1000 non-null   object\n",
      " 22  outliers 2             1000 non-null   object\n",
      " 23  duplicate_2            1000 non-null   object\n",
      " 24  random choice 7        1000 non-null   object\n",
      " 25  correlated w target 1  1000 non-null   object\n",
      " 26  uniform corr 2         1000 non-null   object\n",
      " 27  min max scaling        1000 non-null   object\n",
      " 28  pd qcut1               1000 non-null   object\n",
      " 29  outliers 1             1000 non-null   object\n",
      " 30  multicollinearity 2    1000 non-null   object\n",
      " 31  uniform corr 1         1000 non-null   object\n",
      " 32  pd qcut2               1000 non-null   object\n",
      " 33  informative_1          1000 non-null   object\n",
      " 34  target                 1000 non-null   object\n",
      " 35  multicollinearity 4    1000 non-null   object\n",
      " 36  class                  1000 non-null   object\n",
      "dtypes: object(37)\n",
      "memory usage: 289.2+ KB\n"
     ]
    },
    {
     "name": "stderr",
     "output_type": "stream",
     "text": [
      "/Users/sreeku/Downloads/Sreekanth Project/notebooks/preppy/utils/functions.py:61: FutureWarning: Downcasting object dtype arrays on .fillna, .ffill, .bfill is deprecated and will change in a future version. Call result.infer_objects(copy=False) instead. To opt-in to the future behavior, set `pd.set_option('future.no_silent_downcasting', True)`\n",
      "  dfx[feat] = df[feat].fillna(df[feat].mode()[0])\n"
     ]
    }
   ],
   "source": [
    "import numpy as np\n",
    "import pandas as pd\n",
    "from sklearn.pipeline import Pipeline\n",
    "import preppy.utils as preppy\n",
    "\n",
    "pipe = [\n",
    "    ('constants', preppy.classes.RemoveConstants()),\n",
    "    ('quasiconsts', preppy.classes.RemoveQuasiConstants(thresh=0.8)),\n",
    "    ('duplicates', preppy.classes.DropDuplicates()),\n",
    "    ('missing', preppy.classes.HandleMissingValues()),\n",
    "    # ('encoding', HandleCatEncodeing())\n",
    "]\n",
    "\n",
    "pipe_model = Pipeline(pipe)\n",
    "data = pipe_model.fit_transform(df)\n",
    "cols = [col for col in df.columns if col not in consts + quasi_consts + duplicates]\n",
    "nu_df = pd.DataFrame(data, columns=cols)\n",
    "nu_df.info()"
   ]
  },
  {
   "cell_type": "code",
   "execution_count": 75,
   "metadata": {
    "colab": {
     "base_uri": "https://localhost:8080/"
    },
    "id": "ajFC8rmuHZ4S",
    "outputId": "e3fbf392-9e4e-49ba-9c12-a551337010a6"
   },
   "outputs": [
    {
     "ename": "FileNotFoundError",
     "evalue": "[Errno 2] No such file or directory: '.../var_types.pkl'",
     "output_type": "error",
     "traceback": [
      "\u001b[0;31m---------------------------------------------------------------------------\u001b[0m",
      "\u001b[0;31mFileNotFoundError\u001b[0m                         Traceback (most recent call last)",
      "Cell \u001b[0;32mIn[75], line 4\u001b[0m\n\u001b[1;32m      1\u001b[0m \u001b[38;5;28;01mimport\u001b[39;00m \u001b[38;5;21;01mpickle\u001b[39;00m\n\u001b[1;32m      3\u001b[0m \u001b[38;5;66;03m# Load the pickled variable from the file\u001b[39;00m\n\u001b[0;32m----> 4\u001b[0m \u001b[38;5;28;01mwith\u001b[39;00m \u001b[38;5;28mopen\u001b[39m(\u001b[38;5;124m'\u001b[39m\u001b[38;5;124m.../var_types.pkl\u001b[39m\u001b[38;5;124m'\u001b[39m, \u001b[38;5;124m'\u001b[39m\u001b[38;5;124mrb\u001b[39m\u001b[38;5;124m'\u001b[39m) \u001b[38;5;28;01mas\u001b[39;00m f:\n\u001b[1;32m      5\u001b[0m     var_types \u001b[38;5;241m=\u001b[39m pickle\u001b[38;5;241m.\u001b[39mload(f)\n\u001b[1;32m      7\u001b[0m \u001b[38;5;28mprint\u001b[39m(var_types)\n",
      "File \u001b[0;32m/opt/anaconda3/lib/python3.12/site-packages/IPython/core/interactiveshell.py:324\u001b[0m, in \u001b[0;36m_modified_open\u001b[0;34m(file, *args, **kwargs)\u001b[0m\n\u001b[1;32m    317\u001b[0m \u001b[38;5;28;01mif\u001b[39;00m file \u001b[38;5;129;01min\u001b[39;00m {\u001b[38;5;241m0\u001b[39m, \u001b[38;5;241m1\u001b[39m, \u001b[38;5;241m2\u001b[39m}:\n\u001b[1;32m    318\u001b[0m     \u001b[38;5;28;01mraise\u001b[39;00m \u001b[38;5;167;01mValueError\u001b[39;00m(\n\u001b[1;32m    319\u001b[0m         \u001b[38;5;124mf\u001b[39m\u001b[38;5;124m\"\u001b[39m\u001b[38;5;124mIPython won\u001b[39m\u001b[38;5;124m'\u001b[39m\u001b[38;5;124mt let you open fd=\u001b[39m\u001b[38;5;132;01m{\u001b[39;00mfile\u001b[38;5;132;01m}\u001b[39;00m\u001b[38;5;124m by default \u001b[39m\u001b[38;5;124m\"\u001b[39m\n\u001b[1;32m    320\u001b[0m         \u001b[38;5;124m\"\u001b[39m\u001b[38;5;124mas it is likely to crash IPython. If you know what you are doing, \u001b[39m\u001b[38;5;124m\"\u001b[39m\n\u001b[1;32m    321\u001b[0m         \u001b[38;5;124m\"\u001b[39m\u001b[38;5;124myou can use builtins\u001b[39m\u001b[38;5;124m'\u001b[39m\u001b[38;5;124m open.\u001b[39m\u001b[38;5;124m\"\u001b[39m\n\u001b[1;32m    322\u001b[0m     )\n\u001b[0;32m--> 324\u001b[0m \u001b[38;5;28;01mreturn\u001b[39;00m io_open(file, \u001b[38;5;241m*\u001b[39margs, \u001b[38;5;241m*\u001b[39m\u001b[38;5;241m*\u001b[39mkwargs)\n",
      "\u001b[0;31mFileNotFoundError\u001b[0m: [Errno 2] No such file or directory: '.../var_types.pkl'"
     ]
    }
   ],
   "source": [
    "import pickle\n",
    "\n",
    "# Load the pickled variable from the file\n",
    "with open('.../var_types.pkl', 'rb') as f:\n",
    "    var_types = pickle.load(f)\n",
    "\n",
    "print(var_types)"
   ]
  },
  {
   "cell_type": "code",
   "execution_count": null,
   "metadata": {
    "id": "_qoBXoPjRUEk"
   },
   "outputs": [],
   "source": [
    "df_numerical = var_types['df_numerical']\n",
    "df_object = var_types['df_object']\n",
    "df_discreet = var_types['df_discreet']\n",
    "df_categorical_features = var_types['df_categorical_features']"
   ]
  },
  {
   "cell_type": "code",
   "execution_count": null,
   "metadata": {
    "colab": {
     "base_uri": "https://localhost:8080/"
    },
    "id": "RR5jTPPP7ThD",
    "outputId": "f372d632-57a1-42e2-ab63-139e8dd67460"
   },
   "outputs": [
    {
     "name": "stdout",
     "output_type": "stream",
     "text": [
      "<class 'pandas.core.frame.DataFrame'>\n",
      "RangeIndex: 1000 entries, 0 to 999\n",
      "Data columns (total 37 columns):\n",
      " #   Column                 Non-Null Count  Dtype  \n",
      "---  ------                 --------------  -----  \n",
      " 0   binary                 1000 non-null   object \n",
      " 1   given_name             1000 non-null   object \n",
      " 2   surname                1000 non-null   object \n",
      " 3   date_of_birth          1000 non-null   object \n",
      " 4   phone_number           1000 non-null   object \n",
      " 5   email                  1000 non-null   object \n",
      " 6   address                1000 non-null   object \n",
      " 7   city                   1000 non-null   object \n",
      " 8   state                  1000 non-null   object \n",
      " 9   zipcode                1000 non-null   object \n",
      " 10  correlated w target 2  1000 non-null   float64\n",
      " 11  standard scaling       1000 non-null   float64\n",
      " 12  pd qcut2               1000 non-null   object \n",
      " 13  uniform corr 1         1000 non-null   float64\n",
      " 14  informative_1          1000 non-null   float64\n",
      " 15  semi_constant_2        1000 non-null   object \n",
      " 16  outliers 1             1000 non-null   float64\n",
      " 17  correlated w target 1  1000 non-null   float64\n",
      " 18  min max scaling        1000 non-null   float64\n",
      " 19  target                 1000 non-null   float64\n",
      " 20  multicollinearity 4    1000 non-null   float64\n",
      " 21  pd qcut1               1000 non-null   object \n",
      " 22  multicollinearity 2    1000 non-null   float64\n",
      " 23  multicollinearity 1    1000 non-null   float64\n",
      " 24  informative_2          1000 non-null   float64\n",
      " 25  semi_constant_1        1000 non-null   object \n",
      " 26  corr_feature_class     1000 non-null   float64\n",
      " 27  random label num 12    1000 non-null   object \n",
      " 28  uniform corr 2         1000 non-null   float64\n",
      " 29  pd qcut3               1000 non-null   object \n",
      " 30  random label num 4     1000 non-null   object \n",
      " 31  random choice 2        1000 non-null   object \n",
      " 32  random choice 7        1000 non-null   object \n",
      " 33  outliers 2             1000 non-null   float64\n",
      " 34  random choice 4        1000 non-null   object \n",
      " 35  multicollinearity 3    1000 non-null   float64\n",
      " 36  class                  1000 non-null   float64\n",
      "dtypes: float64(17), object(20)\n",
      "memory usage: 289.2+ KB\n"
     ]
    }
   ],
   "source": [
    "# code along\n",
    "nu_df[df_numerical] = nu_df[df_numerical].astype(float)\n",
    "nu_df.info()"
   ]
  },
  {
   "cell_type": "markdown",
   "metadata": {
    "id": "EI54gfICj3Tg"
   },
   "source": [
    "## Feature Engineering"
   ]
  },
  {
   "cell_type": "markdown",
   "metadata": {
    "id": "3ZaEp01sx2-9"
   },
   "source": [
    "### Feature Combination"
   ]
  },
  {
   "cell_type": "code",
   "execution_count": null,
   "metadata": {
    "id": "l4TygZ-hx6PX"
   },
   "outputs": [],
   "source": [
    "# create a new variable by combining two variables\n",
    "df['scaling_combined'] = df['standard scaling'] + df['min max scaling']\n",
    "df.drop(['standard scaling', 'min max scaling'], axis=1, inplace=True)"
   ]
  },
  {
   "cell_type": "markdown",
   "metadata": {
    "id": "43tZx7khof9Q"
   },
   "source": [
    "### Categorical Encoding"
   ]
  },
  {
   "cell_type": "code",
   "execution_count": null,
   "metadata": {
    "colab": {
     "base_uri": "https://localhost:8080/"
    },
    "id": "hjKC1_6U9Vvd",
    "outputId": "a6f6e6b6-1dbb-439f-a3f6-9b34bc9eacdc"
   },
   "outputs": [
    {
     "name": "stdout",
     "output_type": "stream",
     "text": [
      "<class 'pandas.core.frame.DataFrame'>\n",
      "RangeIndex: 1000 entries, 0 to 999\n",
      "Data columns (total 45 columns):\n",
      " #   Column                             Non-Null Count  Dtype  \n",
      "---  ------                             --------------  -----  \n",
      " 0   binary                             1000 non-null   int64  \n",
      " 1   given_name                         1000 non-null   float64\n",
      " 2   surname                            1000 non-null   float64\n",
      " 3   date_of_birth                      1000 non-null   float64\n",
      " 4   phone_number                       1000 non-null   float64\n",
      " 5   email                              1000 non-null   float64\n",
      " 6   address                            1000 non-null   float64\n",
      " 7   city                               1000 non-null   float64\n",
      " 8   state                              1000 non-null   float64\n",
      " 9   zipcode                            1000 non-null   float64\n",
      " 10  correlated w target 2              1000 non-null   float64\n",
      " 11  standard scaling                   1000 non-null   float64\n",
      " 12  uniform corr 1                     1000 non-null   float64\n",
      " 13  informative_1                      1000 non-null   float64\n",
      " 14  outliers 1                         1000 non-null   float64\n",
      " 15  correlated w target 1              1000 non-null   float64\n",
      " 16  min max scaling                    1000 non-null   float64\n",
      " 17  target                             1000 non-null   float64\n",
      " 18  multicollinearity 4                1000 non-null   float64\n",
      " 19  pd qcut1                           1000 non-null   int64  \n",
      " 20  multicollinearity 2                1000 non-null   float64\n",
      " 21  multicollinearity 1                1000 non-null   float64\n",
      " 22  informative_2                      1000 non-null   float64\n",
      " 23  corr_feature_class                 1000 non-null   float64\n",
      " 24  random label num 12                1000 non-null   float64\n",
      " 25  uniform corr 2                     1000 non-null   float64\n",
      " 26  pd qcut3                           1000 non-null   float64\n",
      " 27  random choice 2                    1000 non-null   int64  \n",
      " 28  random choice 7                    1000 non-null   float64\n",
      " 29  outliers 2                         1000 non-null   float64\n",
      " 30  multicollinearity 3                1000 non-null   float64\n",
      " 31  class                              1000 non-null   float64\n",
      " 32  pd qcut2_Q2                        1000 non-null   float64\n",
      " 33  pd qcut2_Q3                        1000 non-null   float64\n",
      " 34  pd qcut2_Q4                        1000 non-null   float64\n",
      " 35  semi_constant_2_q_const_0_1        1000 non-null   float64\n",
      " 36  semi_constant_2_q_const_0_2        1000 non-null   float64\n",
      " 37  semi_constant_1_q_const_0_1        1000 non-null   float64\n",
      " 38  semi_constant_1_q_const_0_2        1000 non-null   float64\n",
      " 39  random label num 4_label num lo 2  1000 non-null   float64\n",
      " 40  random label num 4_label num lo 3  1000 non-null   float64\n",
      " 41  random label num 4_label num lo 4  1000 non-null   float64\n",
      " 42  random choice 4_North              1000 non-null   float64\n",
      " 43  random choice 4_South              1000 non-null   float64\n",
      " 44  random choice 4_West               1000 non-null   float64\n",
      "dtypes: float64(42), int64(3)\n",
      "memory usage: 351.7 KB\n"
     ]
    }
   ],
   "source": [
    "# code along\n",
    "import preppy.utils as utils\n",
    "\n",
    "df = utils.functions.do_OHE(df)\n",
    "df.info()"
   ]
  },
  {
   "cell_type": "code",
   "execution_count": 82,
   "metadata": {
    "id": "495vI4Zmfyym"
   },
   "outputs": [],
   "source": [
    "df.to_csv('development/datasets/prepared_data.csv', index=False)"
   ]
  },
  {
   "cell_type": "markdown",
   "metadata": {
    "id": "3zeC15Wmj7co"
   },
   "source": [
    "# Part 4 - Feature Selection"
   ]
  },
  {
   "cell_type": "code",
   "execution_count": 86,
   "metadata": {
    "colab": {
     "base_uri": "https://localhost:8080/",
     "height": 1000
    },
    "id": "P3PeZvm2g5Ra",
    "outputId": "51e6efa1-dcd7-403a-9145-66059270999b"
   },
   "outputs": [
    {
     "name": "stdout",
     "output_type": "stream",
     "text": [
      "(1010, 39)\n",
      "<class 'pandas.core.frame.DataFrame'>\n",
      "RangeIndex: 1010 entries, 0 to 1009\n",
      "Data columns (total 39 columns):\n",
      " #   Column                 Non-Null Count  Dtype  \n",
      "---  ------                 --------------  -----  \n",
      " 0   binary                 960 non-null    object \n",
      " 1   given_name             910 non-null    object \n",
      " 2   surname                503 non-null    object \n",
      " 3   date_of_birth          504 non-null    object \n",
      " 4   phone_number           706 non-null    object \n",
      " 5   email                  959 non-null    object \n",
      " 6   address                890 non-null    object \n",
      " 7   city                   704 non-null    object \n",
      " 8   state                  890 non-null    object \n",
      " 9   zipcode                452 non-null    float64\n",
      " 10  random choice 2        503 non-null    object \n",
      " 11  random label num 4     505 non-null    object \n",
      " 12  semi_constant_1        1010 non-null   object \n",
      " 13  semi_constant_2        1010 non-null   object \n",
      " 14  corr_feature_class     1010 non-null   float64\n",
      " 15  pd qcut3               810 non-null    object \n",
      " 16  correlated w target 2  909 non-null    float64\n",
      " 17  standard scaling       806 non-null    float64\n",
      " 18  multicollinearity 1    910 non-null    float64\n",
      " 19  random choice 4        959 non-null    object \n",
      " 20  multicollinearity 3    507 non-null    float64\n",
      " 21  random label num 13    709 non-null    object \n",
      " 22  outliers 2             707 non-null    float64\n",
      " 23  duplicate_2            1010 non-null   float64\n",
      " 24  random choice 7        707 non-null    object \n",
      " 25  correlated w target 1  1010 non-null   float64\n",
      " 26  uniform corr 2         1010 non-null   float64\n",
      " 27  min max scaling        909 non-null    float64\n",
      " 28  pd qcut1               807 non-null    object \n",
      " 29  outliers 1             960 non-null    float64\n",
      " 30  multicollinearity 2    507 non-null    float64\n",
      " 31  uniform corr 1         1010 non-null   float64\n",
      " 32  pd qcut2               909 non-null    object \n",
      " 33  informative_1          1010 non-null   float64\n",
      " 34  target                 1010 non-null   float64\n",
      " 35  multicollinearity 4    1010 non-null   float64\n",
      " 36  duplicate_1            1010 non-null   float64\n",
      " 37  informative_2          1010 non-null   float64\n",
      " 38  class                  1010 non-null   int64  \n",
      "dtypes: float64(19), int64(1), object(19)\n",
      "memory usage: 307.9+ KB\n",
      "None\n"
     ]
    },
    {
     "data": {
      "text/html": [
       "<div>\n",
       "<style scoped>\n",
       "    .dataframe tbody tr th:only-of-type {\n",
       "        vertical-align: middle;\n",
       "    }\n",
       "\n",
       "    .dataframe tbody tr th {\n",
       "        vertical-align: top;\n",
       "    }\n",
       "\n",
       "    .dataframe thead th {\n",
       "        text-align: right;\n",
       "    }\n",
       "</style>\n",
       "<table border=\"1\" class=\"dataframe\">\n",
       "  <thead>\n",
       "    <tr style=\"text-align: right;\">\n",
       "      <th></th>\n",
       "      <th>binary</th>\n",
       "      <th>given_name</th>\n",
       "      <th>surname</th>\n",
       "      <th>date_of_birth</th>\n",
       "      <th>phone_number</th>\n",
       "      <th>email</th>\n",
       "      <th>address</th>\n",
       "      <th>city</th>\n",
       "      <th>state</th>\n",
       "      <th>zipcode</th>\n",
       "      <th>...</th>\n",
       "      <th>outliers 1</th>\n",
       "      <th>multicollinearity 2</th>\n",
       "      <th>uniform corr 1</th>\n",
       "      <th>pd qcut2</th>\n",
       "      <th>informative_1</th>\n",
       "      <th>target</th>\n",
       "      <th>multicollinearity 4</th>\n",
       "      <th>duplicate_1</th>\n",
       "      <th>informative_2</th>\n",
       "      <th>class</th>\n",
       "    </tr>\n",
       "  </thead>\n",
       "  <tbody>\n",
       "    <tr>\n",
       "      <th>0</th>\n",
       "      <td>binary_1</td>\n",
       "      <td>Joann</td>\n",
       "      <td>Brown</td>\n",
       "      <td>1914-01-13</td>\n",
       "      <td>NaN</td>\n",
       "      <td>yburke@example.org</td>\n",
       "      <td>46583 Julie Rue Suite 948</td>\n",
       "      <td>Jonesfurt</td>\n",
       "      <td>MN</td>\n",
       "      <td>27847.0</td>\n",
       "      <td>...</td>\n",
       "      <td>-4.161744</td>\n",
       "      <td>0.081533</td>\n",
       "      <td>0.101275</td>\n",
       "      <td>Q2</td>\n",
       "      <td>-0.999102</td>\n",
       "      <td>-0.904224</td>\n",
       "      <td>1.463531</td>\n",
       "      <td>-0.999102</td>\n",
       "      <td>-0.663860</td>\n",
       "      <td>1</td>\n",
       "    </tr>\n",
       "    <tr>\n",
       "      <th>1</th>\n",
       "      <td>binary_1</td>\n",
       "      <td>Michelle</td>\n",
       "      <td>Burnett</td>\n",
       "      <td>NaN</td>\n",
       "      <td>NaN</td>\n",
       "      <td>ericadavis@example.com</td>\n",
       "      <td>90736 Richardson Neck Apt. 059</td>\n",
       "      <td>New Jordanside</td>\n",
       "      <td>GA</td>\n",
       "      <td>29951.0</td>\n",
       "      <td>...</td>\n",
       "      <td>-1.555503</td>\n",
       "      <td>-1.845419</td>\n",
       "      <td>0.506709</td>\n",
       "      <td>Q3</td>\n",
       "      <td>1.246686</td>\n",
       "      <td>2.324370</td>\n",
       "      <td>0.416412</td>\n",
       "      <td>1.246686</td>\n",
       "      <td>1.153597</td>\n",
       "      <td>1</td>\n",
       "    </tr>\n",
       "    <tr>\n",
       "      <th>2</th>\n",
       "      <td>binary_1</td>\n",
       "      <td>Heidi</td>\n",
       "      <td>Cohen</td>\n",
       "      <td>NaN</td>\n",
       "      <td>001-784-689-7718x885</td>\n",
       "      <td>gilmorekristine@example.net</td>\n",
       "      <td>4929 Jennifer Radial</td>\n",
       "      <td>Jessefort</td>\n",
       "      <td>NC</td>\n",
       "      <td>NaN</td>\n",
       "      <td>...</td>\n",
       "      <td>1.845540</td>\n",
       "      <td>-1.655382</td>\n",
       "      <td>0.368192</td>\n",
       "      <td>NaN</td>\n",
       "      <td>0.962777</td>\n",
       "      <td>1.778217</td>\n",
       "      <td>-0.058432</td>\n",
       "      <td>0.962777</td>\n",
       "      <td>0.859397</td>\n",
       "      <td>1</td>\n",
       "    </tr>\n",
       "    <tr>\n",
       "      <th>3</th>\n",
       "      <td>binary_1</td>\n",
       "      <td>Kimberly</td>\n",
       "      <td>NaN</td>\n",
       "      <td>1987-02-17</td>\n",
       "      <td>001-862-374-5496x67084</td>\n",
       "      <td>NaN</td>\n",
       "      <td>367 Figueroa Orchard Suite 428</td>\n",
       "      <td>West Randy</td>\n",
       "      <td>ME</td>\n",
       "      <td>99026.0</td>\n",
       "      <td>...</td>\n",
       "      <td>0.344645</td>\n",
       "      <td>NaN</td>\n",
       "      <td>0.865727</td>\n",
       "      <td>Q4</td>\n",
       "      <td>-2.957441</td>\n",
       "      <td>5.451235</td>\n",
       "      <td>-0.225119</td>\n",
       "      <td>-2.957441</td>\n",
       "      <td>2.033645</td>\n",
       "      <td>1</td>\n",
       "    </tr>\n",
       "    <tr>\n",
       "      <th>4</th>\n",
       "      <td>binary_1</td>\n",
       "      <td>Michelle</td>\n",
       "      <td>NaN</td>\n",
       "      <td>NaN</td>\n",
       "      <td>973-962-4494x3015</td>\n",
       "      <td>kherring@example.org</td>\n",
       "      <td>8977 Jonathan Mountains</td>\n",
       "      <td>Jimhaven</td>\n",
       "      <td>OH</td>\n",
       "      <td>68140.0</td>\n",
       "      <td>...</td>\n",
       "      <td>0.325997</td>\n",
       "      <td>NaN</td>\n",
       "      <td>0.777934</td>\n",
       "      <td>Q3</td>\n",
       "      <td>1.141165</td>\n",
       "      <td>2.153926</td>\n",
       "      <td>0.087503</td>\n",
       "      <td>1.141165</td>\n",
       "      <td>1.059449</td>\n",
       "      <td>1</td>\n",
       "    </tr>\n",
       "  </tbody>\n",
       "</table>\n",
       "<p>5 rows × 39 columns</p>\n",
       "</div>"
      ],
      "text/plain": [
       "     binary given_name  surname date_of_birth            phone_number  \\\n",
       "0  binary_1      Joann    Brown    1914-01-13                     NaN   \n",
       "1  binary_1   Michelle  Burnett           NaN                     NaN   \n",
       "2  binary_1      Heidi    Cohen           NaN    001-784-689-7718x885   \n",
       "3  binary_1   Kimberly      NaN    1987-02-17  001-862-374-5496x67084   \n",
       "4  binary_1   Michelle      NaN           NaN       973-962-4494x3015   \n",
       "\n",
       "                         email                         address  \\\n",
       "0           yburke@example.org       46583 Julie Rue Suite 948   \n",
       "1       ericadavis@example.com  90736 Richardson Neck Apt. 059   \n",
       "2  gilmorekristine@example.net            4929 Jennifer Radial   \n",
       "3                          NaN  367 Figueroa Orchard Suite 428   \n",
       "4         kherring@example.org         8977 Jonathan Mountains   \n",
       "\n",
       "             city state  zipcode  ... outliers 1 multicollinearity 2  \\\n",
       "0       Jonesfurt    MN  27847.0  ...  -4.161744            0.081533   \n",
       "1  New Jordanside    GA  29951.0  ...  -1.555503           -1.845419   \n",
       "2       Jessefort    NC      NaN  ...   1.845540           -1.655382   \n",
       "3      West Randy    ME  99026.0  ...   0.344645                 NaN   \n",
       "4        Jimhaven    OH  68140.0  ...   0.325997                 NaN   \n",
       "\n",
       "  uniform corr 1 pd qcut2  informative_1    target  multicollinearity 4  \\\n",
       "0       0.101275       Q2      -0.999102 -0.904224             1.463531   \n",
       "1       0.506709       Q3       1.246686  2.324370             0.416412   \n",
       "2       0.368192      NaN       0.962777  1.778217            -0.058432   \n",
       "3       0.865727       Q4      -2.957441  5.451235            -0.225119   \n",
       "4       0.777934       Q3       1.141165  2.153926             0.087503   \n",
       "\n",
       "   duplicate_1  informative_2 class  \n",
       "0    -0.999102      -0.663860     1  \n",
       "1     1.246686       1.153597     1  \n",
       "2     0.962777       0.859397     1  \n",
       "3    -2.957441       2.033645     1  \n",
       "4     1.141165       1.059449     1  \n",
       "\n",
       "[5 rows x 39 columns]"
      ]
     },
     "execution_count": 86,
     "metadata": {},
     "output_type": "execute_result"
    }
   ],
   "source": [
    "# get data\n",
    "import pandas as pd\n",
    "\n",
    "df = pd.read_csv('development/datasets/prepared_data.csv')\n",
    "#df = pd.read_csv('/content/drive/MyDrive/Project CICD/make_me_data_science_v.csv')\n",
    "print(df.shape)\n",
    "print(df.info())\n",
    "df.head()"
   ]
  },
  {
   "cell_type": "markdown",
   "metadata": {
    "id": "Oc6VU37OoCyb"
   },
   "source": [
    "## Train Test Split"
   ]
  },
  {
   "cell_type": "code",
   "execution_count": 87,
   "metadata": {
    "id": "2w9ihcyFlend"
   },
   "outputs": [],
   "source": [
    "# seed\n",
    "import random\n",
    "\n",
    "seed_id = 11797610\n",
    "random_state = random.seed(seed_id)\n",
    "random_state"
   ]
  },
  {
   "cell_type": "code",
   "execution_count": 88,
   "metadata": {
    "colab": {
     "base_uri": "https://localhost:8080/"
    },
    "id": "RcrWm0I4oEy2",
    "outputId": "7537ed2e-b420-4463-a9ce-a6499e193a09"
   },
   "outputs": [
    {
     "data": {
      "text/plain": [
       "((707, 38), (303, 38))"
      ]
     },
     "execution_count": 88,
     "metadata": {},
     "output_type": "execute_result"
    }
   ],
   "source": [
    "from sklearn.model_selection import train_test_split\n",
    "\n",
    "X_train, X_test, y_train, y_test = train_test_split(df.drop('class', axis=1), df['class'], test_size=0.3, random_state=random_state)\n",
    "X_train.shape, X_test.shape"
   ]
  },
  {
   "cell_type": "markdown",
   "metadata": {
    "id": "rb9tIdNp8J8v"
   },
   "source": [
    "### Mutual Information"
   ]
  },
  {
   "cell_type": "code",
   "execution_count": 89,
   "metadata": {},
   "outputs": [
    {
     "name": "stdout",
     "output_type": "stream",
     "text": [
      "Data types of X_train columns:\n",
      "binary                    object\n",
      "given_name                object\n",
      "surname                   object\n",
      "date_of_birth             object\n",
      "phone_number              object\n",
      "email                     object\n",
      "address                   object\n",
      "city                      object\n",
      "state                     object\n",
      "zipcode                  float64\n",
      "random choice 2           object\n",
      "random label num 4        object\n",
      "semi_constant_1           object\n",
      "semi_constant_2           object\n",
      "corr_feature_class       float64\n",
      "pd qcut3                  object\n",
      "correlated w target 2    float64\n",
      "standard scaling         float64\n",
      "multicollinearity 1      float64\n",
      "random choice 4           object\n",
      "multicollinearity 3      float64\n",
      "random label num 13       object\n",
      "outliers 2               float64\n",
      "duplicate_2              float64\n",
      "random choice 7           object\n",
      "correlated w target 1    float64\n",
      "uniform corr 2           float64\n",
      "min max scaling          float64\n",
      "pd qcut1                  object\n",
      "outliers 1               float64\n",
      "multicollinearity 2      float64\n",
      "uniform corr 1           float64\n",
      "pd qcut2                  object\n",
      "informative_1            float64\n",
      "target                   float64\n",
      "multicollinearity 4      float64\n",
      "duplicate_1              float64\n",
      "informative_2            float64\n",
      "dtype: object\n",
      "Encoding non-numeric column: binary\n",
      "Encoding non-numeric column: given_name\n",
      "Encoding non-numeric column: surname\n",
      "Encoding non-numeric column: date_of_birth\n",
      "Encoding non-numeric column: phone_number\n",
      "Encoding non-numeric column: email\n",
      "Encoding non-numeric column: address\n",
      "Encoding non-numeric column: city\n",
      "Encoding non-numeric column: state\n",
      "Encoding non-numeric column: random choice 2\n",
      "Encoding non-numeric column: random label num 4\n",
      "Encoding non-numeric column: semi_constant_1\n",
      "Encoding non-numeric column: semi_constant_2\n",
      "Encoding non-numeric column: pd qcut3\n",
      "Encoding non-numeric column: random choice 4\n",
      "Encoding non-numeric column: random label num 13\n",
      "Encoding non-numeric column: random choice 7\n",
      "Encoding non-numeric column: pd qcut1\n",
      "Encoding non-numeric column: pd qcut2\n",
      "Missing values detected. Filling with 0.\n"
     ]
    },
    {
     "data": {
      "image/png": "[encoded data removed]",
      "text/plain": [
       "<Figure size 1000x600 with 1 Axes>"
      ]
     },
     "metadata": {},
     "output_type": "display_data"
    }
   ],
   "source": [
    "# Import necessary libraries\n",
    "import pandas as pd\n",
    "import matplotlib.pyplot as plt\n",
    "from sklearn.feature_selection import mutual_info_classif\n",
    "from sklearn.preprocessing import LabelEncoder\n",
    "\n",
    "# Assuming X_train and y_train are already defined, proceed with preprocessing\n",
    "# Check for non-numeric columns in X_train\n",
    "print(\"Data types of X_train columns:\")\n",
    "print(X_train.dtypes)\n",
    "\n",
    "# Convert non-numeric columns to numeric (Label Encoding as an example)\n",
    "# You can replace LabelEncoder with pd.get_dummies if you prefer one-hot encoding\n",
    "label_encoders = {}\n",
    "for column in X_train.select_dtypes(include=['object', 'category']).columns:\n",
    "    print(f\"Encoding non-numeric column: {column}\")\n",
    "    label_encoder = LabelEncoder()\n",
    "    X_train[column] = label_encoder.fit_transform(X_train[column])\n",
    "    label_encoders[column] = label_encoder\n",
    "\n",
    "# Check for missing values and handle them (e.g., filling with 0)\n",
    "if X_train.isnull().sum().sum() > 0:\n",
    "    print(\"Missing values detected. Filling with 0.\")\n",
    "    X_train = X_train.fillna(0)\n",
    "\n",
    "# Ensure y_train is numeric if not already\n",
    "if y_train.dtype == 'object' or y_train.dtype.name == 'category':\n",
    "    print(\"Encoding target variable y_train.\")\n",
    "    y_train = LabelEncoder().fit_transform(y_train)\n",
    "\n",
    "# Calculate mutual information for classification\n",
    "mi = mutual_info_classif(X_train, y_train)\n",
    "mi = pd.Series(mi, index=X_train.columns)\n",
    "\n",
    "# Plot mutual information\n",
    "mi.sort_values(ascending=False).plot.bar(figsize=(10, 6))\n",
    "plt.title('Mutual Information Scores')\n",
    "plt.ylabel('Mutual Information')\n",
    "plt.xlabel('Features')\n",
    "plt.show()\n"
   ]
  },
  {
   "cell_type": "code",
   "execution_count": 90,
   "metadata": {
    "colab": {
     "base_uri": "https://localhost:8080/",
     "height": 662
    },
    "id": "SKFraXeRtr44",
    "outputId": "dbc2c98c-0f37-42f4-b148-708a3a9d88f2"
   },
   "outputs": [
    {
     "data": {
      "image/png": "[encoded data removed]",
      "text/plain": [
       "<Figure size 640x480 with 1 Axes>"
      ]
     },
     "metadata": {},
     "output_type": "display_data"
    }
   ],
   "source": [
    "# mutual information\n",
    "import matplotlib.pyplot as plt\n",
    "from sklearn.feature_selection import mutual_info_regression, mutual_info_classif\n",
    "\n",
    "mi = mutual_info_classif(X_train, y_train)\n",
    "mi = pd.Series(mi)\n",
    "mi.index = X_train.columns\n",
    "mi.sort_values(ascending=False).plot.bar()\n",
    "plt.ylabel('Mutual Information');"
   ]
  },
  {
   "cell_type": "code",
   "execution_count": 91,
   "metadata": {
    "colab": {
     "base_uri": "https://localhost:8080/"
    },
    "id": "f-UYVaIuwb6n",
    "outputId": "c985dff7-0ad8-46a7-d3ab-db92bc424cee"
   },
   "outputs": [
    {
     "name": "stdout",
     "output_type": "stream",
     "text": [
      "Index(['informative_2', 'duplicate_2', 'target', 'pd qcut2', 'pd qcut3'], dtype='object')\n"
     ]
    }
   ],
   "source": [
    "mi_keepers = mi.sort_values(ascending=False).index[:5]\n",
    "print(mi_keepers)"
   ]
  },
  {
   "cell_type": "markdown",
   "metadata": {
    "id": "vRo1hgSE8Qy1"
   },
   "source": [
    "### SelectKBest"
   ]
  },
  {
   "cell_type": "code",
   "execution_count": 92,
   "metadata": {
    "colab": {
     "base_uri": "https://localhost:8080/"
    },
    "id": "PExIjwjzuw_Q",
    "outputId": "5a65de72-7b06-466d-b6d2-3996ab339d0c"
   },
   "outputs": [
    {
     "name": "stdout",
     "output_type": "stream",
     "text": [
      "['duplicate_2' 'uniform corr 2' 'pd qcut2' 'target' 'informative_2']\n"
     ]
    }
   ],
   "source": [
    "# SelectKBest\n",
    "from sklearn.feature_selection import SelectKBest, f_regression, f_classif\n",
    "\n",
    "selector = SelectKBest(f_classif, k=5) # Select the top 5 features\n",
    "X_new = selector.fit(X_train, y_train)\n",
    "\n",
    "kb_keepers = X_train.columns.values[selector.get_support()]\n",
    "print(kb_keepers)"
   ]
  },
  {
   "cell_type": "markdown",
   "metadata": {
    "id": "fjR1U4GM8Tyw"
   },
   "source": [
    "### Select From Model"
   ]
  },
  {
   "cell_type": "code",
   "execution_count": 93,
   "metadata": {
    "colab": {
     "base_uri": "https://localhost:8080/"
    },
    "id": "DkRDmJWchp0Z",
    "outputId": "bbac0451-8fb3-4254-ddbc-ebc9097d683c"
   },
   "outputs": [
    {
     "name": "stdout",
     "output_type": "stream",
     "text": [
      "['semi_constant_1' 'corr_feature_class' 'correlated w target 2'\n",
      " 'multicollinearity 3' 'outliers 2' 'duplicate_2' 'outliers 1' 'target'\n",
      " 'informative_2']\n"
     ]
    }
   ],
   "source": [
    "# Select from model\n",
    "import numpy as np\n",
    "from sklearn.linear_model import LinearRegression, LogisticRegression\n",
    "from sklearn.feature_selection import SelectFromModel\n",
    "from sklearn.preprocessing import StandardScaler\n",
    "\n",
    "scaler = StandardScaler()\n",
    "scaler.fit(X_train)\n",
    "X_scaled = scaler.transform(X_train)\n",
    "\n",
    "selections = SelectFromModel(estimator=LogisticRegression()).fit(X_scaled, y_train)\n",
    "mt_keepers = X_train.columns.values[selections.get_support()]\n",
    "print(mt_keepers)"
   ]
  },
  {
   "cell_type": "markdown",
   "metadata": {
    "id": "Hum_dCtv8XfC"
   },
   "source": [
    "### Recursive Feature Elmination"
   ]
  },
  {
   "cell_type": "code",
   "execution_count": 94,
   "metadata": {
    "colab": {
     "base_uri": "https://localhost:8080/"
    },
    "id": "epn6N1WTvyNX",
    "outputId": "fac5cdce-f075-4d23-ec81-430268807b72"
   },
   "outputs": [
    {
     "name": "stdout",
     "output_type": "stream",
     "text": [
      "['semi_constant_1' 'corr_feature_class' 'correlated w target 2'\n",
      " 'multicollinearity 3' 'outliers 2' 'duplicate_2' 'outliers 1' 'target'\n",
      " 'informative_2']\n"
     ]
    }
   ],
   "source": [
    "from sklearn.feature_selection import RFE\n",
    "from sklearn.linear_model import LinearRegression, LogisticRegression\n",
    "\n",
    "estimator = LogisticRegression()\n",
    "selector = RFE(estimator, n_features_to_select=5) # Select the top 5 features\n",
    "X_new = selector.fit_transform(X_scaled, y_train)\n",
    "rf_keepers = X_train.columns.values[selections.get_support()]\n",
    "print(rf_keepers)"
   ]
  },
  {
   "cell_type": "markdown",
   "metadata": {
    "id": "CQ7VwY3ABUsa"
   },
   "source": [
    "### Review Pickled Variables\n",
    "\n",
    "* Correlated features\n",
    "* VIF\n",
    "* Outliers"
   ]
  },
  {
   "cell_type": "markdown",
   "metadata": {
    "id": "wPvl0kTMe3e4"
   },
   "source": [
    "### Random Forest Importance\n"
   ]
  },
  {
   "cell_type": "code",
   "execution_count": 95,
   "metadata": {
    "colab": {
     "base_uri": "https://localhost:8080/"
    },
    "id": "VaMYAQmnfGRp",
    "outputId": "0e59f624-5cb9-492c-8494-0bce79c1038f"
   },
   "outputs": [
    {
     "data": {
      "text/plain": [
       "['duplicate_2', 'pd qcut2', 'target', 'informative_2']"
      ]
     },
     "execution_count": 95,
     "metadata": {},
     "output_type": "execute_result"
    }
   ],
   "source": [
    "# random forest importance\n",
    "from sklearn.ensemble import RandomForestClassifier, RandomForestRegressor\n",
    "from sklearn.feature_selection import SelectFromModel\n",
    "\n",
    "selects = SelectFromModel(RandomForestClassifier(n_estimators=100, random_state=random_state), max_features=4)\n",
    "selects.fit(X_train, y_train)\n",
    "rfi = X_train.columns[(selects.get_support())]\n",
    "rfi.tolist()"
   ]
  },
  {
   "cell_type": "markdown",
   "metadata": {
    "id": "fJ7tH75NfZom"
   },
   "source": [
    "Scenario: We are trying to classify if a user will subscribe to our YouTube channel.\n",
    "\n",
    "Lets grab the first four features from feature importance and rename them using the following suggestions:\n",
    "\n",
    "**Numerical Features**\n",
    "\n",
    "*   **Watch Time (seconds)**: Measures the total time viewers spend watching your videos.\n",
    "*   **Average View Duration (seconds)**: The average length of time viewers watch a single video.\n",
    "*   **Click-Through Rate (CTR)**: The percentage of viewers who click on your video after seeing the thumbnail/title.\n",
    "*   **Comments per Video**: The number of comments on each video.\n",
    "*   **Shares per Video**: The number of times each video is shared.\n",
    "*   **Likes per Video**: The number of likes on each video.\n",
    "*   **Dislikes per Video**: The number of dislikes on each video.\n",
    "*   **Subscribers Gained per Video**: The number of subscribers gained after a video is published.\n",
    "*   **Views per Video**: The total number of views for each video.\n",
    "\n",
    "**Categorical Features**\n",
    "\n",
    "*   **Video Category**: The category or genre of the video (e.g., tutorial, review, vlog).\n",
    "*   **Upload Frequency**: How often you upload videos (e.g., daily, weekly, monthly).\n",
    "*   **Video Length**: Categorize videos based on length (e.g., short, medium, long).\n",
    "*   **Thumbnail Type**: The type of thumbnail used (e.g., image, text overlay, face).\n",
    "*   **Use of Background Music**: Whether the video uses background music or not.\n",
    "*   **Use of End Screens**: Whether the video includes end screens or not.\n",
    "*   **Viewer Gender**: The dominant gender of your viewers (if available).\n",
    "*   **Viewer Age**: The dominant age group of your viewers (if available).\n",
    "*   **Viewer Location**: The primary location of your viewers (if available).\n",
    "\n",
    "**Discrete Features**\n",
    "\n",
    "*   **Number of Videos Uploaded**: The total number of videos on your channel.\n",
    "*   **Channel Age (months)**: The age of your YouTube channel.\n",
    "*   **Number of Playlists**: The total number of playlists on your channel.\n",
    "*   **Use of Subtitles**: Whether your videos include subtitles (0 or 1).\n",
    "*   **Use of Closed Captions**: Whether your videos include closed captions (0 or 1).\n",
    "*   **Viewer Engagement Level**: Categorize viewer engagement into levels (e.g., low, medium, high).\n",
    "*   **Video Quality**: Categorize video quality (e.g., low, medium, high).\n",
    "*   **Subscriber Count**: The total number of subscribers to your channel.\n",
    "\n",
    "\n",
    "\n"
   ]
  },
  {
   "cell_type": "code",
   "execution_count": 96,
   "metadata": {
    "colab": {
     "base_uri": "https://localhost:8080/",
     "height": 206
    },
    "id": "VFzff6aCfefd",
    "outputId": "619d2224-97ac-4dec-c370-12467ff335c2"
   },
   "outputs": [
    {
     "data": {
      "text/html": [
       "<div>\n",
       "<style scoped>\n",
       "    .dataframe tbody tr th:only-of-type {\n",
       "        vertical-align: middle;\n",
       "    }\n",
       "\n",
       "    .dataframe tbody tr th {\n",
       "        vertical-align: top;\n",
       "    }\n",
       "\n",
       "    .dataframe thead th {\n",
       "        text-align: right;\n",
       "    }\n",
       "</style>\n",
       "<table border=\"1\" class=\"dataframe\">\n",
       "  <thead>\n",
       "    <tr style=\"text-align: right;\">\n",
       "      <th></th>\n",
       "      <th>duplicate_2</th>\n",
       "      <th>pd qcut2</th>\n",
       "      <th>target</th>\n",
       "      <th>informative_2</th>\n",
       "    </tr>\n",
       "  </thead>\n",
       "  <tbody>\n",
       "    <tr>\n",
       "      <th>367</th>\n",
       "      <td>-0.452342</td>\n",
       "      <td>1</td>\n",
       "      <td>-1.079894</td>\n",
       "      <td>-0.452342</td>\n",
       "    </tr>\n",
       "    <tr>\n",
       "      <th>710</th>\n",
       "      <td>-1.093262</td>\n",
       "      <td>1</td>\n",
       "      <td>-1.767144</td>\n",
       "      <td>-1.093262</td>\n",
       "    </tr>\n",
       "    <tr>\n",
       "      <th>878</th>\n",
       "      <td>2.045861</td>\n",
       "      <td>3</td>\n",
       "      <td>5.165418</td>\n",
       "      <td>2.045861</td>\n",
       "    </tr>\n",
       "    <tr>\n",
       "      <th>422</th>\n",
       "      <td>1.819663</td>\n",
       "      <td>3</td>\n",
       "      <td>4.865032</td>\n",
       "      <td>1.819663</td>\n",
       "    </tr>\n",
       "    <tr>\n",
       "      <th>579</th>\n",
       "      <td>1.413658</td>\n",
       "      <td>3</td>\n",
       "      <td>2.844868</td>\n",
       "      <td>1.413658</td>\n",
       "    </tr>\n",
       "  </tbody>\n",
       "</table>\n",
       "</div>"
      ],
      "text/plain": [
       "     duplicate_2  pd qcut2    target  informative_2\n",
       "367    -0.452342         1 -1.079894      -0.452342\n",
       "710    -1.093262         1 -1.767144      -1.093262\n",
       "878     2.045861         3  5.165418       2.045861\n",
       "422     1.819663         3  4.865032       1.819663\n",
       "579     1.413658         3  2.844868       1.413658"
      ]
     },
     "execution_count": 96,
     "metadata": {},
     "output_type": "execute_result"
    }
   ],
   "source": [
    "features_to_model = rfi\n",
    "X_train[features_to_model].head()"
   ]
  },
  {
   "cell_type": "code",
   "execution_count": 97,
   "metadata": {
    "id": "2PpQyIprnD6_"
   },
   "outputs": [],
   "source": [
    "new_column_names = {rfi[0]: 'watch_time', rfi[1]: 'avg_view_duration', rfi[2]: 'click_through_rate', rfi[3]: 'interest'}\n",
    "X_train.rename(columns=new_column_names, inplace=True)\n",
    "X_test.rename(columns=new_column_names, inplace=True)\n",
    "features_to_model = list(new_column_names.values())\n",
    "X_train = X_train[features_to_model]\n",
    "X_test = X_test[features_to_model]"
   ]
  },
  {
   "cell_type": "code",
   "execution_count": 100,
   "metadata": {
    "id": "NrIdASGK3LCx"
   },
   "outputs": [],
   "source": [
    "import pickle\n",
    "\n",
    "# Save the data\n",
    "with open('development/pickles/train_test_split.pkl', 'wb') as f:\n",
    "    pickle.dump([X_train, X_test, y_train, y_test], f)"
   ]
  },
  {
   "cell_type": "code",
   "execution_count": 109,
   "metadata": {
    "colab": {
     "base_uri": "https://localhost:8080/",
     "height": 36
    },
    "id": "NSgcg1LLCFtB",
    "outputId": "cee83d58-c974-4c6d-8b71-1fc13dae3e75"
   },
   "outputs": [
    {
     "data": {
      "text/plain": [
       "'/Users/sreeku/Downloads/Sreekanth Project/notebooks/development/pickles/train_test_split.pkl'"
      ]
     },
     "execution_count": 109,
     "metadata": {},
     "output_type": "execute_result"
    }
   ],
   "source": [
    "import shutil\n",
    "\n",
    "# Source file path (within your Drive)\n",
    "source_file = 'train_test_split.pkl'\n",
    "\n",
    "# Destination path (root of your Drive)\n",
    "destination_path = '/Users/sreeku/Downloads/Sreekanth Project/notebooks/development/pickles/train_test_split.pkl'\n",
    "\n",
    "# Copy the file\n",
    "shutil.copy(source_file, destination_path)"
   ]
  },
  {
   "cell_type": "markdown",
   "metadata": {
    "id": "lJQ7-Uvaj-eB"
   },
   "source": [
    "# Part 5 - Data Modeling"
   ]
  },
  {
   "cell_type": "markdown",
   "metadata": {
    "id": "mwrKAvxG5htS"
   },
   "source": [
    "## Get Data"
   ]
  },
  {
   "cell_type": "code",
   "execution_count": 110,
   "metadata": {
    "id": "a-m0xVOf5_JW"
   },
   "outputs": [],
   "source": [
    "# seed\n",
    "import random\n",
    "\n",
    "seed_id = 11797610\n",
    "random_state = random.seed(seed_id)\n",
    "random_state"
   ]
  },
  {
   "cell_type": "code",
   "execution_count": 111,
   "metadata": {
    "colab": {
     "base_uri": "https://localhost:8080/",
     "height": 36
    },
    "id": "9D49mVdvCf6k",
    "outputId": "4d9edff5-9a13-4953-e93e-1894e282f0c8"
   },
   "outputs": [
    {
     "data": {
      "text/plain": [
       "'train_test_split.pkl'"
      ]
     },
     "execution_count": 111,
     "metadata": {},
     "output_type": "execute_result"
    }
   ],
   "source": [
    "import shutil\n",
    "\n",
    "# Source file path (within your Drive)\n",
    "source_file = '/Users/sreeku/Downloads/Sreekanth Project/notebooks/development/pickles/train_test_split.pkl'\n",
    "\n",
    "# Destination path (root of your Drive)\n",
    "destination_path = 'train_test_split.pkl'\n",
    "\n",
    "# Copy the file\n",
    "shutil.copy(source_file, destination_path)"
   ]
  },
  {
   "cell_type": "code",
   "execution_count": 113,
   "metadata": {
    "id": "VzQgQwDe5j-c"
   },
   "outputs": [],
   "source": [
    "import pickle\n",
    "\n",
    "# Load the data\n",
    "with open('development/pickles/train_test_split.pkl', 'rb') as f:\n",
    "    X_train, X_test, y_train, y_test = pickle.load(f)"
   ]
  },
  {
   "cell_type": "markdown",
   "metadata": {
    "id": "JzLn_P9TsL8D"
   },
   "source": [
    "## Logistic Regression"
   ]
  },
  {
   "cell_type": "code",
   "execution_count": 116,
   "metadata": {},
   "outputs": [
    {
     "name": "stdout",
     "output_type": "stream",
     "text": [
      "Confusion Matrix:\n",
      "[[ 4 11]\n",
      " [ 2 13]]\n",
      "\n",
      "Accuracy Score:\n",
      "0.5666666666666667\n"
     ]
    }
   ],
   "source": [
    "import numpy as np\n",
    "import pandas as pd\n",
    "from sklearn.linear_model import LogisticRegression\n",
    "from sklearn.metrics import confusion_matrix, accuracy_score\n",
    "from sklearn.preprocessing import StandardScaler\n",
    "\n",
    "# Example: Assuming you have your DataFrame 'df' and the target 'y' column\n",
    "# Let's define some sample data for 'X' (features) and 'y' (target) for illustration\n",
    "\n",
    "# Replace this with your actual DataFrame\n",
    "# For example:\n",
    "# df = pd.read_csv('your_data.csv')  # or any data loading method\n",
    "\n",
    "# Let's assume 'target_column' is the name of the column you're predicting\n",
    "# X = df.drop('target_column', axis=1)  # Features\n",
    "# y = df['target_column']  # Target column\n",
    "\n",
    "# Example data, replace with your actual DataFrame and column names\n",
    "X = pd.DataFrame(np.random.randn(100, 5), columns=[f\"Feature{i}\" for i in range(1, 6)])\n",
    "y = np.random.choice([0, 1], size=100)  # Binary target variable for demonstration\n",
    "\n",
    "# Split data into train and test sets\n",
    "from sklearn.model_selection import train_test_split\n",
    "X_train, X_test, y_train, y_test = train_test_split(X, y, test_size=0.3, random_state=42)\n",
    "\n",
    "# Check for NaN or infinite values and handle them (if any)\n",
    "if np.any(np.isnan(X_train)) or np.any(np.isnan(y_train)):\n",
    "    print(\"Data contains NaN values. Handle them before proceeding.\")\n",
    "    # Handle missing data by imputation or removing rows with NaN values\n",
    "    # For example, filling NaN values:\n",
    "    # X_train.fillna(X_train.mean(), inplace=True)\n",
    "    # y_train.fillna(y_train.mean(), inplace=True)\n",
    "\n",
    "# Check for infinite values and handle them (if any)\n",
    "if np.any(np.isinf(X_train)) or np.any(np.isinf(y_train)):\n",
    "    print(\"Data contains infinite values. Handle them before proceeding.\")\n",
    "    # Handle infinite values, for example by replacing them:\n",
    "    # X_train.replace([np.inf, -np.inf], np.nan, inplace=True)\n",
    "    # X_train.fillna(X_train.mean(), inplace=True)\n",
    "\n",
    "# Scale the features using StandardScaler (optional but recommended)\n",
    "scaler = StandardScaler()\n",
    "X_train = scaler.fit_transform(X_train)  # Fit and transform training data\n",
    "X_test = scaler.transform(X_test)        # Only transform the test data\n",
    "\n",
    "# Create and train the logistic regression model\n",
    "random_state = 42  # Defining the random_state\n",
    "model = LogisticRegression(solver='liblinear', random_state=random_state)\n",
    "model.fit(X_train, y_train)\n",
    "\n",
    "# Make predictions\n",
    "predictions = model.predict(X_test)\n",
    "\n",
    "# Print confusion matrix and accuracy score\n",
    "print(\"Confusion Matrix:\")\n",
    "print(confusion_matrix(y_test, predictions))\n",
    "print(\"\\nAccuracy Score:\")\n",
    "print(accuracy_score(y_test, predictions))\n"
   ]
  },
  {
   "cell_type": "markdown",
   "metadata": {
    "id": "vfP5Ltl4tbkz"
   },
   "source": [
    "## Random Forest"
   ]
  },
  {
   "cell_type": "code",
   "execution_count": 117,
   "metadata": {
    "colab": {
     "base_uri": "https://localhost:8080/"
    },
    "id": "apRIPeEetesw",
    "outputId": "d9d4a07c-c850-4058-893e-1000b70c9b94"
   },
   "outputs": [
    {
     "name": "stdout",
     "output_type": "stream",
     "text": [
      "[[8 7]\n",
      " [7 8]]\n",
      "0.5333333333333333\n"
     ]
    }
   ],
   "source": [
    "from sklearn.ensemble import RandomForestClassifier\n",
    "\n",
    "model = RandomForestClassifier(n_estimators=100, criterion='entropy', random_state=random_state)\n",
    "model.fit(X_train, y_train)\n",
    "predictions = model.predict(X_test)\n",
    "\n",
    "print(confusion_matrix(y_test, predictions))\n",
    "print(accuracy_score(y_test, predictions))"
   ]
  },
  {
   "cell_type": "markdown",
   "metadata": {
    "id": "P3s_9zNAkBvi"
   },
   "source": [
    "## Model Evaluation"
   ]
  },
  {
   "cell_type": "code",
   "execution_count": 118,
   "metadata": {
    "colab": {
     "base_uri": "https://localhost:8080/"
    },
    "id": "u2_ZmOlSu3v_",
    "outputId": "93bca801-44e6-474f-d767-1db5bc11a136"
   },
   "outputs": [
    {
     "name": "stdout",
     "output_type": "stream",
     "text": [
      "accuracy: 0.5333333333333333\n",
      "[[8 7]\n",
      " [7 8]]\n",
      "              precision    recall  f1-score   support\n",
      "\n",
      "           0       0.53      0.53      0.53        15\n",
      "           1       0.53      0.53      0.53        15\n",
      "\n",
      "    accuracy                           0.53        30\n",
      "   macro avg       0.53      0.53      0.53        30\n",
      "weighted avg       0.53      0.53      0.53        30\n",
      "\n"
     ]
    }
   ],
   "source": [
    "from sklearn.metrics import accuracy_score, confusion_matrix, classification_report\n",
    "\n",
    "tn, fp, fn, tp = confusion_matrix(y_test, predictions).ravel()\n",
    "print('accuracy:', accuracy_score(predictions, y_test))\n",
    "print(confusion_matrix(y_test, predictions))\n",
    "print(classification_report(y_test, predictions))"
   ]
  },
  {
   "cell_type": "markdown",
   "metadata": {
    "id": "0z3ILWx2kEQW"
   },
   "source": [
    "## Model Fine-Tuning"
   ]
  },
  {
   "cell_type": "code",
   "execution_count": 119,
   "metadata": {
    "colab": {
     "base_uri": "https://localhost:8080/"
    },
    "id": "id7SGg6wuOyR",
    "outputId": "1e140fe1-294b-4ac0-dbc3-6c7e38aa6564"
   },
   "outputs": [
    {
     "name": "stdout",
     "output_type": "stream",
     "text": [
      "best accuracy 0.5285714285714285\n",
      "best parameters {'bootstrap': True, 'criterion': 'gini', 'max_depth': 2, 'min_samples_leaf': 4, 'min_samples_split': 4}\n"
     ]
    }
   ],
   "source": [
    "from sklearn.ensemble import RandomForestClassifier\n",
    "from sklearn.model_selection import GridSearchCV\n",
    "\n",
    "hyperparameters = {'max_depth': [2, 3],\n",
    "              'min_samples_split': [4, 5],\n",
    "              'min_samples_leaf': [4, 5],\n",
    "              'bootstrap': [True, False],\n",
    "              'criterion': ['entropy', 'gini']}\n",
    "\n",
    "grid_search = GridSearchCV(estimator = RandomForestClassifier(),\n",
    "                           param_grid = hyperparameters,\n",
    "                           scoring = 'accuracy',\n",
    "                           cv = 10)\n",
    "\n",
    "grid_search = grid_search.fit(X_train, y_train)\n",
    "\n",
    "best_accuracy = grid_search.best_score_\n",
    "best_parameters = grid_search.best_params_\n",
    "\n",
    "print('best accuracy', best_accuracy)\n",
    "print('best parameters', best_parameters)"
   ]
  },
  {
   "cell_type": "markdown",
   "metadata": {
    "id": "VssRecfXvNDu"
   },
   "source": [
    "## Final Model"
   ]
  },
  {
   "cell_type": "code",
   "execution_count": 121,
   "metadata": {},
   "outputs": [
    {
     "name": "stdout",
     "output_type": "stream",
     "text": [
      "Accuracy: 0.4666666666666667\n",
      "Confusion Matrix:\n",
      "[[8 7]\n",
      " [9 6]]\n",
      "Classification Report:\n",
      "              precision    recall  f1-score   support\n",
      "\n",
      "           0       0.47      0.53      0.50        15\n",
      "           1       0.46      0.40      0.43        15\n",
      "\n",
      "    accuracy                           0.47        30\n",
      "   macro avg       0.47      0.47      0.46        30\n",
      "weighted avg       0.47      0.47      0.46        30\n",
      "\n"
     ]
    }
   ],
   "source": [
    "from sklearn.ensemble import RandomForestClassifier\n",
    "from sklearn.metrics import accuracy_score, confusion_matrix, classification_report\n",
    "from sklearn.model_selection import train_test_split\n",
    "\n",
    "# Assuming X and y are already defined as your features and target\n",
    "# For illustration, you would split your dataset like this (replace with your actual data):\n",
    "# X_train, X_test, y_train, y_test = train_test_split(X, y, test_size=0.3, random_state=random_state)\n",
    "\n",
    "# Assuming best_parameters is a dictionary with hyperparameters (e.g., {'n_estimators': 100, 'max_depth': 5})\n",
    "best_parameters = {'n_estimators': 100, 'max_depth': 10}  # Example, replace with your best parameters\n",
    "\n",
    "# Initialize the RandomForestClassifier and set parameters\n",
    "model = RandomForestClassifier(random_state=random_state)\n",
    "model.set_params(**best_parameters)\n",
    "\n",
    "# Fit the model to the training data\n",
    "model.fit(X_train, y_train)\n",
    "\n",
    "# Make predictions\n",
    "predictions = model.predict(X_test)\n",
    "\n",
    "# Print evaluation metrics\n",
    "print('Accuracy:', accuracy_score(y_test, predictions))\n",
    "print('Confusion Matrix:')\n",
    "print(confusion_matrix(y_test, predictions))\n",
    "print('Classification Report:')\n",
    "print(classification_report(y_test, predictions))\n"
   ]
  },
  {
   "cell_type": "markdown",
   "metadata": {
    "id": "YMQq51GE5XJb"
   },
   "source": [
    "## Confusion Matrix"
   ]
  },
  {
   "cell_type": "code",
   "execution_count": 122,
   "metadata": {
    "colab": {
     "base_uri": "https://localhost:8080/"
    },
    "id": "kUSZa-4N5cgu",
    "outputId": "e3e4b1ff-f6c4-4a3a-e912-fef2e07c16f2"
   },
   "outputs": [
    {
     "name": "stdout",
     "output_type": "stream",
     "text": [
      "[[8 7]\n",
      " [9 6]]\n"
     ]
    }
   ],
   "source": [
    "print(confusion_matrix(y_test, predictions))"
   ]
  },
  {
   "cell_type": "markdown",
   "metadata": {
    "id": "uaRRL0lf5Zv0"
   },
   "source": [
    "## Precision Recall"
   ]
  },
  {
   "cell_type": "code",
   "execution_count": 123,
   "metadata": {
    "colab": {
     "base_uri": "https://localhost:8080/"
    },
    "id": "bqdrP2BE5dEE",
    "outputId": "9cf2da6e-975d-45b2-d936-68ad2fd32b3c"
   },
   "outputs": [
    {
     "name": "stdout",
     "output_type": "stream",
     "text": [
      "              precision    recall  f1-score   support\n",
      "\n",
      "           0       0.47      0.53      0.50        15\n",
      "           1       0.46      0.40      0.43        15\n",
      "\n",
      "    accuracy                           0.47        30\n",
      "   macro avg       0.47      0.47      0.46        30\n",
      "weighted avg       0.47      0.47      0.46        30\n",
      "\n"
     ]
    }
   ],
   "source": [
    "print(classification_report(y_test, predictions))"
   ]
  },
  {
   "cell_type": "markdown",
   "metadata": {
    "id": "Xa9kbxryvx4d"
   },
   "source": [
    "## Bias Variance"
   ]
  },
  {
   "cell_type": "code",
   "execution_count": 129,
   "metadata": {},
   "outputs": [
    {
     "name": "stdout",
     "output_type": "stream",
     "text": [
      "Accuracy: 0.875\n",
      "Confusion Matrix:\n",
      " [[92 14]\n",
      " [11 83]]\n",
      "Classification Report:\n",
      "               precision    recall  f1-score   support\n",
      "\n",
      "           0       0.89      0.87      0.88       106\n",
      "           1       0.86      0.88      0.87        94\n",
      "\n",
      "    accuracy                           0.88       200\n",
      "   macro avg       0.87      0.88      0.87       200\n",
      "weighted avg       0.88      0.88      0.88       200\n",
      "\n",
      "Bias-Variance Decomposition Results:\n",
      "Average expected loss: 0.134\n",
      "Average bias: 0.135\n",
      "Average variance: 0.053\n"
     ]
    }
   ],
   "source": [
    "# Import necessary libraries\n",
    "from sklearn.ensemble import RandomForestClassifier\n",
    "from sklearn.metrics import accuracy_score, confusion_matrix, classification_report\n",
    "from mlxtend.evaluate import bias_variance_decomp\n",
    "from sklearn.model_selection import train_test_split\n",
    "from sklearn.datasets import make_classification\n",
    "import numpy as np\n",
    "\n",
    "# Generate a sample dataset (you can replace this with your own data)\n",
    "X, y = make_classification(\n",
    "    n_samples=1000,\n",
    "    n_features=20,\n",
    "    n_informative=15,\n",
    "    n_redundant=5,\n",
    "    random_state=42\n",
    ")\n",
    "\n",
    "# Split the dataset into training and testing sets\n",
    "X_train, X_test, y_train, y_test = train_test_split(\n",
    "    X, y, test_size=0.2, random_state=42\n",
    ")\n",
    "\n",
    "# Initialize the RandomForest model\n",
    "model = RandomForestClassifier(random_state=42, n_estimators=50, max_depth=5)\n",
    "\n",
    "# Fit the model\n",
    "model.fit(X_train, y_train)\n",
    "\n",
    "# Make predictions\n",
    "predictions = model.predict(X_test)\n",
    "\n",
    "# Evaluate the model\n",
    "print(\"Accuracy:\", accuracy_score(y_test, predictions))\n",
    "print(\"Confusion Matrix:\\n\", confusion_matrix(y_test, predictions))\n",
    "print(\"Classification Report:\\n\", classification_report(y_test, predictions))\n",
    "\n",
    "# Bias-Variance Decomposition\n",
    "avg_expected_loss, avg_bias, avg_var = bias_variance_decomp(\n",
    "    model,\n",
    "    X_train,  # NumPy array of training features\n",
    "    y_train,  # NumPy array of training labels\n",
    "    X_test,   # NumPy array of testing features\n",
    "    y_test,   # NumPy array of testing labels\n",
    "    loss='0-1_loss',\n",
    "    random_seed=42\n",
    ")\n",
    "\n",
    "# Print results\n",
    "print(\"Bias-Variance Decomposition Results:\")\n",
    "print('Average expected loss: %.3f' % avg_expected_loss)\n",
    "print('Average bias: %.3f' % avg_bias)\n",
    "print('Average variance: %.3f' % avg_var)"
   ]
  },
  {
   "cell_type": "code",
   "execution_count": 134,
   "metadata": {},
   "outputs": [
    {
     "name": "stdout",
     "output_type": "stream",
     "text": [
      "    Feature1  Feature2  Feature3  Feature4  Feature5\n",
      "83 -1.334239  0.962088 -0.720019  1.110008  1.792721\n",
      "53 -0.601286  0.859168 -1.045939 -0.950815 -2.615805\n",
      "70 -0.895926 -0.978312 -0.575381  0.265234 -0.767054\n",
      "45 -0.011994 -0.995925 -0.214921  0.428253  0.101843\n",
      "44 -0.942425  0.409999  0.218411 -1.317149  0.677812\n",
      "    Feature1  Feature2  Feature3  Feature4  Feature5\n",
      "83 -1.334239  0.962088 -0.720019  1.110008  1.792721\n",
      "53 -0.601286  0.859168 -1.045939 -0.950815 -2.615805\n",
      "70 -0.895926 -0.978312 -0.575381  0.265234 -0.767054\n",
      "45 -0.011994 -0.995925 -0.214921  0.428253  0.101843\n",
      "44 -0.942425  0.409999  0.218411 -1.317149  0.677812\n"
     ]
    }
   ],
   "source": [
    "import numpy as np\n",
    "import pandas as pd\n",
    "from sklearn.model_selection import train_test_split\n",
    "\n",
    "# Example: Assuming you have a dataset\n",
    "X = pd.DataFrame(np.random.randn(100, 5), columns=[f\"Feature{i}\" for i in range(1, 6)])\n",
    "y = np.random.choice([0, 1], size=100)\n",
    "\n",
    "# Split data into train and test sets\n",
    "X_train, X_test, y_train, y_test = train_test_split(X, y, test_size=0.3, random_state=42)\n",
    "\n",
    "# Option 1: Using slicing for NumPy array (first 5 rows of X_test)\n",
    "print(X_test[:5])  # Prints first 5 rows of X_test\n",
    "\n",
    "# Option 2: Convert X_test to a DataFrame and use .head()\n",
    "X_test_df = pd.DataFrame(X_test, columns=[f\"Feature{i}\" for i in range(1, X_test.shape[1] + 1)])\n",
    "print(X_test_df.head())  # Use .head() after converting to DataFrame\n"
   ]
  },
  {
   "cell_type": "code",
   "execution_count": 137,
   "metadata": {
    "id": "MfPZ7SmO46xZ"
   },
   "outputs": [],
   "source": [
    "import pickle\n",
    "\n",
    "with open('development/pickles/model.pkl', 'wb') as file:\n",
    "    pickle.dump(model, file)"
   ]
  },
  {
   "cell_type": "code",
   "execution_count": 142,
   "metadata": {
    "colab": {
     "base_uri": "https://localhost:8080/",
     "height": 36
    },
    "id": "eom-mr80C5jt",
    "outputId": "dfb0a461-1a98-43de-f729-742bbbc25a43"
   },
   "outputs": [
    {
     "data": {
      "text/plain": [
       "'/Users/sreeku/Downloads/Sreekanth Project/notebooks/development/pickles/model.pkl'"
      ]
     },
     "execution_count": 142,
     "metadata": {},
     "output_type": "execute_result"
    }
   ],
   "source": [
    "import shutil\n",
    "\n",
    "# Source file path (within your Drive)\n",
    "source_file = 'model.pkl'\n",
    "\n",
    "# Destination path (root of your Drive)\n",
    "destination_path = '/Users/sreeku/Downloads/Sreekanth Project/notebooks/development/pickles/model.pkl'\n",
    "\n",
    "# Copy the file\n",
    "shutil.copy(source_file, destination_path)"
   ]
  },
  {
   "cell_type": "markdown",
   "metadata": {
    "id": "gyz7KTPR-jgW"
   },
   "source": [
    "# Part 6 - Gradio"
   ]
  },
  {
   "cell_type": "code",
   "execution_count": 140,
   "metadata": {
    "colab": {
     "base_uri": "https://localhost:8080/"
    },
    "id": "YinVEAiEv5C_",
    "outputId": "6e36b73a-2bd4-445a-c62c-5015288adf37"
   },
   "outputs": [
    {
     "name": "stdout",
     "output_type": "stream",
     "text": [
      "Requirement already satisfied: gradio in /opt/anaconda3/lib/python3.12/site-packages (5.9.0)\n",
      "Requirement already satisfied: aiofiles<24.0,>=22.0 in /opt/anaconda3/lib/python3.12/site-packages (from gradio) (23.2.1)\n",
      "Requirement already satisfied: anyio<5.0,>=3.0 in /opt/anaconda3/lib/python3.12/site-packages (from gradio) (4.2.0)\n",
      "Requirement already satisfied: fastapi<1.0,>=0.115.2 in /opt/anaconda3/lib/python3.12/site-packages (from gradio) (0.115.6)\n",
      "Requirement already satisfied: ffmpy in /opt/anaconda3/lib/python3.12/site-packages (from gradio) (0.4.0)\n",
      "Requirement already satisfied: gradio-client==1.5.2 in /opt/anaconda3/lib/python3.12/site-packages (from gradio) (1.5.2)\n",
      "Requirement already satisfied: httpx>=0.24.1 in /opt/anaconda3/lib/python3.12/site-packages (from gradio) (0.27.0)\n",
      "Requirement already satisfied: huggingface-hub>=0.25.1 in /opt/anaconda3/lib/python3.12/site-packages (from gradio) (0.26.5)\n",
      "Requirement already satisfied: jinja2<4.0 in /opt/anaconda3/lib/python3.12/site-packages (from gradio) (3.1.4)\n",
      "Requirement already satisfied: markupsafe~=2.0 in /opt/anaconda3/lib/python3.12/site-packages (from gradio) (2.1.3)\n",
      "Requirement already satisfied: numpy<3.0,>=1.0 in /opt/anaconda3/lib/python3.12/site-packages (from gradio) (1.26.4)\n",
      "Requirement already satisfied: orjson~=3.0 in /opt/anaconda3/lib/python3.12/site-packages (from gradio) (3.10.12)\n",
      "Requirement already satisfied: packaging in /opt/anaconda3/lib/python3.12/site-packages (from gradio) (23.2)\n",
      "Requirement already satisfied: pandas<3.0,>=1.0 in /opt/anaconda3/lib/python3.12/site-packages (from gradio) (2.2.2)\n",
      "Requirement already satisfied: pillow<12.0,>=8.0 in /opt/anaconda3/lib/python3.12/site-packages (from gradio) (10.3.0)\n",
      "Requirement already satisfied: pydantic>=2.0 in /opt/anaconda3/lib/python3.12/site-packages (from gradio) (2.5.3)\n",
      "Requirement already satisfied: pydub in /opt/anaconda3/lib/python3.12/site-packages (from gradio) (0.25.1)\n",
      "Requirement already satisfied: python-multipart>=0.0.18 in /opt/anaconda3/lib/python3.12/site-packages (from gradio) (0.0.19)\n",
      "Requirement already satisfied: pyyaml<7.0,>=5.0 in /opt/anaconda3/lib/python3.12/site-packages (from gradio) (6.0.1)\n",
      "Requirement already satisfied: ruff>=0.2.2 in /opt/anaconda3/lib/python3.12/site-packages (from gradio) (0.8.3)\n",
      "Requirement already satisfied: safehttpx<0.2.0,>=0.1.6 in /opt/anaconda3/lib/python3.12/site-packages (from gradio) (0.1.6)\n",
      "Requirement already satisfied: semantic-version~=2.0 in /opt/anaconda3/lib/python3.12/site-packages (from gradio) (2.10.0)\n",
      "Requirement already satisfied: starlette<1.0,>=0.40.0 in /opt/anaconda3/lib/python3.12/site-packages (from gradio) (0.41.3)\n",
      "Requirement already satisfied: tomlkit<0.14.0,>=0.12.0 in /opt/anaconda3/lib/python3.12/site-packages (from gradio) (0.13.2)\n",
      "Requirement already satisfied: typer<1.0,>=0.12 in /opt/anaconda3/lib/python3.12/site-packages (from gradio) (0.15.1)\n",
      "Requirement already satisfied: typing-extensions~=4.0 in /opt/anaconda3/lib/python3.12/site-packages (from gradio) (4.11.0)\n",
      "Requirement already satisfied: uvicorn>=0.14.0 in /opt/anaconda3/lib/python3.12/site-packages (from gradio) (0.32.1)\n",
      "Requirement already satisfied: fsspec in /opt/anaconda3/lib/python3.12/site-packages (from gradio-client==1.5.2->gradio) (2024.3.1)\n",
      "Requirement already satisfied: websockets<15.0,>=10.0 in /opt/anaconda3/lib/python3.12/site-packages (from gradio-client==1.5.2->gradio) (14.1)\n",
      "Requirement already satisfied: idna>=2.8 in /opt/anaconda3/lib/python3.12/site-packages (from anyio<5.0,>=3.0->gradio) (3.7)\n",
      "Requirement already satisfied: sniffio>=1.1 in /opt/anaconda3/lib/python3.12/site-packages (from anyio<5.0,>=3.0->gradio) (1.3.0)\n",
      "Requirement already satisfied: certifi in /opt/anaconda3/lib/python3.12/site-packages (from httpx>=0.24.1->gradio) (2024.7.4)\n",
      "Requirement already satisfied: httpcore==1.* in /opt/anaconda3/lib/python3.12/site-packages (from httpx>=0.24.1->gradio) (1.0.2)\n",
      "Requirement already satisfied: h11<0.15,>=0.13 in /opt/anaconda3/lib/python3.12/site-packages (from httpcore==1.*->httpx>=0.24.1->gradio) (0.14.0)\n",
      "Requirement already satisfied: filelock in /opt/anaconda3/lib/python3.12/site-packages (from huggingface-hub>=0.25.1->gradio) (3.13.1)\n",
      "Requirement already satisfied: requests in /opt/anaconda3/lib/python3.12/site-packages (from huggingface-hub>=0.25.1->gradio) (2.32.2)\n",
      "Requirement already satisfied: tqdm>=4.42.1 in /opt/anaconda3/lib/python3.12/site-packages (from huggingface-hub>=0.25.1->gradio) (4.66.4)\n",
      "Requirement already satisfied: python-dateutil>=2.8.2 in /opt/anaconda3/lib/python3.12/site-packages (from pandas<3.0,>=1.0->gradio) (2.9.0.post0)\n",
      "Requirement already satisfied: pytz>=2020.1 in /opt/anaconda3/lib/python3.12/site-packages (from pandas<3.0,>=1.0->gradio) (2024.1)\n",
      "Requirement already satisfied: tzdata>=2022.7 in /opt/anaconda3/lib/python3.12/site-packages (from pandas<3.0,>=1.0->gradio) (2023.3)\n",
      "Requirement already satisfied: annotated-types>=0.4.0 in /opt/anaconda3/lib/python3.12/site-packages (from pydantic>=2.0->gradio) (0.6.0)\n",
      "Requirement already satisfied: pydantic-core==2.14.6 in /opt/anaconda3/lib/python3.12/site-packages (from pydantic>=2.0->gradio) (2.14.6)\n",
      "Requirement already satisfied: click>=8.0.0 in /opt/anaconda3/lib/python3.12/site-packages (from typer<1.0,>=0.12->gradio) (8.1.7)\n",
      "Requirement already satisfied: shellingham>=1.3.0 in /opt/anaconda3/lib/python3.12/site-packages (from typer<1.0,>=0.12->gradio) (1.5.4)\n",
      "Requirement already satisfied: rich>=10.11.0 in /opt/anaconda3/lib/python3.12/site-packages (from typer<1.0,>=0.12->gradio) (13.3.5)\n",
      "Requirement already satisfied: six>=1.5 in /opt/anaconda3/lib/python3.12/site-packages (from python-dateutil>=2.8.2->pandas<3.0,>=1.0->gradio) (1.16.0)\n",
      "Requirement already satisfied: markdown-it-py<3.0.0,>=2.2.0 in /opt/anaconda3/lib/python3.12/site-packages (from rich>=10.11.0->typer<1.0,>=0.12->gradio) (2.2.0)\n",
      "Requirement already satisfied: pygments<3.0.0,>=2.13.0 in /opt/anaconda3/lib/python3.12/site-packages (from rich>=10.11.0->typer<1.0,>=0.12->gradio) (2.15.1)\n",
      "Requirement already satisfied: charset-normalizer<4,>=2 in /opt/anaconda3/lib/python3.12/site-packages (from requests->huggingface-hub>=0.25.1->gradio) (2.0.4)\n",
      "Requirement already satisfied: urllib3<3,>=1.21.1 in /opt/anaconda3/lib/python3.12/site-packages (from requests->huggingface-hub>=0.25.1->gradio) (2.2.2)\n",
      "Requirement already satisfied: mdurl~=0.1 in /opt/anaconda3/lib/python3.12/site-packages (from markdown-it-py<3.0.0,>=2.2.0->rich>=10.11.0->typer<1.0,>=0.12->gradio) (0.1.0)\n"
     ]
    }
   ],
   "source": [
    "!pip install gradio"
   ]
  },
  {
   "cell_type": "code",
   "execution_count": 141,
   "metadata": {
    "colab": {
     "base_uri": "https://localhost:8080/",
     "height": 36
    },
    "id": "SxYS1x8jDIMH",
    "outputId": "fc74ce82-a37c-4f34-e16c-4bf372a1844e"
   },
   "outputs": [
    {
     "data": {
      "text/plain": [
       "'model.pkl'"
      ]
     },
     "execution_count": 141,
     "metadata": {},
     "output_type": "execute_result"
    }
   ],
   "source": [
    "import shutil\n",
    "\n",
    "# Source file path (within your Drive)\n",
    "source_file = '/Users/sreeku/Downloads/Sreekanth Project/notebooks/development/pickles/model.pkl'\n",
    "\n",
    "# Destination path (root of your Drive)\n",
    "destination_path = 'model.pkl'\n",
    "\n",
    "# Copy the file\n",
    "shutil.copy(source_file, destination_path)"
   ]
  },
  {
   "cell_type": "code",
   "execution_count": 144,
   "metadata": {
    "id": "ZTq5A-SP_Qqu"
   },
   "outputs": [],
   "source": [
    "import pickle\n",
    "\n",
    "with open('development/pickles/model.pkl', 'rb') as file:\n",
    "    model = pickle.load(file)"
   ]
  },
  {
   "cell_type": "code",
   "execution_count": 146,
   "metadata": {},
   "outputs": [
    {
     "name": "stdout",
     "output_type": "stream",
     "text": [
      "{'Misses Out': 0.39, 'Subscribes': 0.61}\n"
     ]
    }
   ],
   "source": [
    "import pandas as pd\n",
    "from sklearn.ensemble import RandomForestClassifier\n",
    "from sklearn.model_selection import train_test_split\n",
    "\n",
    "# Sample data (replace this with your actual dataset)\n",
    "X = pd.DataFrame({\n",
    "    \"watch_time\": [1.2, 2.3, -1.0, -0.5, 0.3],\n",
    "    \"avg_view_duration\": [0.5, 0.6, 0.4, 0.3, 0.7],\n",
    "    \"click_through_rate\": [0.2, 0.3, 0.5, 0.1, 0.4],\n",
    "    \"interest\": [1, 0, 1, 0, 1]\n",
    "})\n",
    "y = [1, 0, 1, 0, 1]  # Binary target\n",
    "\n",
    "# Split data into train and test sets\n",
    "X_train, X_test, y_train, y_test = train_test_split(X, y, test_size=0.3, random_state=42)\n",
    "\n",
    "# Train a Random Forest model (this part should be done beforehand)\n",
    "model = RandomForestClassifier(random_state=42, n_estimators=100, max_depth=10)\n",
    "model.fit(X_train, y_train)\n",
    "\n",
    "# Prediction function\n",
    "def predict_subscribe(watch, duration, ctr, interest):\n",
    "    data = [{\"watch_time\": watch, \"avg_view_duration\": duration, \"click_through_rate\": ctr, \"interest\": interest}]\n",
    "    sample = pd.DataFrame(data)\n",
    "    \n",
    "    # Ensure the input sample columns are in the same order as the training data\n",
    "    sample = sample[X.columns]  # Ensure columns match exactly with the training data\n",
    "\n",
    "    # Get predicted probabilities\n",
    "    pred = model.predict_proba(sample)[0]\n",
    "    \n",
    "    return {'Misses Out': pred[0], 'Subscribes': pred[1]}\n",
    "\n",
    "# Test the function\n",
    "print(predict_subscribe(-8.1, 1.4, -0.7, 0))\n"
   ]
  },
  {
   "cell_type": "code",
   "execution_count": 147,
   "metadata": {
    "colab": {
     "base_uri": "https://localhost:8080/",
     "height": 650
    },
    "id": "44CQCUB4v-zl",
    "outputId": "7b95b34e-63c9-4f3e-eaa0-7eb5799be4b3"
   },
   "outputs": [
    {
     "name": "stdout",
     "output_type": "stream",
     "text": [
      "* Running on local URL:  http://127.0.0.1:7860\n",
      "\n",
      "To create a public link, set `share=True` in `launch()`.\n"
     ]
    },
    {
     "data": {
      "text/html": [
       "<div><iframe src=\"http://127.0.0.1:7860/\" width=\"100%\" height=\"500\" allow=\"autoplay; camera; microphone; clipboard-read; clipboard-write;\" frameborder=\"0\" allowfullscreen></iframe></div>"
      ],
      "text/plain": [
       "<IPython.core.display.HTML object>"
      ]
     },
     "metadata": {},
     "output_type": "display_data"
    }
   ],
   "source": [
    "# def predict_subscribe(watch, duration, ctr, interest):\n",
    "import gradio as gr\n",
    "\n",
    "watch = gr.Slider(minimum=-9, maximum=12, label=\"Watch\")\n",
    "duration = gr.Slider(minimum=-4, maximum=4, label=\"Duration\")\n",
    "ctr = gr.Slider(minimum=-5, maximum=5, label=\"Click Through Rate\")\n",
    "interest = gr.Radio([0, 1], label=\"Interest\")\n",
    "\n",
    "gr.Interface(predict_subscribe, [watch, duration, ctr, interest], \"label\", live=False).launch();"
   ]
  }
 ],
 "metadata": {
  "colab": {
   "provenance": [],
   "toc_visible": true
  },
  "kernelspec": {
   "display_name": "base",
   "language": "python",
   "name": "python3"
  },
  "language_info": {
   "codemirror_mode": {
    "name": "ipython",
    "version": 3
   },
   "file_extension": ".py",
   "mimetype": "text/x-python",
   "name": "python",
   "nbconvert_exporter": "python",
   "pygments_lexer": "ipython3",
   "version": "3.12.4"
  }
 },
 "nbformat": 4,
 "nbformat_minor": 0
}
